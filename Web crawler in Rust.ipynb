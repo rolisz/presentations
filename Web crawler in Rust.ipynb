{
 "cells": [
  {
   "cell_type": "code",
   "execution_count": 28,
   "metadata": {
    "slideshow": {
     "slide_type": "skip"
    }
   },
   "outputs": [
    {
     "data": {
      "text/plain": [
       "sccache: true\n"
      ]
     },
     "execution_count": 28,
     "metadata": {},
     "output_type": "execute_result"
    }
   ],
   "source": [
    ":sccache 1"
   ]
  },
  {
   "cell_type": "code",
   "execution_count": 29,
   "metadata": {
    "slideshow": {
     "slide_type": "skip"
    }
   },
   "outputs": [],
   "source": [
    ":dep reqwest = { version = \"0.10\", features = [\"json\", \"blocking\"] }"
   ]
  },
  {
   "cell_type": "code",
   "execution_count": 30,
   "metadata": {
    "slideshow": {
     "slide_type": "skip"
    }
   },
   "outputs": [],
   "source": [
    ":dep quick-xml = { version = \"*\", features = [ \"serialize\" ] }\n"
   ]
  },
  {
   "cell_type": "code",
   "execution_count": 31,
   "metadata": {
    "slideshow": {
     "slide_type": "skip"
    }
   },
   "outputs": [],
   "source": [
    ":dep rayon = { version = \"*\" }\n"
   ]
  },
  {
   "cell_type": "code",
   "execution_count": 32,
   "metadata": {
    "slideshow": {
     "slide_type": "skip"
    }
   },
   "outputs": [],
   "source": [
    ":dep select = \"0.4.3\""
   ]
  },
  {
   "cell_type": "code",
   "execution_count": 69,
   "metadata": {},
   "outputs": [],
   "source": [
    ":dep structopt = \"0.3\""
   ]
  },
  {
   "cell_type": "markdown",
   "metadata": {
    "slideshow": {
     "slide_type": "slide"
    }
   },
   "source": [
    "# Intro to Rust\n",
    "## rolisz@"
   ]
  },
  {
   "cell_type": "markdown",
   "metadata": {
    "slideshow": {
     "slide_type": "subslide"
    }
   },
   "source": [
    "# About me\n",
    "\n",
    "* I worked at Google between 2014 and 2018\n",
    "* Currently TL of AI/ML team at Archive360\n",
    "* I blog at rolisz.ro\n",
    "* Started playing with Rust last year in September, in my free time\n",
    "\n"
   ]
  },
  {
   "cell_type": "markdown",
   "metadata": {
    "slideshow": {
     "slide_type": "slide"
    }
   },
   "source": [
    "# What is Rust?\n",
    "\n",
    "* A language empowering everyone to build reliable and efficient software. https://www.rust-lang.org/\n",
    "* Announced by Mozilla in 2010\n",
    "* Stable release since 2015 (1.0)\n"
   ]
  },
  {
   "cell_type": "markdown",
   "metadata": {
    "slideshow": {
     "slide_type": "subslide"
    }
   },
   "source": [
    "# How?\n"
   ]
  },
  {
   "cell_type": "markdown",
   "metadata": {
    "slideshow": {
     "slide_type": "subslide"
    }
   },
   "source": [
    "## Performance\n",
    "* Fast and memory efficient\n",
    "* No garbage collector\n"
   ]
  },
  {
   "cell_type": "markdown",
   "metadata": {
    "slideshow": {
     "slide_type": "subslide"
    }
   },
   "source": [
    "## Reliability\n",
    "* Very rich type system\n",
    "* Ownership tracking\n",
    "* Guarantees memory and thread safety\n"
   ]
  },
  {
   "cell_type": "markdown",
   "metadata": {
    "slideshow": {
     "slide_type": "subslide"
    }
   },
   "source": [
    "## Productivity\n",
    "\n",
    "* Great documentation\n",
    "* Great error messages\n",
    "* Great tooling \n",
    "    * Cargo - package manager, build tool\n",
    "    * IDE support\n",
    "    * auto-formatter\n",
    "    * Clippy - linter\n",
    "\n"
   ]
  },
  {
   "cell_type": "markdown",
   "metadata": {
    "slideshow": {
     "slide_type": "slide"
    }
   },
   "source": [
    "# Ownership and borrowing\n",
    "\n",
    "* A new and central concept in Rust\n",
    "* Makes a garbage collector unnecessary\n",
    "* While still not making us do manual memory allocation and freeing"
   ]
  },
  {
   "cell_type": "markdown",
   "metadata": {
    "slideshow": {
     "slide_type": "subslide"
    }
   },
   "source": [
    "### Ownership\n",
    "\n",
    "* Each value in Rust has a variable that’s called its owner.\n",
    "* There can only be one owner at a time.\n",
    "* When the owner goes out of scope, the value will be dropped.\n",
    "* Ownership can be transferred by moves"
   ]
  },
  {
   "cell_type": "code",
   "execution_count": 14,
   "metadata": {},
   "outputs": [
    {
     "name": "stdout",
     "output_type": "stream",
     "text": [
      "Do something: Hello, world!\n"
     ]
    }
   ],
   "source": [
    "let x = \"Hello, world!\".to_string();\n",
    "do_something(x);\n",
    "\n",
    "fn do_something(x: String) {\n",
    "    println!(\"Do something: {}\", x);\n",
    "    // x is deallocated here\n",
    "}"
   ]
  },
  {
   "cell_type": "code",
   "execution_count": 13,
   "metadata": {
    "slideshow": {
     "slide_type": "subslide"
    }
   },
   "outputs": [
    {
     "ename": "Error",
     "evalue": "borrow of moved value: `x`",
     "output_type": "error",
     "traceback": [
      "do_something(x);",
      "\u001b[91m             ^\u001b[0m \u001b[94mvalue moved here\u001b[0m",
      "println!(\"{}\", x);",
      "\u001b[91m               ^\u001b[0m \u001b[94mvalue borrowed here after move\u001b[0m",
      "let x = \"Hello, world!\".to_string();",
      "\u001b[91m    ^\u001b[0m \u001b[94mmove occurs because `x` has type `std::string::String`, which does not implement the `Copy` trait\u001b[0m",
      "borrow of moved value: `x`"
     ]
    }
   ],
   "source": [
    "let x = \"Hello, world!\".to_string();\n",
    "do_something(x);\n",
    "println!(\"{}\", x);\n",
    "\n",
    "fn do_something(x: String) {\n",
    "    println!(\"Do something: {}\", x);\n",
    "}"
   ]
  },
  {
   "cell_type": "markdown",
   "metadata": {
    "slideshow": {
     "slide_type": "subslide"
    }
   },
   "source": [
    "### Borrowing\n",
    "\n",
    "* When we pass by reference, we can borrow a value to another function\n",
    "* At any given time, you can have either one mutable reference or any number of immutable references.\n",
    "* References must always be valid.\n"
   ]
  },
  {
   "cell_type": "code",
   "execution_count": 12,
   "metadata": {},
   "outputs": [
    {
     "name": "stdout",
     "output_type": "stream",
     "text": [
      "Do something: Hello, world!\n",
      "Hello, world!\n"
     ]
    }
   ],
   "source": [
    "let x = \"Hello, world!\".to_string();\n",
    "do_something(&x);\n",
    "println!(\"{}\", x);\n",
    "\n",
    "fn do_something(x: &String) {\n",
    "    println!(\"Do something: {}\", x);\n",
    "}"
   ]
  },
  {
   "cell_type": "markdown",
   "metadata": {
    "slideshow": {
     "slide_type": "slide"
    }
   },
   "source": [
    "# Let’s build a web crawler in Rust!\n"
   ]
  },
  {
   "cell_type": "markdown",
   "metadata": {
    "slideshow": {
     "slide_type": "subslide"
    }
   },
   "source": [
    "* Given a URL (http://rolisz.ro), load all the pages that are under that URL\n",
    "  * For example http://rolisz.ro/my-awesome-post\n",
    "  * But not http://oradeatechhub.ro/events\n",
    "* Save a copy of them locally\n"
   ]
  },
  {
   "cell_type": "markdown",
   "metadata": {
    "cell_style": "center",
    "slideshow": {
     "slide_type": "slide"
    }
   },
   "source": [
    "* Interactive, live coding from a prepared notebook\n",
    "* Feel free to ask questions"
   ]
  },
  {
   "cell_type": "code",
   "execution_count": 59,
   "metadata": {
    "cell_style": "center",
    "slideshow": {
     "slide_type": "slide"
    }
   },
   "outputs": [
    {
     "name": "stdout",
     "output_type": "stream",
     "text": [
      "Status for https://rolisz.ro/: 200 OK\n",
      "HTML: <!DOCTYPE html>\n",
      "<html lang=\"en\">\n",
      "<head\n"
     ]
    },
    {
     "data": {
      "text/plain": [
       "()"
      ]
     },
     "execution_count": 59,
     "metadata": {},
     "output_type": "execute_result"
    }
   ],
   "source": [
    "use std::io::Read;\n",
    "use reqwest::Url;\n",
    "use reqwest::blocking::Client;\n",
    "\n",
    "fn main() {\n",
    "    let client = Client::new();\n",
    "    let origin_url = \"https://rolisz.ro/\";\n",
    "    let mut res = client.get(origin_url).send().unwrap();\n",
    "    println!(\"Status for {}: {}\", origin_url, res.status());\n",
    "\n",
    "    let mut body  = String::new();\n",
    "    res.read_to_string(&mut body).unwrap();\n",
    "    println!(\"HTML: {}\", &body[0..40]);\n",
    "}\n",
    "main()"
   ]
  },
  {
   "cell_type": "markdown",
   "metadata": {
    "slideshow": {
     "slide_type": "notes"
    }
   },
   "source": [
    "\n",
    "Instantiate an HTTP client\n",
    "\n",
    "Send the request and `unwrap` it.\n",
    "\n",
    "Read the contents into a string.\n",
    "\n",
    "Variables are immutable by default.\n",
    "\n",
    "Reading the request is also `unwrapped`\n",
    "\n",
    "Print first 40 characters"
   ]
  },
  {
   "cell_type": "markdown",
   "metadata": {
    "slideshow": {
     "slide_type": "slide"
    }
   },
   "source": [
    "## What is `unwrap`?"
   ]
  },
  {
   "cell_type": "markdown",
   "metadata": {
    "slideshow": {
     "slide_type": "fragment"
    }
   },
   "source": [
    "* Rust has a strong type system to handle errors. Most operations that can fail return the following:"
   ]
  },
  {
   "cell_type": "code",
   "execution_count": 21,
   "metadata": {
    "slideshow": {
     "slide_type": "fragment"
    }
   },
   "outputs": [],
   "source": [
    "enum Result<T, E> {\n",
    "    Ok(T),\n",
    "    Err(E),\n",
    "}\n",
    "\n",
    "let success: Result<i32, String> = Result::Ok(1);\n",
    "let error: Result<i32, String> = Result::Err(\"Fail\".to_string());"
   ]
  },
  {
   "cell_type": "markdown",
   "metadata": {
    "slideshow": {
     "slide_type": "fragment"
    }
   },
   "source": [
    "Unwrap transforms from `Result<T,E>` \\=\\> `T` and panics if there is an error."
   ]
  },
  {
   "cell_type": "markdown",
   "metadata": {
    "slideshow": {
     "slide_type": "notes"
    }
   },
   "source": [
    "Unwrap is usually bad practice, you should properly handle the error"
   ]
  },
  {
   "cell_type": "markdown",
   "metadata": {
    "cell_style": "center",
    "slideshow": {
     "slide_type": "slide"
    }
   },
   "source": [
    "## Parsing the HTML "
   ]
  },
  {
   "cell_type": "code",
   "execution_count": 27,
   "metadata": {
    "cell_style": "split",
    "collapsed": true,
    "slideshow": {
     "slide_type": "-"
    }
   },
   "outputs": [
    {
     "name": "stdout",
     "output_type": "stream",
     "text": [
      "URLs: {\n",
      "    \"/2020/05/08/on-text-editors/\",\n",
      "    \"#\",\n",
      "    \"/2020/06/08/happy-decennial/\",\n",
      "    \"/2020/06/14/operating-system-journey/\",\n",
      "    \"/2020/05/20/about-time/\",\n",
      "    \"https://rolisz.ro\",\n",
      "    \"https://feedly.com/i/subscription/feed/https://rolisz.ro/rss/\",\n",
      "    \"/2020/05/11/quarantine-boardgames-plague-inc/\",\n",
      "    \"https://ghost.org\",\n",
      "    \"https://rolisz.ro/about-me/\",\n",
      "    \"/2020/05/05/why-i-blog/\",\n",
      "    \"#subscribe\",\n",
      "    \"/2020/05/19/bridging-networks-with-a-synology-nas/\",\n",
      "    \"/2020/06/07/new-desk-setup/\",\n",
      "    \"/2020/05/16/quarantine-boardgames-itchy-feet/\",\n",
      "    \"/2020/05/18/an-unexpected-error-in-rust/\",\n",
      "    \"https://twitter.com/rolisz\",\n",
      "    \"https://rolisz.ro/projects/\",\n",
      "    \"/2020/06/08/boardgames-party-codenames/\",\n",
      "    \"/2020/05/26/duckduckgo/\",\n",
      "    \"/2020/05/24/bullet-journaling/\",\n",
      "    \"/2020/05/14/travelers/\",\n",
      "    \"/2020/06/15/how-much-does-it-cost-to-run-this-blog/\",\n",
      "    \"/2020/05/15/context-variables-in-python/\",\n",
      "    \"/2020/05/12/productivity-tips-pomodoros/\",\n",
      "    \"/2020/05/06/connecting-to-azure-pypi-repositories/\",\n",
      "    \"https://rolisz.ro/uses/\",\n",
      "    \"/author/rolisz/\",\n",
      "    \"https://www.facebook.com/rolisz\",\n",
      "    \"/2020/06/02/quarantine-boardgames-pandemic/\",\n",
      "    \"/2020/06/01/yard-work/\",\n",
      "    \"/2020/05/09/the-beauty-of-suncuius-part-2/\",\n",
      "    \"/2020/05/07/splitting-up-my-blog/\",\n",
      "    \"/2020/04/11/moving-away-from-gmail/\",\n",
      "    \"/2020/06/10/playing-codenames-with-rust/\",\n",
      "    \"/2020/05/13/adding-search-to-static-ghost/\",\n",
      "    \"javascript:;\",\n",
      "}\n"
     ]
    },
    {
     "data": {
      "text/plain": [
       "()"
      ]
     },
     "execution_count": 27,
     "metadata": {},
     "output_type": "execute_result"
    }
   ],
   "source": [
    "let found_urls = Document::from(body.as_str())\n",
    "    .find(Name(\"a\"))\n",
    "    .filter_map(|n| n.attr(\"href\"))\n",
    "    .map(str::to_string)\n",
    "    .collect::<HashSet<String>>();\n",
    "println!(\"URLs: {:#?}\", found_urls) "
   ]
  },
  {
   "cell_type": "markdown",
   "metadata": {
    "cell_style": "split",
    "slideshow": {
     "slide_type": "fragment"
    }
   },
   "source": [
    "Use a library to parse the HTML.\n",
    "\n",
    "Find `a` elements, that have a `href` field and get only that value. \n",
    "\n",
    "`n.attr('href')` returns an `Option` with the value. \n",
    "\n",
    "Put everything into a `HashSet`, to avoid duplicates.\n",
    "\n",
    "`collect` generates a container of the given type that holds the resulting elements. "
   ]
  },
  {
   "cell_type": "code",
   "execution_count": 28,
   "metadata": {
    "cell_style": "center",
    "hide_input": true,
    "scrolled": true,
    "slideshow": {
     "slide_type": "fragment"
    }
   },
   "outputs": [
    {
     "name": "stdout",
     "output_type": "stream",
     "text": [
      "Status for https://rolisz.ro/: 200 OK\n",
      "URLs: {\n",
      "    \"/2020/05/08/on-text-editors/\",\n",
      "    \"/2020/06/07/new-desk-setup/\",\n",
      "    \"https://www.facebook.com/rolisz\",\n",
      "    \"/2020/05/20/about-time/\",\n",
      "    \"/2020/05/13/adding-search-to-static-ghost/\",\n",
      "    \"https://rolisz.ro\",\n",
      "    \"/2020/05/16/quarantine-boardgames-itchy-feet/\",\n",
      "    \"/2020/03/08/boardgames-party-ha/\",\n",
      "    \"/2020/05/18/an-unexpected-error-in-rust/\",\n",
      "    \"/2020/05/07/splitting-up-my-blog/\",\n",
      "    \"/2020/05/06/connecting-to-azure-pypi-repositories/\",\n",
      "    \"/2020/05/05/why-i-blog/\",\n",
      "    \"/2020/03/18/reflections-during-covid19-times/\",\n",
      "    \"https://rolisz.ro/projects/\",\n",
      "    \"/2020/03/27/quarantine-boardgames-travelin/\",\n",
      "    \"https://rolisz.ro/uses/\",\n",
      "    \"/2020/06/02/quarantine-boardgames-pandemic/\",\n",
      "    \"/2020/05/26/duckduckgo/\",\n",
      "    \"javascript:;\",\n",
      "    \"https://ghost.org\",\n",
      "    \"/2020/05/12/productivity-tips-pomodoros/\",\n",
      "    \"/2020/05/11/quarantine-boardgames-plague-inc/\",\n",
      "    \"/2020/05/15/context-variables-in-python/\",\n",
      "    \"/2020/06/08/happy-decennial/\",\n",
      "    \"/2020/03/01/web-crawler-in-rust/\",\n",
      "    \"https://twitter.com/rolisz\",\n",
      "    \"#subscribe\",\n",
      "    \"/author/rolisz/\",\n",
      "    \"https://rolisz.ro/about-me/\",\n",
      "    \"/2020/05/14/travelers/\",\n",
      "    \"https://feedly.com/i/subscription/feed/https://rolisz.ro/rss/\",\n",
      "    \"/2020/05/24/bullet-journaling/\",\n",
      "    \"/2020/05/09/the-beauty-of-suncuius-part-2/\",\n",
      "    \"/2020/04/11/moving-away-from-gmail/\",\n",
      "    \"#\",\n",
      "    \"/2020/06/01/yard-work/\",\n",
      "    \"/2020/05/19/bridging-networks-with-a-synology-nas/\",\n",
      "}\n"
     ]
    },
    {
     "data": {
      "text/plain": [
       "()"
      ]
     },
     "execution_count": 28,
     "metadata": {},
     "output_type": "execute_result"
    }
   ],
   "source": [
    "use std::io::Read;\n",
    "use select::document::Document;\n",
    "use select::predicate::Name;\n",
    "use std::collections::HashSet;\n",
    "\n",
    "fn main() {\n",
    "    let client = reqwest::blocking::Client::new();\n",
    "    let origin_url = \"https://rolisz.ro/\";\n",
    "    let mut res = client.get(origin_url).send().unwrap();\n",
    "    println!(\"Status for {}: {}\", origin_url, res.status());\n",
    "\n",
    "    let mut body  = String::new();\n",
    "    res.read_to_string(&mut body).unwrap();\n",
    "\n",
    "    let found_urls = Document::from(body.as_str())\n",
    "        .find(Name(\"a\"))\n",
    "        .filter_map(|n| n.attr(\"href\"))\n",
    "        .map(str::to_string)\n",
    "        .collect::<HashSet<String>>();\n",
    "    println!(\"URLs: {:#?}\", found_urls)\n",
    "}\n",
    "\n",
    "main()"
   ]
  },
  {
   "cell_type": "markdown",
   "metadata": {
    "slideshow": {
     "slide_type": "notes"
    }
   },
   "source": []
  },
  {
   "cell_type": "markdown",
   "metadata": {
    "slideshow": {
     "slide_type": "slide"
    }
   },
   "source": [
    "## `Option` type in Rust\n",
    "\n",
    "Sometimes `Result` is too complicated - the result simply doesn't exist and it doesn't mean an error.\n",
    "\n",
    "```rust\n",
    "enum Option<T> {\n",
    "    None,\n",
    "    Some(T),\n",
    "}\n",
    "```\n",
    "\n",
    "For example: searching in a list or retrieving a field. Existence => Some(value), not found => None\n"
   ]
  },
  {
   "cell_type": "markdown",
   "metadata": {
    "cell_style": "center",
    "slideshow": {
     "slide_type": "slide"
    }
   },
   "source": [
    "## Filtering results to only our domain"
   ]
  },
  {
   "cell_type": "code",
   "execution_count": 38,
   "metadata": {
    "cell_style": "split",
    "slideshow": {
     "slide_type": "-"
    }
   },
   "outputs": [],
   "source": [
    "fn normalize_url(url: &str) -> Option<String> {\n",
    "    let new_url = Url::parse(url);\n",
    "    match new_url { \n",
    "        Ok(new_url) => {\n",
    "            if let Some(\"rolisz.ro\") = new_url.host_str() {\n",
    "                Some(url.to_string())\n",
    "            } else {\n",
    "                None\n",
    "            }\n",
    "        },\n",
    "        Err(_e) => {\n",
    "            // Relative urls are not parsed by Reqwest\n",
    "            if url.starts_with('/') {\n",
    "                Some(format!(\"https://rolisz.ro{}\", url))\n",
    "            } else {\n",
    "                None\n",
    "            }\n",
    "        }\n",
    "    }\n",
    "}"
   ]
  },
  {
   "cell_type": "markdown",
   "metadata": {
    "cell_style": "split",
    "slideshow": {
     "slide_type": "fragment"
    }
   },
   "source": [
    "* Match syntax for flow control\n",
    "* if let syntax as a shorthand\n",
    "* implicit returns"
   ]
  },
  {
   "cell_type": "code",
   "execution_count": null,
   "metadata": {
    "slideshow": {
     "slide_type": "notes"
    }
   },
   "outputs": [],
   "source": []
  },
  {
   "cell_type": "markdown",
   "metadata": {
    "slideshow": {
     "slide_type": "slide"
    }
   },
   "source": [
    "## String vs str"
   ]
  },
  {
   "cell_type": "markdown",
   "metadata": {
    "cell_style": "split",
    "slideshow": {
     "slide_type": "fragment"
    }
   },
   "source": [
    "## String\n",
    "\n",
    "* allocated on the heap\n",
    "* is usually owned"
   ]
  },
  {
   "cell_type": "markdown",
   "metadata": {
    "cell_style": "split",
    "slideshow": {
     "slide_type": "fragment"
    }
   },
   "source": [
    "## str\n",
    "\n",
    "* immutable\n",
    "* can be on the heap or stack \n",
    "* used as a read-only view of a string\n",
    "\n"
   ]
  },
  {
   "cell_type": "markdown",
   "metadata": {
    "slideshow": {
     "slide_type": "slide"
    }
   },
   "source": [
    "# Applying the normalization "
   ]
  },
  {
   "cell_type": "code",
   "execution_count": 41,
   "metadata": {
    "cell_style": "center",
    "slideshow": {
     "slide_type": "-"
    }
   },
   "outputs": [],
   "source": [
    "use select::predicate::Predicate;\n",
    "\n",
    "fn get_links_from_html(html: &str) -> HashSet<String> {\n",
    "    Document::from(html)\n",
    "        .find(Name(\"a\").or(Name(\"link\")))\n",
    "        .filter_map(|n| n.attr(\"href\"))\n",
    "        .filter_map(normalize_url)\n",
    "        .collect::<HashSet<String>>()\n",
    "}"
   ]
  },
  {
   "cell_type": "code",
   "execution_count": null,
   "metadata": {
    "slideshow": {
     "slide_type": "notes"
    }
   },
   "outputs": [],
   "source": []
  },
  {
   "cell_type": "markdown",
   "metadata": {
    "slideshow": {
     "slide_type": "slide"
    }
   },
   "source": [
    "# Putting everything together"
   ]
  },
  {
   "cell_type": "code",
   "execution_count": 24,
   "metadata": {
    "cell_style": "center",
    "scrolled": true,
    "slideshow": {
     "slide_type": "-"
    }
   },
   "outputs": [
    {
     "name": "stdout",
     "output_type": "stream",
     "text": [
      "Status for https://rolisz.ro/: 200 OK\n",
      "URLs: {\n",
      "    \"https://rolisz.ro/2020/03/01/web-crawler-in-rust/\",\n",
      "    \"https://rolisz.ro/2020/02/13/lost-in-space/\",\n",
      "    \"https://rolisz.ro/2020/06/07/new-desk-setup/\",\n",
      "    \"https://rolisz.ro/2020/05/24/bullet-journaling/\",\n",
      "    \"https://rolisz.ro/2020/06/01/yard-work/\",\n",
      "    \"https://rolisz.ro/2020/05/26/duckduckgo/\",\n",
      "    \"https://rolisz.ro/2020/04/11/moving-away-from-gmail/\",\n",
      "    \"https://rolisz.ro/2020/03/18/reflections-during-covid19-times/\",\n",
      "    \"https://rolisz.ro/2020/05/20/about-time/\",\n",
      "    \"https://rolisz.ro/2020/05/07/splitting-up-my-blog/\",\n",
      "    \"https://rolisz.ro/2020/05/13/adding-search-to-static-ghost/\",\n",
      "    \"https://rolisz.ro/2020/03/27/quarantine-boardgames-travelin/\",\n",
      "    \"https://rolisz.ro/2020/05/14/travelers/\",\n",
      "    \"https://rolisz.ro/assets/built/screen.css?v=0df9ee8832\",\n",
      "    \"https://rolisz.ro/favicon.ico\",\n",
      "    \"https://rolisz.ro/2020/05/16/quarantine-boardgames-itchy-feet/\",\n",
      "    \"https://rolisz.ro/2020/05/12/productivity-tips-pomodoros/\",\n",
      "    \"https://rolisz.ro/2020/06/02/quarantine-boardgames-pandemic/\",\n",
      "    \"https://rolisz.ro/2020/05/08/on-text-editors/\",\n",
      "    \"https://rolisz.ro/2020/05/06/connecting-to-azure-pypi-repositories/\",\n",
      "    \"https://rolisz.ro/author/rolisz/\",\n",
      "    \"https://rolisz.ro/2020/05/05/why-i-blog/\",\n",
      "    \"https://rolisz.ro/2020/03/08/boardgames-party-ha/\",\n",
      "    \"https://rolisz.ro/2020/05/15/context-variables-in-python/\",\n",
      "    \"https://rolisz.ro/2020/05/09/the-beauty-of-suncuius-part-2/\",\n",
      "    \"https://rolisz.ro/2020/05/18/an-unexpected-error-in-rust/\",\n",
      "    \"https://rolisz.ro/2020/05/11/quarantine-boardgames-plague-inc/\",\n",
      "    \"https://rolisz.ro/2020/05/19/bridging-networks-with-a-synology-nas/\",\n",
      "}\n"
     ]
    },
    {
     "data": {
      "text/plain": [
       "()"
      ]
     },
     "execution_count": 24,
     "metadata": {},
     "output_type": "execute_result"
    }
   ],
   "source": [
    "fn main() {\n",
    "    let client = reqwest::blocking::Client::new();\n",
    "    let origin_url = \"https://rolisz.ro/\";\n",
    "    let mut res = client.get(origin_url).send().unwrap();\n",
    "    println!(\"Status for {}: {}\", origin_url, res.status());\n",
    "\n",
    "    let mut body = String::new();\n",
    "    res.read_to_string(&mut body).unwrap();\n",
    "\n",
    "    let found_urls = get_links_from_html(&body);\n",
    "    println!(\"URLs: {:#?}\", found_urls)\n",
    "}\n",
    "main()"
   ]
  },
  {
   "cell_type": "code",
   "execution_count": null,
   "metadata": {
    "slideshow": {
     "slide_type": "notes"
    }
   },
   "outputs": [],
   "source": []
  },
  {
   "cell_type": "markdown",
   "metadata": {
    "slideshow": {
     "slide_type": "slide"
    }
   },
   "source": [
    "# Refactor fetching into a function"
   ]
  },
  {
   "cell_type": "code",
   "execution_count": 36,
   "metadata": {
    "cell_style": "center",
    "slideshow": {
     "slide_type": "slide"
    }
   },
   "outputs": [],
   "source": [
    "fn fetch_url(client: &Client, url: &str) -> String {\n",
    "    let mut res = client.get(url).send().unwrap();\n",
    "    println!(\"Status for {}: {}\", url, res.status());\n",
    "\n",
    "    let mut body  = String::new();\n",
    "    res.read_to_string(&mut body).unwrap();\n",
    "    body  \n",
    "}"
   ]
  },
  {
   "cell_type": "code",
   "execution_count": null,
   "metadata": {
    "slideshow": {
     "slide_type": "notes"
    }
   },
   "outputs": [],
   "source": []
  },
  {
   "cell_type": "markdown",
   "metadata": {
    "slideshow": {
     "slide_type": "slide"
    }
   },
   "source": [
    "# Visiting found URLs too"
   ]
  },
  {
   "cell_type": "code",
   "execution_count": 33,
   "metadata": {
    "cell_style": "split",
    "collapsed": true,
    "slideshow": {
     "slide_type": "-"
    }
   },
   "outputs": [
    {
     "ename": "Error",
     "evalue": "Failed to determine type of variable `client`. rustc suggested type reqwest::blocking::client::Client, but that's private. Sometimes adding an extern crate will help rustc suggest the correct public type name, or you can give an explicit type.",
     "output_type": "error",
     "traceback": [
      "Failed to determine type of variable `client`. rustc suggested type reqwest::blocking::client::Client, but that's private. Sometimes adding an extern crate will help rustc suggest the correct public type name, or you can give an explicit type."
     ]
    }
   ],
   "source": [
    "let mut new_urls = found_urls;\n",
    "while !new_urls.is_empty() {\n",
    "    let mut found_urls = new_urls.iter()\n",
    "    .map(|url| {\n",
    "        let body = fetch_url(&client, url);\n",
    "        let links = get_links_from_html(&body);\n",
    "        println!(\"Visited: {} found {} links\", \n",
    "            url, links.len());\n",
    "        links\n",
    "    }).fold(HashSet::new(), |mut acc, x| {\n",
    "            acc.extend(x);\n",
    "            acc\n",
    "    });\n",
    "    visited.extend(new_urls);\n",
    "\n",
    "    new_urls = found_urls\n",
    "        .difference(&visited)\n",
    "        .map(|x| x.to_string())\n",
    "        .collect::<HashSet<String>>();\n",
    "    println!(\"New urls: {}\", new_urls.len())\n",
    "}"
   ]
  },
  {
   "cell_type": "markdown",
   "metadata": {
    "cell_style": "split"
   },
   "source": [
    "### Algorithm:\n",
    "\n",
    "Take all URLs found on home page and crawl them. \n",
    "\n",
    "Check what new URLs we find and repeat until we don't find any new URLs.\n",
    "\n",
    "### Rust:\n",
    "\n",
    "* Using `iter` to go over all elements of the array\n",
    "* Using `fold` to join all the results into a single `HashSet`.\n",
    "* Using a functional-ish style"
   ]
  },
  {
   "cell_type": "code",
   "execution_count": 36,
   "metadata": {
    "cell_style": "center",
    "hide_input": true,
    "scrolled": true,
    "slideshow": {
     "slide_type": "fragment"
    }
   },
   "outputs": [
    {
     "name": "stdout",
     "output_type": "stream",
     "text": [
      "Status for https://rolisz.ro/: 200 OK\n",
      "Status for https://rolisz.ro/favicon.ico: 200 OK\n"
     ]
    },
    {
     "name": "stderr",
     "output_type": "stream",
     "text": [
      "thread '<unnamed>' panicked at 'called `Result::unwrap()` on an `Err` value: Custom { kind: InvalidData, error: \"stream did not contain valid UTF-8\" }', src\\lib.rs:55:5\n",
      "stack backtrace:\n",
      "   0: <std::sys_common::backtrace::_print::DisplayBacktrace as core::fmt::Display>::fmt\n",
      "   1: core::fmt::write\n",
      "   2: <std::io::IoSlice as core::fmt::Debug>::fmt\n",
      "   3: std::panicking::take_hook\n",
      "   4: std::panicking::take_hook\n",
      "   5: std::panicking::rust_panic_with_hook\n",
      "   6: rust_begin_unwind\n",
      "   7: core::panicking::panic_fmt\n",
      "   8: core::option::expect_none_failed\n",
      "   9: ctx::fetch_url\n",
      "  10: <core::iter::adapters::Map<I,F> as core::iter::traits::iterator::Iterator>::fold\n",
      "  11: run_user_code_23\n",
      "  12: <unknown>\n",
      "  13: <unknown>\n",
      "  14: <unknown>\n",
      "  15: <unknown>\n",
      "  16: <unknown>\n",
      "  17: <unknown>\n",
      "  18: <unknown>\n",
      "  19: <unknown>\n",
      "  20: <unknown>\n",
      "  21: BaseThreadInitThunk\n",
      "  22: RtlUserThreadStart\n",
      "note: Some details are omitted, run with `RUST_BACKTRACE=full` for a verbose backtrace.\n"
     ]
    },
    {
     "ename": "Error",
     "evalue": "Child process terminated with status: exit code: 101",
     "output_type": "error",
     "traceback": [
      "Child process terminated with status: exit code: 101"
     ]
    }
   ],
   "source": [
    "use std::time::Instant;\n",
    "\n",
    "fn main() {\n",
    "    let now = Instant::now();\n",
    "\n",
    "    let client = reqwest::blocking::Client::new();\n",
    "    let origin_url = \"https://rolisz.ro/\";\n",
    "\n",
    "    let body = fetch_url(&client, origin_url);\n",
    "\n",
    "    let mut visited = HashSet::new();\n",
    "    visited.insert(origin_url.to_string());\n",
    "    let found_urls = get_links_from_html(&body);\n",
    "    let mut new_urls = found_urls\n",
    "        .difference(&visited)\n",
    "        .map(|x| x.to_string())\n",
    "        .collect::<HashSet<String>>();\n",
    "\n",
    "    while !new_urls.is_empty() {\n",
    "        let mut found_urls = new_urls.iter().map(|url| {\n",
    "            let body = fetch_url(&client, url);\n",
    "            let links = get_links_from_html(&body);\n",
    "            println!(\"Visited: {} found {} links\", url, links.len());\n",
    "            links\n",
    "        }).fold(HashSet::new(), |mut acc, x| {\n",
    "                acc.extend(x);\n",
    "                acc\n",
    "        });\n",
    "        visited.extend(new_urls);\n",
    "        \n",
    "        new_urls = found_urls\n",
    "            .difference(&visited)\n",
    "            .map(|x| x.to_string())\n",
    "            .collect::<HashSet<String>>();\n",
    "        println!(\"New urls: {}\", new_urls.len())\n",
    "    }\n",
    "    println!(\"URLs: {:#?}\", found_urls);\n",
    "    println!(\"{}\", now.elapsed().as_secs());\n",
    "\n",
    "}\n",
    "main()"
   ]
  },
  {
   "cell_type": "markdown",
   "metadata": {
    "slideshow": {
     "slide_type": "slide"
    }
   },
   "source": [
    "# Filtering out non-HTML links based on presence of extension"
   ]
  },
  {
   "cell_type": "code",
   "execution_count": 57,
   "metadata": {
    "cell_style": "split",
    "scrolled": true,
    "slideshow": {
     "slide_type": "-"
    }
   },
   "outputs": [
    {
     "name": "stdout",
     "output_type": "stream",
     "text": [
      "Status for https://rolisz.ro/: 200 OK\n",
      "HTML: <!DOCTYPE html>\n",
      "<html lang=\"en\">\n",
      "<head\n"
     ]
    },
    {
     "data": {
      "text/plain": [
       "()"
      ]
     },
     "execution_count": 57,
     "metadata": {},
     "output_type": "execute_result"
    }
   ],
   "source": [
    "use std::path::Path;\n",
    "\n",
    "fn has_extension(url: &&str) -> bool {\n",
    "    Path::new(url).extension().is_none()\n",
    "}\n",
    "\n",
    "fn get_links_from_html(html: &str) -> HashSet<String> {\n",
    "    Document::from(html)\n",
    "        .find(Name(\"a\").or(Name(\"link\")))\n",
    "        .filter_map(|n| n.attr(\"href\"))\n",
    "        .filter(has_extension)\n",
    "        .filter_map(normalize_url)\n",
    "        .collect::<HashSet<String>>()\n",
    "}\n",
    "\n",
    "main()"
   ]
  },
  {
   "cell_type": "markdown",
   "metadata": {
    "cell_style": "split",
    "slideshow": {
     "slide_type": "fragment"
    }
   },
   "source": [
    "* use stdlib `Path` parser to get extension\n",
    "* returns `Option`\n",
    "* `is_none` checks what the option contains"
   ]
  },
  {
   "cell_type": "code",
   "execution_count": null,
   "metadata": {
    "slideshow": {
     "slide_type": "notes"
    }
   },
   "outputs": [],
   "source": []
  },
  {
   "cell_type": "markdown",
   "metadata": {
    "slideshow": {
     "slide_type": "slide"
    }
   },
   "source": [
    "# Let's write the pages to disk"
   ]
  },
  {
   "cell_type": "code",
   "execution_count": 34,
   "metadata": {
    "cell_style": "split",
    "slideshow": {
     "slide_type": "-"
    }
   },
   "outputs": [],
   "source": [
    "use std::fs;\n",
    "\n",
    "\n",
    "fn write_file(path: &str, content: &str) {\n",
    "    fs::create_dir_all(format!(\"static{}\", path)).unwrap();\n",
    "    fs::write(format!(\"static{}/index.html\", path), content);\n",
    "}"
   ]
  },
  {
   "cell_type": "markdown",
   "metadata": {
    "cell_style": "split",
    "slideshow": {
     "slide_type": "fragment"
    }
   },
   "source": [
    "* Create the folder structure, including all parents\n",
    "* Write the file to `index.html` in that folder"
   ]
  },
  {
   "cell_type": "code",
   "execution_count": 49,
   "metadata": {
    "cell_style": "center",
    "hide_input": true,
    "scrolled": true,
    "slideshow": {
     "slide_type": "fragment"
    }
   },
   "outputs": [
    {
     "name": "stdout",
     "output_type": "stream",
     "text": [
      "Status for https://rolisz.ro/: 200 OK\n",
      "Status for https://rolisz.ro/2020/06/14/operating-system-journey/: 200 OK\n",
      "Visited: https://rolisz.ro/2020/06/14/operating-system-journey/ found 18 links\n",
      "Status for https://rolisz.ro/2020/05/19/bridging-networks-with-a-synology-nas/: 200 OK\n",
      "Visited: https://rolisz.ro/2020/05/19/bridging-networks-with-a-synology-nas/ found 13 links\n",
      "Status for https://rolisz.ro/projects/: 200 OK\n",
      "Visited: https://rolisz.ro/projects/ found 19 links\n",
      "Status for https://rolisz.ro/2020/05/11/quarantine-boardgames-plague-inc/: 200 OK\n",
      "Visited: https://rolisz.ro/2020/05/11/quarantine-boardgames-plague-inc/ found 14 links\n",
      "Status for https://rolisz.ro/page/2/: 200 OK\n",
      "Visited: https://rolisz.ro/page/2/ found 34 links\n",
      "Status for https://rolisz.ro/2020/05/12/productivity-tips-pomodoros/: 200 OK\n",
      "Visited: https://rolisz.ro/2020/05/12/productivity-tips-pomodoros/ found 14 links\n",
      "Status for https://rolisz.ro/2020/05/24/bullet-journaling/: 200 OK\n",
      "Visited: https://rolisz.ro/2020/05/24/bullet-journaling/ found 13 links\n",
      "Status for https://rolisz.ro/2020/05/20/about-time/: 200 OK\n",
      "Visited: https://rolisz.ro/2020/05/20/about-time/ found 13 links\n",
      "Status for https://rolisz.ro/2020/06/15/how-much-does-it-cost-to-run-this-blog/: 200 OK\n",
      "Visited: https://rolisz.ro/2020/06/15/how-much-does-it-cost-to-run-this-blog/ found 14 links\n",
      "Status for https://rolisz.ro/tech/rss/: 200 OK\n",
      "Visited: https://rolisz.ro/tech/rss/ found 12 links\n",
      "Status for https://rolisz.ro/2020/05/14/travelers/: 200 OK\n",
      "Visited: https://rolisz.ro/2020/05/14/travelers/ found 14 links\n",
      "Status for https://rolisz.ro/2020/05/09/the-beauty-of-suncuius-part-2/: 200 OK\n",
      "Visited: https://rolisz.ro/2020/05/09/the-beauty-of-suncuius-part-2/ found 15 links\n",
      "Status for https://rolisz.ro/2020/05/06/connecting-to-azure-pypi-repositories/: 200 OK\n",
      "Visited: https://rolisz.ro/2020/05/06/connecting-to-azure-pypi-repositories/ found 11 links\n",
      "Status for https://rolisz.ro/personal/rss/: 200 OK\n",
      "Visited: https://rolisz.ro/personal/rss/ found 7 links\n",
      "Status for https://rolisz.ro/about-me/: 200 OK\n",
      "Visited: https://rolisz.ro/about-me/ found 6 links\n",
      "Status for https://rolisz.ro/2020/05/05/why-i-blog/: 200 OK\n",
      "Visited: https://rolisz.ro/2020/05/05/why-i-blog/ found 16 links\n",
      "Status for https://rolisz.ro/2020/06/08/happy-decennial/: 200 OK\n",
      "Visited: https://rolisz.ro/2020/06/08/happy-decennial/ found 17 links\n",
      "Status for https://rolisz.ro/2020/06/27/pixel-3a/: 200 OK\n",
      "Visited: https://rolisz.ro/2020/06/27/pixel-3a/ found 13 links\n",
      "Status for https://rolisz.ro/author/rolisz/: 200 OK\n",
      "Visited: https://rolisz.ro/author/rolisz/ found 33 links\n",
      "Status for https://rolisz.ro/2020/06/08/boardgames-party-codenames/: 200 OK\n",
      "Visited: https://rolisz.ro/2020/06/08/boardgames-party-codenames/ found 13 links\n",
      "Status for https://rolisz.ro/2020/05/13/adding-search-to-static-ghost/: 200 OK\n",
      "Visited: https://rolisz.ro/2020/05/13/adding-search-to-static-ghost/ found 14 links\n",
      "Status for https://rolisz.ro/2020/05/07/splitting-up-my-blog/: 200 OK\n",
      "Visited: https://rolisz.ro/2020/05/07/splitting-up-my-blog/ found 14 links\n",
      "Status for https://rolisz.ro/rss/: 200 OK\n",
      "Visited: https://rolisz.ro/rss/ found 9 links\n",
      "Status for https://rolisz.ro/2020/05/15/context-variables-in-python/: 200 OK\n",
      "Visited: https://rolisz.ro/2020/05/15/context-variables-in-python/ found 14 links\n",
      "Status for https://rolisz.ro/2020/05/08/on-text-editors/: 200 OK\n",
      "Visited: https://rolisz.ro/2020/05/08/on-text-editors/ found 15 links\n",
      "Status for https://rolisz.ro/2020/06/10/playing-codenames-with-rust/: 200 OK\n",
      "Visited: https://rolisz.ro/2020/06/10/playing-codenames-with-rust/ found 14 links\n",
      "Status for https://rolisz.ro/2020/06/02/quarantine-boardgames-pandemic/: 200 OK\n",
      "Visited: https://rolisz.ro/2020/06/02/quarantine-boardgames-pandemic/ found 14 links\n",
      "Status for https://rolisz.ro/2020/05/26/duckduckgo/: 200 OK\n",
      "Visited: https://rolisz.ro/2020/05/26/duckduckgo/ found 14 links\n",
      "Status for https://rolisz.ro/2020/05/18/an-unexpected-error-in-rust/: 200 OK\n",
      "Visited: https://rolisz.ro/2020/05/18/an-unexpected-error-in-rust/ found 14 links\n",
      "Status for https://rolisz.ro/uses/: 200 OK\n",
      "Visited: https://rolisz.ro/uses/ found 9 links\n",
      "Status for https://rolisz.ro/2020/05/16/quarantine-boardgames-itchy-feet/: 200 OK\n",
      "Visited: https://rolisz.ro/2020/05/16/quarantine-boardgames-itchy-feet/ found 14 links\n",
      "Status for https://rolisz.ro/2020/06/01/yard-work/: 200 OK\n",
      "Visited: https://rolisz.ro/2020/06/01/yard-work/ found 14 links\n",
      "Status for https://rolisz.ro/2020/06/07/new-desk-setup/: 200 OK\n",
      "Visited: https://rolisz.ro/2020/06/07/new-desk-setup/ found 14 links\n",
      "New urls: 70\n",
      "Status for https://rolisz.ro/tag/boardgames/: 200 OK\n",
      "Visited: https://rolisz.ro/tag/boardgames/ found 22 links\n",
      "Status for https://rolisz.ro/2010/06/18/used-by-me-1/: 200 OK\n",
      "Visited: https://rolisz.ro/2010/06/18/used-by-me-1/ found 14 links\n",
      "Status for https://rolisz.ro/tag/tech/: 200 OK\n",
      "Visited: https://rolisz.ro/tag/tech/ found 28 links\n",
      "Status for https://rolisz.ro/2019/12/25/the-rise-of-skywalker/: 200 OK\n",
      "Visited: https://rolisz.ro/2019/12/25/the-rise-of-skywalker/ found 15 links\n",
      "Status for https://rolisz.ro/tag/hiking/: 200 OK\n",
      "Visited: https://rolisz.ro/tag/hiking/ found 18 links\n",
      "Status for https://rolisz.ro/2019/09/29/ad-astra/: 200 OK\n",
      "Visited: https://rolisz.ro/2019/09/29/ad-astra/ found 16 links\n",
      "Status for https://rolisz.ro/2019/01/06/man-and-car-versus-nature-2/: 200 OK\n",
      "Visited: https://rolisz.ro/2019/01/06/man-and-car-versus-nature-2/ found 15 links\n",
      "Status for https://rolisz.ro/projects/ant/#[[[1,-1,0],[2,-1,0],[3,1,0],[0,1,0]]]: 200 OK\n",
      "Visited: https://rolisz.ro/projects/ant/#[[[1,-1,0],[2,-1,0],[3,1,0],[0,1,0]]] found 0 links\n",
      "Status for https://rolisz.ro/2020/04/11/moving-away-from-gmail/: 200 OK\n",
      "Visited: https://rolisz.ro/2020/04/11/moving-away-from-gmail/ found 14 links\n",
      "Status for https://rolisz.ro/2019/11/30/boardgames-party-tokaido/: 200 OK\n",
      "Visited: https://rolisz.ro/2019/11/30/boardgames-party-tokaido/ found 14 links\n",
      "Status for https://rolisz.ro/2019/11/04/john-lennox-in-cluj/: 200 OK\n",
      "Visited: https://rolisz.ro/2019/11/04/john-lennox-in-cluj/ found 13 links\n",
      "Status for https://rolisz.ro/2019/12/30/cracking-the-human-memory/: 200 OK\n",
      "Visited: https://rolisz.ro/2019/12/30/cracking-the-human-memory/ found 14 links\n",
      "Status for https://rolisz.ro/2019/10/26/better-than-us/: 200 OK\n",
      "Visited: https://rolisz.ro/2019/10/26/better-than-us/ found 14 links\n",
      "Status for https://rolisz.ro/2019/03/24/old-man-s-cave/: 200 OK\n",
      "Visited: https://rolisz.ro/2019/03/24/old-man-s-cave/ found 16 links\n",
      "Status for https://rolisz.ro/2020/01/05/moving-to-ghost/: 200 OK\n",
      "Visited: https://rolisz.ro/2020/01/05/moving-to-ghost/ found 16 links\n",
      "Status for https://rolisz.ro/tag/reviews/: 200 OK\n",
      "Visited: https://rolisz.ro/tag/reviews/ found 34 links\n",
      "Status for https://rolisz.ro/tag/devops/: 200 OK\n",
      "Visited: https://rolisz.ro/tag/devops/ found 9 links\n",
      "Status for https://rolisz.ro/2014/09/21/big-changes/: 200 OK\n",
      "Visited: https://rolisz.ro/2014/09/21/big-changes/ found 14 links\n",
      "Status for https://rolisz.ro/2020/03/18/reflections-during-covid19-times/: 200 OK\n",
      "Visited: https://rolisz.ro/2020/03/18/reflections-during-covid19-times/ found 14 links\n",
      "Status for https://rolisz.ro/2010/10/23/dicotomia-mea/: 200 OK\n",
      "Visited: https://rolisz.ro/2010/10/23/dicotomia-mea/ found 11 links\n",
      "Status for https://rolisz.ro/projects/ant/#[[[1,-1,1],[1,-1,1]],[[1,1,1],[0,0,0]]]: 200 OK\n",
      "Visited: https://rolisz.ro/projects/ant/#[[[1,-1,1],[1,-1,1]],[[1,1,1],[0,0,0]]] found 0 links\n",
      "Status for https://rolisz.ro/2018/05/29/real-estate-cohort-analysis/: 200 OK\n",
      "Visited: https://rolisz.ro/2018/05/29/real-estate-cohort-analysis/ found 14 links\n",
      "Status for https://rolisz.ro/2015/06/08/happy-5th-birthday/: 200 OK\n",
      "Visited: https://rolisz.ro/2015/06/08/happy-5th-birthday/ found 16 links\n",
      "Status for https://rolisz.ro/2016/06/19/the-rise-and-fall-of-the-yahoo-messenger-empire/: 200 OK\n",
      "Visited: https://rolisz.ro/2016/06/19/the-rise-and-fall-of-the-yahoo-messenger-empire/ found 11 links\n",
      "Status for https://rolisz.ro/2013/04/18/neural-networks-in-python/#isso-2324: 200 OK\n",
      "Visited: https://rolisz.ro/2013/04/18/neural-networks-in-python/#isso-2324 found 14 links\n",
      "Status for https://rolisz.ro/2020/01/02/boardgames-party-rival-restaurants/: 200 OK\n"
     ]
    },
    {
     "name": "stdout",
     "output_type": "stream",
     "text": [
      "Visited: https://rolisz.ro/2020/01/02/boardgames-party-rival-restaurants/ found 14 links\n",
      "Status for https://rolisz.ro/2012/06/29/a-tale-of-two-interviews/: 200 OK\n",
      "Visited: https://rolisz.ro/2012/06/29/a-tale-of-two-interviews/ found 14 links\n",
      "Status for https://rolisz.ro/2020/03/27/quarantine-boardgames-travelin/: 200 OK\n",
      "Visited: https://rolisz.ro/2020/03/27/quarantine-boardgames-travelin/ found 15 links\n",
      "Status for https://rolisz.ro/2019/11/25/git-tutorial-part-3/: 200 OK\n",
      "Visited: https://rolisz.ro/2019/11/25/git-tutorial-part-3/ found 14 links\n",
      "Status for https://rolisz.ro/page/3/: 200 OK\n",
      "Visited: https://rolisz.ro/page/3/ found 35 links\n",
      "Status for https://rolisz.ro/2020/01/21/blogs-are-best-served-static/: 200 OK\n",
      "Visited: https://rolisz.ro/2020/01/21/blogs-are-best-served-static/ found 14 links\n",
      "Status for https://rolisz.ro/2018/05/07/scraping-for-houses/: 200 OK\n",
      "Visited: https://rolisz.ro/2018/05/07/scraping-for-houses/ found 12 links\n",
      "Status for https://rolisz.ro/2010/06/18/windows-visual-styles/: 200 OK\n",
      "Visited: https://rolisz.ro/2010/06/18/windows-visual-styles/ found 11 links\n",
      "Status for https://rolisz.ro/2016/01/27/dockerizing-a-static-blog/: 200 OK\n",
      "Visited: https://rolisz.ro/2016/01/27/dockerizing-a-static-blog/ found 15 links\n",
      "Status for https://rolisz.ro/projects/ant/#[[[0,0,1],[0,-2,1]],[[1,1,1],[0,0,1]]]: 200 OK\n",
      "Visited: https://rolisz.ro/projects/ant/#[[[0,0,1],[0,-2,1]],[[1,1,1],[0,0,1]]] found 0 links\n",
      "Status for https://rolisz.ro/2020/02/13/lost-in-space/: 200 OK\n",
      "Visited: https://rolisz.ro/2020/02/13/lost-in-space/ found 14 links\n",
      "Status for https://rolisz.ro/2020/01/18/moving-from-acrylamid-to-ghost/: 200 OK\n",
      "Visited: https://rolisz.ro/2020/01/18/moving-from-acrylamid-to-ghost/ found 18 links\n",
      "Status for https://rolisz.ro/2018/07/12/the-expanse/: 200 OK\n",
      "Visited: https://rolisz.ro/2018/07/12/the-expanse/ found 14 links\n",
      "Status for https://rolisz.ro/2011/06/03/furnica-lui-langton-turmite-si-automate-celulare/: 200 OK\n",
      "Visited: https://rolisz.ro/2011/06/03/furnica-lui-langton-turmite-si-automate-celulare/ found 15 links\n",
      "Status for https://rolisz.ro/tag/blog/: 200 OK\n",
      "Visited: https://rolisz.ro/tag/blog/ found 34 links\n",
      "Status for https://rolisz.ro/2017/03/02/backing-up-2-the-nas/: 200 OK\n",
      "Visited: https://rolisz.ro/2017/03/02/backing-up-2-the-nas/ found 14 links\n",
      "Status for https://rolisz.ro/2012/08/20/processing-im-logs/: 200 OK\n",
      "Visited: https://rolisz.ro/2012/08/20/processing-im-logs/ found 14 links\n",
      "Status for https://rolisz.ro/2019/11/17/the-iron-path/: 200 OK\n",
      "Visited: https://rolisz.ro/2019/11/17/the-iron-path/ found 14 links\n",
      "Status for https://rolisz.ro/projects/ant/: 200 OK\n",
      "Visited: https://rolisz.ro/projects/ant/ found 0 links\n",
      "Status for https://rolisz.ro/tag/tv-shows/: 200 OK\n",
      "Visited: https://rolisz.ro/tag/tv-shows/ found 24 links\n",
      "Status for https://rolisz.ro/2012/02/19/simplu-calculator-in-python-partea-3/: 200 OK\n",
      "Visited: https://rolisz.ro/2012/02/19/simplu-calculator-in-python-partea-3/ found 14 links\n",
      "Status for https://rolisz.ro/tag/programming/: 200 OK\n",
      "Visited: https://rolisz.ro/tag/programming/ found 34 links\n",
      "Status for https://rolisz.ro/2020/02/07/interview-about-wfh/: 200 OK\n",
      "Visited: https://rolisz.ro/2020/02/07/interview-about-wfh/ found 14 links\n",
      "Status for https://rolisz.ro/2020/01/01/2019-in-review/: 200 OK\n",
      "Visited: https://rolisz.ro/2020/01/01/2019-in-review/ found 14 links\n",
      "Status for https://rolisz.ro/projects/ant/#[[[1,-1,1],[0,1,0]],[[1,-1,1],[1,-1,2]],[[1,1,1],[0,0,2]]]: 200 OK\n",
      "Visited: https://rolisz.ro/projects/ant/#[[[1,-1,1],[0,1,0]],[[1,-1,1],[1,-1,2]],[[1,1,1],[0,0,2]]] found 0 links\n",
      "Status for https://rolisz.ro/2010/08/13/used-by-me-4/: 200 OK\n",
      "Visited: https://rolisz.ro/2010/08/13/used-by-me-4/ found 15 links\n",
      "Status for https://rolisz.ro/2020/01/26/7-wonders-duel/: 200 OK\n",
      "Visited: https://rolisz.ro/2020/01/26/7-wonders-duel/ found 14 links\n",
      "Status for https://rolisz.ro/tag/personal/: 200 OK\n",
      "Visited: https://rolisz.ro/tag/personal/ found 34 links\n",
      "Status for https://rolisz.ro/2019/01/30/nas-outage-1/: 200 OK\n",
      "Visited: https://rolisz.ro/2019/01/30/nas-outage-1/ found 14 links\n",
      "Status for https://rolisz.ro/2017/04/01/indexing-im-logs-with-elasticsearch/: 200 OK\n",
      "Visited: https://rolisz.ro/2017/04/01/indexing-im-logs-with-elasticsearch/ found 15 links\n",
      "Status for https://rolisz.ro/2010/06/20/used-by-me-2/: 200 OK\n",
      "Visited: https://rolisz.ro/2010/06/20/used-by-me-2/ found 14 links\n",
      "Status for https://rolisz.ro/tag/networking/: 200 OK\n",
      "Visited: https://rolisz.ro/tag/networking/ found 10 links\n",
      "Status for https://rolisz.ro/2014/07/20/frumusetea-vadului-si-a-suncuiusului/: 200 OK\n",
      "Visited: https://rolisz.ro/2014/07/20/frumusetea-vadului-si-a-suncuiusului/ found 14 links\n",
      "Status for https://rolisz.ro/2020/03/08/boardgames-party-ha/: 200 OK\n",
      "Visited: https://rolisz.ro/2020/03/08/boardgames-party-ha/ found 14 links\n",
      "Status for https://rolisz.ro/2018/03/10/dell-xps-13-review/: 200 OK\n",
      "Visited: https://rolisz.ro/2018/03/10/dell-xps-13-review/ found 14 links\n",
      "Status for https://rolisz.ro/2019/05/25/vot-26-mai/: 200 OK\n",
      "Visited: https://rolisz.ro/2019/05/25/vot-26-mai/ found 14 links\n",
      "Status for https://rolisz.ro/2020/01/07/books-of-2019/: 200 OK\n",
      "Visited: https://rolisz.ro/2020/01/07/books-of-2019/ found 14 links\n",
      "Status for https://rolisz.ro/2013/11/15/receiptbudget/: 200 OK\n",
      "Visited: https://rolisz.ro/2013/11/15/receiptbudget/ found 15 links\n",
      "Status for https://rolisz.ro/2019/08/07/breaking-radio-silence/: 200 OK\n",
      "Visited: https://rolisz.ro/2019/08/07/breaking-radio-silence/ found 14 links\n",
      "Status for https://rolisz.ro/2019/09/07/digging-myself-a-hole/: 200 OK\n",
      "Visited: https://rolisz.ro/2019/09/07/digging-myself-a-hole/ found 13 links\n",
      "Status for https://rolisz.ro/2016/08/29/my-desktop-setup/: 200 OK\n",
      "Visited: https://rolisz.ro/2016/08/29/my-desktop-setup/ found 15 links\n",
      "Status for https://rolisz.ro/author/rolisz/page/2/: 200 OK\n",
      "Visited: https://rolisz.ro/author/rolisz/page/2/ found 34 links\n",
      "Status for https://rolisz.ro/2020/03/01/web-crawler-in-rust/: 200 OK\n",
      "Visited: https://rolisz.ro/2020/03/01/web-crawler-in-rust/ found 14 links\n",
      "Status for https://rolisz.ro/2019/04/09/hacktm-oradea/: 200 OK\n",
      "Visited: https://rolisz.ro/2019/04/09/hacktm-oradea/ found 16 links\n",
      "Status for https://rolisz.ro/2015/01/11/my-experience-with-linux-part-6/: 200 OK\n",
      "Visited: https://rolisz.ro/2015/01/11/my-experience-with-linux-part-6/ found 15 links\n",
      "New urls: 148\n",
      "Status for https://rolisz.ro/2017/05/06/happy-mother-s-day/: 200 OK\n",
      "Visited: https://rolisz.ro/2017/05/06/happy-mother-s-day/ found 14 links\n",
      "Status for https://rolisz.ro/2015/08/30/after-a-year-in-zurich/: 200 OK\n",
      "Visited: https://rolisz.ro/2015/08/30/after-a-year-in-zurich/ found 14 links\n",
      "Status for https://rolisz.ro/2016/06/12/nice-time-in-nice/: 200 OK\n",
      "Visited: https://rolisz.ro/2016/06/12/nice-time-in-nice/ found 17 links\n",
      "Status for https://rolisz.ro/2010/06/14/eureka/: 200 OK\n",
      "Visited: https://rolisz.ro/2010/06/14/eureka/ found 14 links\n",
      "Status for https://rolisz.ro/2016/07/13/evaluating-goals/: 200 OK\n",
      "Visited: https://rolisz.ro/2016/07/13/evaluating-goals/ found 15 links\n",
      "Status for https://rolisz.ro/2018/02/01/an-update-on-rolisz/: 200 OK\n",
      "Visited: https://rolisz.ro/2018/02/01/an-update-on-rolisz/ found 14 links\n",
      "Status for https://rolisz.ro/2018/06/08/regular-expressions-for-objects/: 200 OK\n",
      "Visited: https://rolisz.ro/2018/06/08/regular-expressions-for-objects/ found 14 links\n",
      "Status for https://rolisz.ro/2012/09/06/summing-up-contacts/: 200 OK\n",
      "Visited: https://rolisz.ro/2012/09/06/summing-up-contacts/ found 14 links\n",
      "Status for https://rolisz.ro/tag/personal/page/2/: 200 OK\n",
      "Visited: https://rolisz.ro/tag/personal/page/2/ found 35 links\n",
      "Status for https://rolisz.ro/2012/02/16/simplu-calculator-in-python-partea-2/: 200 OK\n",
      "Visited: https://rolisz.ro/2012/02/16/simplu-calculator-in-python-partea-2/ found 14 links\n",
      "Status for https://rolisz.ro/2017/01/01/2016-in-review/: 200 OK\n",
      "Visited: https://rolisz.ro/2017/01/01/2016-in-review/ found 21 links\n",
      "Status for https://rolisz.ro/2012/12/18/tutorial-lisp/: 200 OK\n",
      "Visited: https://rolisz.ro/2012/12/18/tutorial-lisp/ found 12 links\n",
      "Status for https://rolisz.ro/2018/10/14/sweating-in-hong-kong/: 200 OK\n",
      "Visited: https://rolisz.ro/2018/10/14/sweating-in-hong-kong/ found 14 links\n"
     ]
    },
    {
     "name": "stdout",
     "output_type": "stream",
     "text": [
      "Status for https://rolisz.ro/2011/05/24/the-event/: 200 OK\n",
      "Visited: https://rolisz.ro/2011/05/24/the-event/ found 14 links\n",
      "Status for https://rolisz.ro/2010/10/10/rubicon/: 200 OK\n",
      "Visited: https://rolisz.ro/2010/10/10/rubicon/ found 14 links\n",
      "Status for https://rolisz.ro/2012/02/19/olimpiada-judeteana-de-fizica/: 200 OK\n",
      "Visited: https://rolisz.ro/2012/02/19/olimpiada-judeteana-de-fizica/ found 14 links\n",
      "Status for https://rolisz.ro/2013/04/13/single-table-inheritance-in-camelot/: 200 OK\n",
      "Visited: https://rolisz.ro/2013/04/13/single-table-inheritance-in-camelot/ found 14 links\n",
      "Status for https://rolisz.ro/2016/01/13/2015-in-review/: 200 OK\n",
      "Visited: https://rolisz.ro/2016/01/13/2015-in-review/ found 17 links\n",
      "Status for https://rolisz.ro/2012/12/08/global-day-of-code-retreat-2012/: 200 OK\n",
      "Visited: https://rolisz.ro/2012/12/08/global-day-of-code-retreat-2012/ found 13 links\n",
      "Status for https://rolisz.ro/2017/02/20/backing-up/: 200 OK\n",
      "Visited: https://rolisz.ro/2017/02/20/backing-up/ found 13 links\n",
      "Status for https://rolisz.ro/2015/03/29/time-for-a-new-look/: 200 OK\n",
      "Visited: https://rolisz.ro/2015/03/29/time-for-a-new-look/ found 14 links\n",
      "Status for https://rolisz.ro/2011/05/26/used-by-me-6/: 200 OK\n",
      "Visited: https://rolisz.ro/2011/05/26/used-by-me-6/ found 15 links\n",
      "Status for https://rolisz.ro/2014/06/21/misca-reloaded/: 200 OK\n",
      "Visited: https://rolisz.ro/2014/06/21/misca-reloaded/ found 15 links\n",
      "Status for https://rolisz.ro/2010/08/05/devils-tuning-fork/: 200 OK\n",
      "Visited: https://rolisz.ro/2010/08/05/devils-tuning-fork/ found 14 links\n",
      "Status for https://rolisz.ro/projects/ant/#{0,0,0A1}{0,1,0B1}{1,0,1R1}{1,1,0A1}: 200 OK\n",
      "Visited: https://rolisz.ro/projects/ant/#{0,0,0A1}{0,1,0B1}{1,0,1R1}{1,1,0A1} found 0 links\n",
      "Status for https://rolisz.ro/tag/review/: 200 OK\n",
      "Visited: https://rolisz.ro/tag/review/ found 26 links\n",
      "Status for https://rolisz.ro/2018/11/21/monitoring-gpu-usage-with-stackdriver/: 200 OK\n",
      "Visited: https://rolisz.ro/2018/11/21/monitoring-gpu-usage-with-stackdriver/ found 11 links\n",
      "Status for https://rolisz.ro/2015/03/01/survived-first-oncall/: 200 OK\n",
      "Visited: https://rolisz.ro/2015/03/01/survived-first-oncall/ found 14 links\n",
      "Status for https://rolisz.ro/2018/11/30/blogs-i-follow-part-2/: 200 OK\n",
      "Visited: https://rolisz.ro/2018/11/30/blogs-i-follow-part-2/ found 15 links\n",
      "Status for https://rolisz.ro/2010/07/03/harta-gravitationala-a-pamantului/: 200 OK\n",
      "Visited: https://rolisz.ro/2010/07/03/harta-gravitationala-a-pamantului/ found 14 links\n",
      "Status for https://rolisz.ro/tag/events/: 200 OK\n",
      "Visited: https://rolisz.ro/tag/events/ found 22 links\n",
      "Status for https://rolisz.ro/2014/10/06/uetliberg/: 200 OK\n",
      "Visited: https://rolisz.ro/2014/10/06/uetliberg/ found 14 links\n",
      "Status for https://rolisz.ro/2011/01/26/sherlock/: 200 OK\n",
      "Visited: https://rolisz.ro/2011/01/26/sherlock/ found 14 links\n",
      "Status for https://rolisz.ro/tag/celullar-automata/: 200 OK\n",
      "Visited: https://rolisz.ro/tag/celullar-automata/ found 9 links\n",
      "Status for https://rolisz.ro/2015/06/07/happy-5th-birthday/: 200 OK\n",
      "Visited: https://rolisz.ro/2015/06/07/happy-5th-birthday/ found 16 links\n",
      "Status for https://rolisz.ro/2018/03/26/n-t-wright-in-cluj/: 200 OK\n",
      "Visited: https://rolisz.ro/2018/03/26/n-t-wright-in-cluj/ found 14 links\n",
      "Status for https://rolisz.ro/2018/12/16/synology-moments/: 200 OK\n",
      "Visited: https://rolisz.ro/2018/12/16/synology-moments/ found 15 links\n",
      "Status for https://rolisz.ro/2016/01/19/bose-bluetooth-headphones/: 200 OK\n",
      "Visited: https://rolisz.ro/2016/01/19/bose-bluetooth-headphones/ found 14 links\n",
      "Status for https://rolisz.ro/tag/house/: 200 OK\n",
      "Visited: https://rolisz.ro/tag/house/ found 11 links\n",
      "Status for https://rolisz.ro/2018/02/23/goals-for-2018/: 200 OK\n",
      "Visited: https://rolisz.ro/2018/02/23/goals-for-2018/ found 14 links\n",
      "Status for https://rolisz.ro/2012/07/02/experienta-mea-cu-linux-part-4/: 200 OK\n",
      "Visited: https://rolisz.ro/2012/07/02/experienta-mea-cu-linux-part-4/ found 17 links\n",
      "Status for https://rolisz.ro/2016/08/01/how-to-make-a-selfie-time-lapse-video/: 200 OK\n",
      "Visited: https://rolisz.ro/2016/08/01/how-to-make-a-selfie-time-lapse-video/ found 15 links\n",
      "Status for https://rolisz.ro/2012/08/16/internship-over/: 200 OK\n",
      "Visited: https://rolisz.ro/2012/08/16/internship-over/ found 12 links\n",
      "Status for https://rolisz.ro/page/4/: 200 OK\n",
      "Visited: https://rolisz.ro/page/4/ found 35 links\n",
      "Status for https://rolisz.ro/2019/01/14/books-of-2018/: 200 OK\n",
      "Visited: https://rolisz.ro/2019/01/14/books-of-2018/ found 15 links\n",
      "Status for https://rolisz.ro/tag/desktop/: 200 OK\n",
      "Visited: https://rolisz.ro/tag/desktop/ found 9 links\n",
      "Status for https://rolisz.ro/2016/09/05/searching-for-something/: 200 OK\n",
      "Visited: https://rolisz.ro/2016/09/05/searching-for-something/ found 14 links\n",
      "Status for https://rolisz.ro/tag/rust/: 200 OK\n",
      "Visited: https://rolisz.ro/tag/rust/ found 11 links\n",
      "Status for https://rolisz.ro/2010/10/26/orange-si-google-is-naspa/: 200 OK\n",
      "Visited: https://rolisz.ro/2010/10/26/orange-si-google-is-naspa/ found 14 links\n",
      "Status for https://rolisz.ro/2018/01/13/mass-effect-andromeda/: 200 OK\n",
      "Visited: https://rolisz.ro/2018/01/13/mass-effect-andromeda/ found 15 links\n",
      "Status for https://rolisz.ro/2016/10/24/maltalavista/: 200 OK\n",
      "Visited: https://rolisz.ro/2016/10/24/maltalavista/ found 15 links\n",
      "Status for https://rolisz.ro/2016/04/03/midway-goal-checkup/: 200 OK\n",
      "Visited: https://rolisz.ro/2016/04/03/midway-goal-checkup/ found 16 links\n",
      "Status for https://rolisz.ro/2012/06/28/eol/: 200 OK\n",
      "Visited: https://rolisz.ro/2012/06/28/eol/ found 14 links\n",
      "Status for https://rolisz.ro/2011/05/28/ultima-zi-de-liceu/: 200 OK\n",
      "Visited: https://rolisz.ro/2011/05/28/ultima-zi-de-liceu/ found 12 links\n",
      "Status for https://rolisz.ro/2015/01/03/saying-goodbye-to-lenovo/: 200 OK\n",
      "Visited: https://rolisz.ro/2015/01/03/saying-goodbye-to-lenovo/ found 12 links\n",
      "Status for https://rolisz.ro/2017/01/07/new-year-old-goals/: 200 OK\n",
      "Visited: https://rolisz.ro/2017/01/07/new-year-old-goals/ found 14 links\n",
      "Status for https://rolisz.ro/tag/memory/: 200 OK\n",
      "Visited: https://rolisz.ro/tag/memory/ found 9 links\n",
      "Status for https://rolisz.ro/2013/04/26/the-mysterious-vcvarsall-bat/: 200 OK\n",
      "Visited: https://rolisz.ro/2013/04/26/the-mysterious-vcvarsall-bat/ found 12 links\n",
      "Status for https://rolisz.ro/2014/12/01/interstellar/: 200 OK\n",
      "Visited: https://rolisz.ro/2014/12/01/interstellar/ found 15 links\n",
      "Status for https://rolisz.ro/2011/06/24/git-tutorial/: 200 OK\n",
      "Visited: https://rolisz.ro/2011/06/24/git-tutorial/ found 14 links\n",
      "Status for https://rolisz.ro/author/rolisz/page/3/: 200 OK\n",
      "Visited: https://rolisz.ro/author/rolisz/page/3/ found 35 links\n",
      "Status for https://rolisz.ro/tag/job/: 200 OK\n",
      "Visited: https://rolisz.ro/tag/job/ found 12 links\n",
      "Status for https://rolisz.ro/tag/linux/: 200 OK\n",
      "Visited: https://rolisz.ro/tag/linux/ found 22 links\n",
      "Status for https://rolisz.ro/2011/07/24/burn-notice/: 200 OK\n",
      "Visited: https://rolisz.ro/2011/07/24/burn-notice/ found 16 links\n",
      "Status for https://rolisz.ro/2011/09/23/downton-abbey/: 200 OK\n",
      "Visited: https://rolisz.ro/2011/09/23/downton-abbey/ found 15 links\n",
      "Status for https://rolisz.ro/tag/machine-learning/: 200 OK\n",
      "Visited: https://rolisz.ro/tag/machine-learning/ found 12 links\n",
      "Status for https://rolisz.ro/2017/04/23/look-what-i-found-on-uetliberg/: 200 OK\n",
      "Visited: https://rolisz.ro/2017/04/23/look-what-i-found-on-uetliberg/ found 14 links\n",
      "Status for https://rolisz.ro/2015/11/07/line-charts-in-javascript/: 200 OK\n",
      "Visited: https://rolisz.ro/2015/11/07/line-charts-in-javascript/ found 15 links\n",
      "Status for https://rolisz.ro/tag/conference/: 200 OK\n",
      "Visited: https://rolisz.ro/tag/conference/ found 11 links\n",
      "Status for https://rolisz.ro/2011/04/17/white-collar/: 200 OK\n",
      "Visited: https://rolisz.ro/2011/04/17/white-collar/ found 14 links\n",
      "Status for https://rolisz.ro/2018/08/12/setting-up-ssh-keys/: 200 OK\n",
      "Visited: https://rolisz.ro/2018/08/12/setting-up-ssh-keys/ found 14 links\n",
      "Status for https://rolisz.ro/2010/07/21/the-good-guys/: 200 OK\n",
      "Visited: https://rolisz.ro/2010/07/21/the-good-guys/ found 14 links\n",
      "Status for https://rolisz.ro/2019/03/16/backing-up-3-syncthing/: 200 OK\n",
      "Visited: https://rolisz.ro/2019/03/16/backing-up-3-syncthing/ found 14 links\n",
      "Status for https://rolisz.ro/2010/10/12/experienta-mea-cu-linux-part-2/: 200 OK\n"
     ]
    },
    {
     "name": "stdout",
     "output_type": "stream",
     "text": [
      "Visited: https://rolisz.ro/2010/10/12/experienta-mea-cu-linux-part-2/ found 14 links\n",
      "Status for https://rolisz.ro/2011/06/08/happy-birthday-dear-blog/: 200 OK\n",
      "Visited: https://rolisz.ro/2011/06/08/happy-birthday-dear-blog/ found 14 links\n",
      "Status for https://rolisz.ro/2016/01/01/setting-goals/: 200 OK\n",
      "Visited: https://rolisz.ro/2016/01/01/setting-goals/ found 14 links\n",
      "Status for https://rolisz.ro/2014/09/28/acrylamid-image-gallery/: 200 OK\n",
      "Visited: https://rolisz.ro/2014/09/28/acrylamid-image-gallery/ found 13 links\n",
      "Status for https://rolisz.ro/projects/ant/#{0,0,1L1}{0,1,1L1}{1,0,1R1}{1,1,0A0}: 200 OK\n",
      "Visited: https://rolisz.ro/projects/ant/#{0,0,1L1}{0,1,1L1}{1,0,1R1}{1,1,0A0} found 0 links\n",
      "Status for https://rolisz.ro/tag/blog/page/2/: 200 OK\n",
      "Visited: https://rolisz.ro/tag/blog/page/2/ found 17 links\n",
      "Status for https://rolisz.ro/2013/08/09/fun-at-arka-park/: 200 OK\n",
      "Visited: https://rolisz.ro/2013/08/09/fun-at-arka-park/ found 14 links\n",
      "Status for https://rolisz.ro/2013/04/18/neural-networks-in-python/: 200 OK\n",
      "Visited: https://rolisz.ro/2013/04/18/neural-networks-in-python/ found 14 links\n",
      "Status for https://rolisz.ro/tag/yahoo/: 200 OK\n",
      "Visited: https://rolisz.ro/tag/yahoo/ found 9 links\n",
      "Status for https://rolisz.ro/2016/01/02/setting-goals/: 200 OK\n",
      "Visited: https://rolisz.ro/2016/01/02/setting-goals/ found 15 links\n",
      "Status for https://rolisz.ro/2016/11/13/going-places/: 200 OK\n",
      "Visited: https://rolisz.ro/2016/11/13/going-places/ found 14 links\n",
      "Status for https://rolisz.ro/2013/12/14/code-retreat-2013/: 200 OK\n",
      "Visited: https://rolisz.ro/2013/12/14/code-retreat-2013/ found 14 links\n",
      "Status for https://rolisz.ro/2012/09/09/frumusetea-miscai/: 200 OK\n",
      "Visited: https://rolisz.ro/2012/09/09/frumusetea-miscai/ found 14 links\n",
      "Status for https://rolisz.ro/2018/11/05/epistaxis/: 200 OK\n",
      "Visited: https://rolisz.ro/2018/11/05/epistaxis/ found 14 links\n",
      "Status for https://rolisz.ro/2016/06/08/gluecklicher-6-geburtstag-mein-blog/: 200 OK\n",
      "Visited: https://rolisz.ro/2016/06/08/gluecklicher-6-geburtstag-mein-blog/ found 23 links\n",
      "Status for https://rolisz.ro/2015/01/30/comments-are-back/: 200 OK\n",
      "Visited: https://rolisz.ro/2015/01/30/comments-are-back/ found 14 links\n",
      "Status for https://rolisz.ro/projects/ant/#{0,0,1L0}{0,1,2L0}{0,2,3R0}{0,3,0R0}: 200 OK\n",
      "Visited: https://rolisz.ro/projects/ant/#{0,0,1L0}{0,1,2L0}{0,2,3R0}{0,3,0R0} found 0 links\n",
      "Status for https://rolisz.ro/tag/psychology/: 200 OK\n",
      "Visited: https://rolisz.ro/tag/psychology/ found 9 links\n",
      "Status for https://rolisz.ro/2017/08/05/how-to-organize-a-wedding-in-20-easy-steps/: 200 OK\n",
      "Visited: https://rolisz.ro/2017/08/05/how-to-organize-a-wedding-in-20-easy-steps/ found 14 links\n",
      "Status for https://rolisz.ro/2018/06/24/fiddler-on-the-roof/: 200 OK\n",
      "Visited: https://rolisz.ro/2018/06/24/fiddler-on-the-roof/ found 14 links\n",
      "Status for https://rolisz.ro/2014/07/29/roland-origins/: 200 OK\n",
      "Visited: https://rolisz.ro/2014/07/29/roland-origins/ found 14 links\n",
      "Status for https://rolisz.ro/tag/used-by-me/: 200 OK\n",
      "Visited: https://rolisz.ro/tag/used-by-me/ found 15 links\n",
      "Status for https://rolisz.ro/2019/03/24/old-man-s-cave/#fn-1: 200 OK\n",
      "Visited: https://rolisz.ro/2019/03/24/old-man-s-cave/#fn-1 found 16 links\n",
      "Status for https://rolisz.ro/2014/08/12/delta-dunarii/: 200 OK\n",
      "Visited: https://rolisz.ro/2014/08/12/delta-dunarii/ found 14 links\n",
      "Status for https://rolisz.ro/2013/03/22/tutorial-camelot/: 200 OK\n",
      "Visited: https://rolisz.ro/2013/03/22/tutorial-camelot/ found 14 links\n",
      "Status for https://rolisz.ro/2013/02/17/grafice-cu-d3-js-part-1/: 200 OK\n",
      "Visited: https://rolisz.ro/2013/02/17/grafice-cu-d3-js-part-1/ found 12 links\n",
      "Status for https://rolisz.ro/2014/09/22/moving-from-wordpress-to-acrylamid/: 200 OK\n",
      "Visited: https://rolisz.ro/2014/09/22/moving-from-wordpress-to-acrylamid/ found 14 links\n",
      "Status for https://rolisz.ro/2015/01/18/2014-in-review/: 200 OK\n",
      "Visited: https://rolisz.ro/2015/01/18/2014-in-review/ found 15 links\n",
      "Status for https://rolisz.ro/2013/03/03/git-tutorial-part-2/: 200 OK\n",
      "Visited: https://rolisz.ro/2013/03/03/git-tutorial-part-2/ found 13 links\n",
      "Status for https://rolisz.ro/2010/12/03/used-by-me-5/: 200 OK\n",
      "Visited: https://rolisz.ro/2010/12/03/used-by-me-5/ found 14 links\n",
      "Status for https://rolisz.ro/2016/09/03/two-years-at-google/: 200 OK\n",
      "Visited: https://rolisz.ro/2016/09/03/two-years-at-google/ found 14 links\n",
      "Status for https://rolisz.ro/2013/11/12/gravity/: 200 OK\n",
      "Visited: https://rolisz.ro/2013/11/12/gravity/ found 14 links\n",
      "Status for https://rolisz.ro/2015/06/06/gardening/: 200 OK\n",
      "Visited: https://rolisz.ro/2015/06/06/gardening/ found 11 links\n",
      "Status for https://rolisz.ro/2013/12/14/automating-using-python/: 200 OK\n",
      "Visited: https://rolisz.ro/2013/12/14/automating-using-python/ found 14 links\n",
      "Status for https://rolisz.ro/2018/09/24/repairing-linux-and-windows-boot-partitions/: 200 OK\n",
      "Visited: https://rolisz.ro/2018/09/24/repairing-linux-and-windows-boot-partitions/ found 14 links\n",
      "Status for https://rolisz.ro/tag/programming/page/2/: 200 OK\n",
      "Visited: https://rolisz.ro/tag/programming/page/2/ found 31 links\n",
      "Status for https://rolisz.ro/2013/02/09/elementary/: 200 OK\n",
      "Visited: https://rolisz.ro/2013/02/09/elementary/ found 15 links\n",
      "Status for https://rolisz.ro/2012/01/15/50-apps/: 200 OK\n",
      "Visited: https://rolisz.ro/2012/01/15/50-apps/ found 14 links\n",
      "Status for https://rolisz.ro/2010/06/16/cae/: 200 OK\n",
      "Visited: https://rolisz.ro/2010/06/16/cae/ found 13 links\n",
      "Status for https://rolisz.ro/2019/02/26/boardgames-party-splendor/: 200 OK\n",
      "Visited: https://rolisz.ro/2019/02/26/boardgames-party-splendor/ found 14 links\n",
      "Status for https://rolisz.ro/2013/01/14/moar-lisp/: 200 OK\n",
      "Visited: https://rolisz.ro/2013/01/14/moar-lisp/ found 14 links\n",
      "Status for https://rolisz.ro/2013/09/10/character-segmentation-overfitting/: 200 OK\n",
      "Visited: https://rolisz.ro/2013/09/10/character-segmentation-overfitting/ found 14 links\n",
      "Status for https://rolisz.ro/2013/02/22/grafice-cu-d3-js-part-2/: 200 OK\n",
      "Visited: https://rolisz.ro/2013/02/22/grafice-cu-d3-js-part-2/ found 14 links\n",
      "Status for https://rolisz.ro/2014/07/12/android-l-preview/: 200 OK\n",
      "Visited: https://rolisz.ro/2014/07/12/android-l-preview/ found 14 links\n",
      "Status for https://rolisz.ro/2015/06/12/trip-to-dublin/: 200 OK\n",
      "Visited: https://rolisz.ro/2015/06/12/trip-to-dublin/ found 14 links\n",
      "Status for https://rolisz.ro/2012/08/02/pioneer-one/: 200 OK\n",
      "Visited: https://rolisz.ro/2012/08/02/pioneer-one/ found 14 links\n",
      "Status for https://rolisz.ro/2017/12/03/show-ing-off/: 200 OK\n",
      "Visited: https://rolisz.ro/2017/12/03/show-ing-off/ found 14 links\n",
      "Status for https://rolisz.ro/2016/09/17/good-bye-alida/: 200 OK\n",
      "Visited: https://rolisz.ro/2016/09/17/good-bye-alida/ found 14 links\n",
      "Status for https://rolisz.ro/2010/08/27/scoala-de-soferi/: 200 OK\n",
      "Visited: https://rolisz.ro/2010/08/27/scoala-de-soferi/ found 13 links\n",
      "Status for https://rolisz.ro/2016/02/13/alcatraz/: 200 OK\n",
      "Visited: https://rolisz.ro/2016/02/13/alcatraz/ found 14 links\n",
      "Status for https://rolisz.ro/2013/11/09/imprezzio-software-contest/: 200 OK\n",
      "Visited: https://rolisz.ro/2013/11/09/imprezzio-software-contest/ found 14 links\n",
      "Status for https://rolisz.ro/2015/12/05/adding-ssl-with-lets-encrypt/: 200 OK\n",
      "Visited: https://rolisz.ro/2015/12/05/adding-ssl-with-lets-encrypt/ found 11 links\n",
      "Status for https://rolisz.ro/2018/12/31/2018-in-review/: 200 OK\n",
      "Visited: https://rolisz.ro/2018/12/31/2018-in-review/ found 17 links\n",
      "Status for https://rolisz.ro/2018/09/09/evaluating-2018-goals/: 200 OK\n",
      "Visited: https://rolisz.ro/2018/09/09/evaluating-2018-goals/ found 15 links\n",
      "Status for https://rolisz.ro/2013/03/04/git-tutorial-part-2/: 200 OK\n",
      "Visited: https://rolisz.ro/2013/03/04/git-tutorial-part-2/ found 13 links\n",
      "Status for https://rolisz.ro/2019/08/11/breaking-radio-silence/: 200 OK\n",
      "Visited: https://rolisz.ro/2019/08/11/breaking-radio-silence/ found 14 links\n",
      "Status for https://rolisz.ro/2018/12/29/boardgames-party-sushi-go/: 200 OK\n",
      "Visited: https://rolisz.ro/2018/12/29/boardgames-party-sushi-go/ found 14 links\n",
      "Status for https://rolisz.ro/tag/scraping/: 200 OK\n",
      "Visited: https://rolisz.ro/tag/scraping/ found 9 links\n",
      "Status for https://rolisz.ro/2018/04/01/man-versus-nature/: 200 OK\n",
      "Visited: https://rolisz.ro/2018/04/01/man-versus-nature/ found 14 links\n"
     ]
    },
    {
     "name": "stdout",
     "output_type": "stream",
     "text": [
      "Status for https://rolisz.ro/2012/02/04/arrested-development/: 200 OK\n",
      "Visited: https://rolisz.ro/2012/02/04/arrested-development/ found 14 links\n",
      "Status for https://rolisz.ro/2015/10/09/google-tech-talk-babes-bolyai-university/: 200 OK\n",
      "Visited: https://rolisz.ro/2015/10/09/google-tech-talk-babes-bolyai-university/ found 15 links\n",
      "Status for https://rolisz.ro/2017/03/09/silence/: 200 OK\n",
      "Visited: https://rolisz.ro/2017/03/09/silence/ found 14 links\n",
      "Status for https://rolisz.ro/tag/reviews/page/2/: 200 OK\n",
      "Visited: https://rolisz.ro/tag/reviews/page/2/ found 35 links\n",
      "Status for https://rolisz.ro/2015/04/13/mail-subscription/: 200 OK\n",
      "Visited: https://rolisz.ro/2015/04/13/mail-subscription/ found 14 links\n",
      "Status for https://rolisz.ro/2019/03/24/old-man-s-cave/#fn-2: 200 OK\n",
      "Visited: https://rolisz.ro/2019/03/24/old-man-s-cave/#fn-2 found 16 links\n",
      "Status for https://rolisz.ro/2010/07/10/eureka-4x01/: 200 OK\n",
      "Visited: https://rolisz.ro/2010/07/10/eureka-4x01/ found 14 links\n",
      "Status for https://rolisz.ro/2017/07/07/evaluating-goals-2017-edition/: 200 OK\n",
      "Visited: https://rolisz.ro/2017/07/07/evaluating-goals-2017-edition/ found 15 links\n",
      "Status for https://rolisz.ro/2017/12/19/the-last-jedi/: 200 OK\n",
      "Visited: https://rolisz.ro/2017/12/19/the-last-jedi/ found 15 links\n",
      "Status for https://rolisz.ro/2016/03/13/the-master-algorithm/: 200 OK\n",
      "Visited: https://rolisz.ro/2016/03/13/the-master-algorithm/ found 14 links\n",
      "Status for https://rolisz.ro/2013/12/24/gentoo-vs-rolisz-round-2/: 200 OK\n",
      "Visited: https://rolisz.ro/2013/12/24/gentoo-vs-rolisz-round-2/ found 12 links\n",
      "Status for https://rolisz.ro/2018/01/01/2017-in-review/: 200 OK\n",
      "Visited: https://rolisz.ro/2018/01/01/2017-in-review/ found 17 links\n",
      "Status for https://rolisz.ro/2013/11/21/command-line-batch-installer-for-windows/: 200 OK\n",
      "Visited: https://rolisz.ro/2013/11/21/command-line-batch-installer-for-windows/ found 14 links\n",
      "Status for https://rolisz.ro/2018/04/26/synology-and-docker/: 200 OK\n",
      "Visited: https://rolisz.ro/2018/04/26/synology-and-docker/ found 13 links\n",
      "Status for https://rolisz.ro/2017/09/01/drei-jahre-in-der-schweiz/: 200 OK\n",
      "Visited: https://rolisz.ro/2017/09/01/drei-jahre-in-der-schweiz/ found 14 links\n",
      "Status for https://rolisz.ro/tag/git/: 200 OK\n",
      "Visited: https://rolisz.ro/tag/git/ found 11 links\n",
      "New urls: 178\n",
      "Status for https://rolisz.ro/2019/08/07/breaking-radio-silence/amp/: 200 OK\n",
      "Visited: https://rolisz.ro/2019/08/07/breaking-radio-silence/amp/ found 3 links\n",
      "Status for https://rolisz.ro/2012/06/02/osom/: 200 OK\n",
      "Visited: https://rolisz.ro/2012/06/02/osom/ found 14 links\n",
      "Status for https://rolisz.ro/2013/12/07/nablopomo-recap/: 200 OK\n",
      "Visited: https://rolisz.ro/2013/12/07/nablopomo-recap/ found 18 links\n",
      "Status for https://rolisz.ro/2011/12/19/project-euler-si-ac/: 200 OK\n",
      "Visited: https://rolisz.ro/2011/12/19/project-euler-si-ac/ found 14 links\n",
      "Status for https://rolisz.ro/2012/03/16/tutorial-awk/: 200 OK\n",
      "Visited: https://rolisz.ro/2012/03/16/tutorial-awk/ found 14 links\n",
      "Status for https://rolisz.ro/2016/09/25/data-and-goliath/: 200 OK\n",
      "Visited: https://rolisz.ro/2016/09/25/data-and-goliath/ found 14 links\n",
      "Status for https://rolisz.ro/2011/06/29/planuri-de-vacanta/: 200 OK\n",
      "Visited: https://rolisz.ro/2011/06/29/planuri-de-vacanta/ found 14 links\n",
      "Status for https://rolisz.ro/2010/12/02/experienta-mea-cu-linux-part-3/: 200 OK\n",
      "Visited: https://rolisz.ro/2010/12/02/experienta-mea-cu-linux-part-3/ found 15 links\n",
      "Status for https://rolisz.ro/2015/09/05/san-francisco-and-the-so-called-mountain-view/: 200 OK\n",
      "Visited: https://rolisz.ro/2015/09/05/san-francisco-and-the-so-called-mountain-view/ found 14 links\n",
      "Status for https://rolisz.ro/2014/07/05/the-dungeon/: 200 OK\n",
      "Visited: https://rolisz.ro/2014/07/05/the-dungeon/ found 14 links\n",
      "Status for https://rolisz.ro/2013/06/27/anul-2-2/: 200 OK\n",
      "Visited: https://rolisz.ro/2013/06/27/anul-2-2/ found 14 links\n",
      "Status for https://rolisz.ro/2011/08/08/chat-cu-node-js/: 200 OK\n",
      "Visited: https://rolisz.ro/2011/08/08/chat-cu-node-js/ found 14 links\n",
      "Status for https://rolisz.ro/2010/07/25/sfml-in-visual-studio-2010/: 200 OK\n",
      "Visited: https://rolisz.ro/2010/07/25/sfml-in-visual-studio-2010/ found 14 links\n",
      "Status for https://rolisz.ro/tag/plants/: 200 OK\n",
      "Visited: https://rolisz.ro/tag/plants/ found 9 links\n",
      "Status for https://rolisz.ro/2011/08/31/curatenie-pre-facultate/: 200 OK\n",
      "Visited: https://rolisz.ro/2011/08/31/curatenie-pre-facultate/ found 14 links\n",
      "Status for https://rolisz.ro/2013/12/21/gentoo-vs-rolisz-round-1/: 200 OK\n",
      "Visited: https://rolisz.ro/2013/12/21/gentoo-vs-rolisz-round-1/ found 12 links\n",
      "Status for https://rolisz.ro/2014/09/24/first-week-in-zurich/: 200 OK\n",
      "Visited: https://rolisz.ro/2014/09/24/first-week-in-zurich/ found 14 links\n",
      "Status for https://rolisz.ro/2017/10/28/blogs-i-follow-part-1/: 200 OK\n",
      "Visited: https://rolisz.ro/2017/10/28/blogs-i-follow-part-1/ found 14 links\n",
      "Status for https://rolisz.ro/2012/06/20/chestie-utila-pt-sda/: 200 OK\n",
      "Visited: https://rolisz.ro/2012/06/20/chestie-utila-pt-sda/ found 14 links\n",
      "Status for https://rolisz.ro/2011/08/02/introducere-in-node-js/: 200 OK\n",
      "Visited: https://rolisz.ro/2011/08/02/introducere-in-node-js/ found 14 links\n",
      "Status for https://rolisz.ro/2017/06/14/istanbul-land-of-turbans-spice-and-carpets/: 200 OK\n",
      "Visited: https://rolisz.ro/2017/06/14/istanbul-land-of-turbans-spice-and-carpets/ found 14 links\n",
      "Status for https://rolisz.ro/2011/02/21/lupta-vietii/: 200 OK\n",
      "Visited: https://rolisz.ro/2011/02/21/lupta-vietii/ found 14 links\n",
      "Status for https://rolisz.ro/tag/exam/: 200 OK\n",
      "Visited: https://rolisz.ro/tag/exam/ found 11 links\n",
      "Status for https://rolisz.ro/2013/11/22/studcard-omnipass-bt/: 200 OK\n",
      "Visited: https://rolisz.ro/2013/11/22/studcard-omnipass-bt/ found 14 links\n",
      "Status for https://rolisz.ro/2012/02/08/prima-sesiune/: 200 OK\n",
      "Visited: https://rolisz.ro/2012/02/08/prima-sesiune/ found 14 links\n",
      "Status for https://rolisz.ro/2015/10/08/google-tech-talk-babes-bolyai-university/: 200 OK\n",
      "Visited: https://rolisz.ro/2015/10/08/google-tech-talk-babes-bolyai-university/ found 14 links\n",
      "Status for https://rolisz.ro/2015/02/21/what-i-think-of-the-ai-hype/: 200 OK\n",
      "Visited: https://rolisz.ro/2015/02/21/what-i-think-of-the-ai-hype/ found 13 links\n",
      "Status for https://rolisz.ro/2011/04/18/stocarea-de-arbori-in-baze-de-date-relationale/: 200 OK\n",
      "Visited: https://rolisz.ro/2011/04/18/stocarea-de-arbori-in-baze-de-date-relationale/ found 14 links\n",
      "Status for https://rolisz.ro/tag/ssl/: 200 OK\n",
      "Visited: https://rolisz.ro/tag/ssl/ found 9 links\n",
      "Status for https://rolisz.ro/2016/05/04/rise-of-the-tomb-raider/: 200 OK\n",
      "Visited: https://rolisz.ro/2016/05/04/rise-of-the-tomb-raider/ found 14 links\n",
      "Status for https://rolisz.ro/tag/photos/: 200 OK\n",
      "Visited: https://rolisz.ro/tag/photos/ found 25 links\n",
      "Status for https://rolisz.ro/2012/03/18/mass-effect-3-spoilerish-rant/: 200 OK\n",
      "Visited: https://rolisz.ro/2012/03/18/mass-effect-3-spoilerish-rant/ found 12 links\n",
      "Status for https://rolisz.ro/2011/01/01/afisarea-treptata-a-unei-figuri/: 200 OK\n",
      "Visited: https://rolisz.ro/2011/01/01/afisarea-treptata-a-unei-figuri/ found 14 links\n",
      "Status for https://rolisz.ro/tag/gentoo/: 200 OK\n",
      "Visited: https://rolisz.ro/tag/gentoo/ found 11 links\n",
      "Status for https://rolisz.ro/tag/backup/: 200 OK\n",
      "Visited: https://rolisz.ro/tag/backup/ found 12 links\n",
      "Status for https://rolisz.ro/tag/gdcr/: 200 OK\n",
      "Visited: https://rolisz.ro/tag/gdcr/ found 11 links\n",
      "Status for https://rolisz.ro/2014/11/17/global-day-of-code-retreat-2014/: 200 OK\n",
      "Visited: https://rolisz.ro/2014/11/17/global-day-of-code-retreat-2014/ found 13 links\n",
      "Status for https://rolisz.ro/2015/03/08/davos/: 200 OK\n",
      "Visited: https://rolisz.ro/2015/03/08/davos/ found 12 links\n",
      "Status for https://rolisz.ro/tag/acrylamid/: 200 OK\n",
      "Visited: https://rolisz.ro/tag/acrylamid/ found 11 links\n",
      "Status for https://rolisz.ro/tag/rant/: 200 OK\n",
      "Visited: https://rolisz.ro/tag/rant/ found 16 links\n",
      "Status for https://rolisz.ro/tag/highschool/: 200 OK\n",
      "Visited: https://rolisz.ro/tag/highschool/ found 10 links\n",
      "Status for https://rolisz.ro/2013/11/23/state-of-im-on-windows/: 200 OK\n",
      "Visited: https://rolisz.ro/2013/11/23/state-of-im-on-windows/ found 16 links\n",
      "Status for https://rolisz.ro/2015/05/29/weekend-in-london/: 200 OK\n",
      "Visited: https://rolisz.ro/2015/05/29/weekend-in-london/ found 14 links\n"
     ]
    },
    {
     "name": "stdout",
     "output_type": "stream",
     "text": [
      "Status for https://rolisz.ro/2011/01/31/olimpiada-nationala-de-fizica-2011-part-one/: 200 OK\n",
      "Visited: https://rolisz.ro/2011/01/31/olimpiada-nationala-de-fizica-2011-part-one/ found 14 links\n",
      "Status for https://rolisz.ro/2016/12/09/noh-hai-la-vot/: 200 OK\n",
      "Visited: https://rolisz.ro/2016/12/09/noh-hai-la-vot/ found 13 links\n",
      "Status for https://rolisz.ro/2012/01/05/2011-in-review/: 200 OK\n",
      "Visited: https://rolisz.ro/2012/01/05/2011-in-review/ found 14 links\n",
      "Status for https://rolisz.ro/2015/04/30/trip-to-geneva-part-2/: 200 OK\n",
      "Visited: https://rolisz.ro/2015/04/30/trip-to-geneva-part-2/ found 14 links\n",
      "Status for https://rolisz.ro/2012/12/31/la-multi-ani/: 200 OK\n",
      "Visited: https://rolisz.ro/2012/12/31/la-multi-ani/ found 18 links\n",
      "Status for https://rolisz.ro/2017/01/28/sous-vide-with-anova-precision-cooker/: 200 OK\n",
      "Visited: https://rolisz.ro/2017/01/28/sous-vide-with-anova-precision-cooker/ found 14 links\n",
      "Status for https://rolisz.ro/tag/cmd/: 200 OK\n",
      "Visited: https://rolisz.ro/tag/cmd/ found 10 links\n",
      "Status for https://rolisz.ro/2012/02/12/scurta-introducere-in-r/: 200 OK\n",
      "Visited: https://rolisz.ro/2012/02/12/scurta-introducere-in-r/ found 16 links\n",
      "Status for https://rolisz.ro/2013/12/09/gentoo-linux/: 200 OK\n",
      "Visited: https://rolisz.ro/2013/12/09/gentoo-linux/ found 13 links\n",
      "Status for https://rolisz.ro/2016/03/25/the-museum/: 200 OK\n",
      "Visited: https://rolisz.ro/2016/03/25/the-museum/ found 15 links\n",
      "Status for https://rolisz.ro/tag/synology/: 200 OK\n",
      "Visited: https://rolisz.ro/tag/synology/ found 11 links\n",
      "Status for https://rolisz.ro/2014/12/17/strike-the-iron-while-its-hot/: 200 OK\n",
      "Visited: https://rolisz.ro/2014/12/17/strike-the-iron-while-its-hot/ found 14 links\n",
      "Status for https://rolisz.ro/2016/12/22/shalom-from-israel/: 200 OK\n",
      "Visited: https://rolisz.ro/2016/12/22/shalom-from-israel/ found 14 links\n",
      "Status for https://rolisz.ro/2017/12/30/let-s-go-to-africa/: 200 OK\n",
      "Visited: https://rolisz.ro/2017/12/30/let-s-go-to-africa/ found 14 links\n",
      "Status for https://rolisz.ro/tag/sale/: 200 OK\n",
      "Visited: https://rolisz.ro/tag/sale/ found 9 links\n",
      "Status for https://rolisz.ro/2012/03/02/instalare-linux-pe-masina-virtuala/: 200 OK\n",
      "Visited: https://rolisz.ro/2012/03/02/instalare-linux-pe-masina-virtuala/ found 14 links\n",
      "Status for https://rolisz.ro/2015/01/20/winter-holiday-movies/: 200 OK\n",
      "Visited: https://rolisz.ro/2015/01/20/winter-holiday-movies/ found 14 links\n",
      "Status for https://rolisz.ro/2014/09/29/knabenschiessen/: 200 OK\n",
      "Visited: https://rolisz.ro/2014/09/29/knabenschiessen/ found 13 links\n",
      "Status for https://rolisz.ro/2011/03/03/url-routing-with-php/: 200 OK\n",
      "Visited: https://rolisz.ro/2011/03/03/url-routing-with-php/ found 12 links\n",
      "Status for https://rolisz.ro/2013/12/20/emag/: 200 OK\n",
      "Visited: https://rolisz.ro/2013/12/20/emag/ found 14 links\n",
      "Status for https://rolisz.ro/2016/05/12/hanz-zimmer-live-on-tour/: 200 OK\n",
      "Visited: https://rolisz.ro/2016/05/12/hanz-zimmer-live-on-tour/ found 15 links\n",
      "Status for https://rolisz.ro/2014/07/04/review-materii-anul-3/: 200 OK\n",
      "Visited: https://rolisz.ro/2014/07/04/review-materii-anul-3/ found 14 links\n",
      "Status for https://rolisz.ro/2017/06/29/i-believe-i-can-fly/: 200 OK\n",
      "Visited: https://rolisz.ro/2017/06/29/i-believe-i-can-fly/ found 14 links\n",
      "Status for https://rolisz.ro/2010/11/15/concursul-de-fizica-schwartz/: 200 OK\n",
      "Visited: https://rolisz.ro/2010/11/15/concursul-de-fizica-schwartz/ found 14 links\n",
      "Status for https://rolisz.ro/2012/02/14/simplu-calculator-in-python-partea-1/: 200 OK\n",
      "Visited: https://rolisz.ro/2012/02/14/simplu-calculator-in-python-partea-1/ found 14 links\n",
      "Status for https://rolisz.ro/2012/01/09/dont-click-it/: 200 OK\n",
      "Visited: https://rolisz.ro/2012/01/09/dont-click-it/ found 14 links\n",
      "Status for https://rolisz.ro/2016/02/27/new-york-again/: 200 OK\n",
      "Visited: https://rolisz.ro/2016/02/27/new-york-again/ found 14 links\n",
      "Status for https://rolisz.ro/page/5/: 200 OK\n",
      "Visited: https://rolisz.ro/page/5/ found 35 links\n",
      "Status for https://rolisz.ro/2011/09/27/windows-8-part-2/: 200 OK\n",
      "Visited: https://rolisz.ro/2011/09/27/windows-8-part-2/ found 15 links\n",
      "Status for https://rolisz.ro/2013/06/16/chestionar-proiect-colectiv/: 200 OK\n",
      "Visited: https://rolisz.ro/2013/06/16/chestionar-proiect-colectiv/ found 14 links\n",
      "Status for https://rolisz.ro/2011/10/21/recensamant/: 200 OK\n",
      "Visited: https://rolisz.ro/2011/10/21/recensamant/ found 11 links\n",
      "Status for https://rolisz.ro/2015/12/05/adding-ssl-with-let-s-encrypt/: 404 Not Found\n",
      "Visited: https://rolisz.ro/2015/12/05/adding-ssl-with-let-s-encrypt/ found 0 links\n",
      "Status for https://rolisz.ro/2011/11/25/next-wave-2012/: 200 OK\n",
      "Visited: https://rolisz.ro/2011/11/25/next-wave-2012/ found 16 links\n",
      "Status for https://rolisz.ro/tag/charts/: 200 OK\n",
      "Visited: https://rolisz.ro/tag/charts/ found 11 links\n",
      "Status for https://rolisz.ro/2012/02/13/statistici-si-grafice-in-r/: 200 OK\n",
      "Visited: https://rolisz.ro/2012/02/13/statistici-si-grafice-in-r/ found 14 links\n",
      "Status for https://rolisz.ro/2010/07/10/sfml/: 200 OK\n",
      "Visited: https://rolisz.ro/2010/07/10/sfml/ found 14 links\n",
      "Status for https://rolisz.ro/2013/02/24/statistici-la-jumatatea-facultatii/: 200 OK\n",
      "Visited: https://rolisz.ro/2013/02/24/statistici-la-jumatatea-facultatii/ found 14 links\n",
      "Status for https://rolisz.ro/2017/06/16/the-piano-guys/: 200 OK\n",
      "Visited: https://rolisz.ro/2017/06/16/the-piano-guys/ found 14 links\n",
      "Status for https://rolisz.ro/author/rolisz/page/4/: 200 OK\n",
      "Visited: https://rolisz.ro/author/rolisz/page/4/ found 35 links\n",
      "Status for https://rolisz.ro/tag/goals/: 200 OK\n",
      "Visited: https://rolisz.ro/tag/goals/ found 15 links\n",
      "Status for https://rolisz.ro/2012/07/20/experienta-mea-cu-orange/: 200 OK\n",
      "Visited: https://rolisz.ro/2012/07/20/experienta-mea-cu-orange/ found 13 links\n",
      "Status for https://rolisz.ro/tag/personal/page/3/: 200 OK\n",
      "Visited: https://rolisz.ro/tag/personal/page/3/ found 11 links\n",
      "Status for https://rolisz.ro/2016/09/18/good-bye-alida/: 200 OK\n",
      "Visited: https://rolisz.ro/2016/09/18/good-bye-alida/ found 15 links\n",
      "Status for https://rolisz.ro/2015/08/01/the-little-daco-hungarian-expat-makes-gulyas/: 200 OK\n",
      "Visited: https://rolisz.ro/2015/08/01/the-little-daco-hungarian-expat-makes-gulyas/ found 12 links\n",
      "Status for https://rolisz.ro/2011/12/11/html5-workshop/: 200 OK\n",
      "Visited: https://rolisz.ro/2011/12/11/html5-workshop/ found 14 links\n",
      "Status for https://rolisz.ro/2011/11/13/metode-speciale-in-python/: 200 OK\n",
      "Visited: https://rolisz.ro/2011/11/13/metode-speciale-in-python/ found 14 links\n",
      "Status for https://rolisz.ro/2016/02/19/why-nations-fail/: 200 OK\n",
      "Visited: https://rolisz.ro/2016/02/19/why-nations-fail/ found 15 links\n",
      "Status for https://rolisz.ro/2013/11/30/stephen-wolframs-new-big-thing/: 200 OK\n",
      "Visited: https://rolisz.ro/2013/11/30/stephen-wolframs-new-big-thing/ found 14 links\n",
      "Status for https://rolisz.ro/2010/12/01/end-of-the-month-review/: 200 OK\n",
      "Visited: https://rolisz.ro/2010/12/01/end-of-the-month-review/ found 14 links\n",
      "Status for https://rolisz.ro/2011/10/14/rularea-tasm-in-windows-7/: 200 OK\n",
      "Visited: https://rolisz.ro/2011/10/14/rularea-tasm-in-windows-7/ found 14 links\n",
      "Status for https://rolisz.ro/2016/05/29/nutribullet/: 200 OK\n",
      "Visited: https://rolisz.ro/2016/05/29/nutribullet/ found 14 links\n",
      "Status for https://rolisz.ro/2013/02/14/colectare-note/: 200 OK\n",
      "Visited: https://rolisz.ro/2013/02/14/colectare-note/ found 13 links\n",
      "Status for https://rolisz.ro/2017/11/09/blade-runner-2049/: 200 OK\n",
      "Visited: https://rolisz.ro/2017/11/09/blade-runner-2049/ found 14 links\n",
      "Status for https://rolisz.ro/2015/08/08/the-big-apple/: 200 OK\n",
      "Visited: https://rolisz.ro/2015/08/08/the-big-apple/ found 14 links\n",
      "Status for https://rolisz.ro/2015/10/11/bap/: 200 OK\n",
      "Visited: https://rolisz.ro/2015/10/11/bap/ found 15 links\n",
      "Status for https://rolisz.ro/2015/04/26/trip-to-geneva-part-1/: 200 OK\n",
      "Visited: https://rolisz.ro/2015/04/26/trip-to-geneva-part-1/ found 14 links\n",
      "Status for https://rolisz.ro/2010/11/29/50-de-ani-de-casatorie/: 200 OK\n",
      "Visited: https://rolisz.ro/2010/11/29/50-de-ani-de-casatorie/ found 14 links\n",
      "Status for https://rolisz.ro/2010/09/26/zilele-orasului/: 200 OK\n",
      "Visited: https://rolisz.ro/2010/09/26/zilele-orasului/ found 14 links\n",
      "Status for https://rolisz.ro/2010/06/14/fejes-din-apa-in-apa/: 200 OK\n",
      "Visited: https://rolisz.ro/2010/06/14/fejes-din-apa-in-apa/ found 11 links\n"
     ]
    },
    {
     "name": "stdout",
     "output_type": "stream",
     "text": [
      "Status for https://rolisz.ro/2017/10/06/around-europe-with-my-wifey/: 200 OK\n",
      "Visited: https://rolisz.ro/2017/10/06/around-europe-with-my-wifey/ found 14 links\n",
      "Status for https://rolisz.ro/2016/05/24/paris-revisited/: 200 OK\n",
      "Visited: https://rolisz.ro/2016/05/24/paris-revisited/ found 15 links\n",
      "Status for https://rolisz.ro/2015/08/30/after-a-year-in-zuerich/: 404 Not Found\n",
      "Visited: https://rolisz.ro/2015/08/30/after-a-year-in-zuerich/ found 0 links\n",
      "Status for https://rolisz.ro/2010/07/03/prince-of-persia-the-forgotten-sands/: 200 OK\n",
      "Visited: https://rolisz.ro/2010/07/03/prince-of-persia-the-forgotten-sands/ found 14 links\n",
      "Status for https://rolisz.ro/2010/12/07/xhr-file-upload/: 200 OK\n",
      "Visited: https://rolisz.ro/2010/12/07/xhr-file-upload/ found 14 links\n",
      "Status for https://rolisz.ro/tag/eight/: 200 OK\n",
      "Visited: https://rolisz.ro/tag/eight/ found 16 links\n",
      "Status for https://rolisz.ro/2012/11/12/tutorial-prolog/: 200 OK\n",
      "Visited: https://rolisz.ro/2012/11/12/tutorial-prolog/ found 14 links\n",
      "Status for https://rolisz.ro/2012/12/08/global-code-retreat-day-2012/: 404 Not Found\n",
      "Visited: https://rolisz.ro/2012/12/08/global-code-retreat-day-2012/ found 0 links\n",
      "Status for https://rolisz.ro/2011/04/14/ultima-teza/: 200 OK\n",
      "Visited: https://rolisz.ro/2011/04/14/ultima-teza/ found 14 links\n",
      "Status for https://rolisz.ro/2011/05/12/infomatrix-etapa-internationala/: 200 OK\n",
      "Visited: https://rolisz.ro/2011/05/12/infomatrix-etapa-internationala/ found 14 links\n",
      "Status for https://rolisz.ro/2010/12/01/experienta-mea-cu-linux-part-3/: 200 OK\n",
      "Visited: https://rolisz.ro/2010/12/01/experienta-mea-cu-linux-part-3/ found 14 links\n",
      "Status for https://rolisz.ro/2010/10/31/amazing-month/: 200 OK\n",
      "Visited: https://rolisz.ro/2010/10/31/amazing-month/ found 14 links\n",
      "Status for https://rolisz.ro/2016/04/10/fixing-the-bike/: 200 OK\n",
      "Visited: https://rolisz.ro/2016/04/10/fixing-the-bike/ found 12 links\n",
      "Status for https://rolisz.ro/2014/07/05/end-of-june-end-of-college/: 200 OK\n",
      "Visited: https://rolisz.ro/2014/07/05/end-of-june-end-of-college/ found 16 links\n",
      "Status for https://rolisz.ro/2011/02/04/olimpiada-nationala-de-fizica-2011-part-two/: 200 OK\n",
      "Visited: https://rolisz.ro/2011/02/04/olimpiada-nationala-de-fizica-2011-part-two/ found 14 links\n",
      "Status for https://rolisz.ro/2016/03/06/mayumana/: 200 OK\n",
      "Visited: https://rolisz.ro/2016/03/06/mayumana/ found 14 links\n",
      "Status for https://rolisz.ro/2016/01/01/setting-goals/amp/: 200 OK\n",
      "Visited: https://rolisz.ro/2016/01/01/setting-goals/amp/ found 3 links\n",
      "Status for https://rolisz.ro/tag/gpu/: 200 OK\n",
      "Visited: https://rolisz.ro/tag/gpu/ found 9 links\n",
      "Status for https://rolisz.ro/2014/10/08/getting-the-furniture/: 200 OK\n",
      "Visited: https://rolisz.ro/2014/10/08/getting-the-furniture/ found 14 links\n",
      "Status for https://rolisz.ro/2015/04/10/biking/: 200 OK\n",
      "Visited: https://rolisz.ro/2015/04/10/biking/ found 14 links\n",
      "Status for https://rolisz.ro/2013/01/01/katyas-world/: 200 OK\n",
      "Visited: https://rolisz.ro/2013/01/01/katyas-world/ found 14 links\n",
      "Status for https://rolisz.ro/2012/02/26/personal-update/: 200 OK\n",
      "Visited: https://rolisz.ro/2012/02/26/personal-update/ found 15 links\n",
      "Status for https://rolisz.ro/2011/01/20/fall-of-giants/: 200 OK\n",
      "Visited: https://rolisz.ro/2011/01/20/fall-of-giants/ found 15 links\n",
      "Status for https://rolisz.ro/2011/03/25/command-line/: 200 OK\n",
      "Visited: https://rolisz.ro/2011/03/25/command-line/ found 15 links\n",
      "Status for https://rolisz.ro/2013/11/10/laptop-refreshing/: 200 OK\n",
      "Visited: https://rolisz.ro/2013/11/10/laptop-refreshing/ found 14 links\n",
      "Status for https://rolisz.ro/2016/04/01/revisiting-romania/: 200 OK\n",
      "Visited: https://rolisz.ro/2016/04/01/revisiting-romania/ found 15 links\n",
      "Status for https://rolisz.ro/2011/01/15/olimpiada-judeteana-de-fizica-2011/: 200 OK\n",
      "Visited: https://rolisz.ro/2011/01/15/olimpiada-judeteana-de-fizica-2011/ found 14 links\n",
      "Status for https://rolisz.ro/tag/trips/: 200 OK\n",
      "Visited: https://rolisz.ro/tag/trips/ found 31 links\n",
      "Status for https://rolisz.ro/2011/03/29/polonia/: 200 OK\n",
      "Visited: https://rolisz.ro/2011/03/29/polonia/ found 14 links\n",
      "Status for https://rolisz.ro/2010/07/30/cambridge-follow-up/: 200 OK\n",
      "Visited: https://rolisz.ro/2010/07/30/cambridge-follow-up/ found 14 links\n",
      "Status for https://rolisz.ro/2016/07/23/50-days-of-roland/: 200 OK\n",
      "Visited: https://rolisz.ro/2016/07/23/50-days-of-roland/ found 11 links\n",
      "Status for https://rolisz.ro/2015/05/07/google-cardboard/: 200 OK\n",
      "Visited: https://rolisz.ro/2015/05/07/google-cardboard/ found 11 links\n",
      "Status for https://rolisz.ro/tag/internship/: 200 OK\n",
      "Visited: https://rolisz.ro/tag/internship/ found 10 links\n",
      "Status for https://rolisz.ro/2011/09/29/im-off-for-real-this-time/: 200 OK\n",
      "Visited: https://rolisz.ro/2011/09/29/im-off-for-real-this-time/ found 14 links\n",
      "Status for https://rolisz.ro/2011/07/17/lenovo-t520-review/: 200 OK\n",
      "Visited: https://rolisz.ro/2011/07/17/lenovo-t520-review/ found 14 links\n",
      "Status for https://rolisz.ro/2012/09/11/oldies-but-goldies/: 200 OK\n",
      "Visited: https://rolisz.ro/2012/09/11/oldies-but-goldies/ found 14 links\n",
      "Status for https://rolisz.ro/2010/11/20/inception/: 200 OK\n",
      "Visited: https://rolisz.ro/2010/11/20/inception/ found 14 links\n",
      "Status for https://rolisz.ro/2011/11/17/update-facultate/: 200 OK\n",
      "Visited: https://rolisz.ro/2011/11/17/update-facultate/ found 14 links\n",
      "Status for https://rolisz.ro/tag/challenge/: 200 OK\n",
      "Visited: https://rolisz.ro/tag/challenge/ found 12 links\n",
      "Status for https://rolisz.ro/2015/10/08/google-tech-talk-babes-bolyai-university/amp/: 200 OK\n",
      "Visited: https://rolisz.ro/2015/10/08/google-tech-talk-babes-bolyai-university/amp/ found 3 links\n",
      "Status for https://rolisz.ro/2010/11/25/demonul-lui-maxwell-for-real/: 200 OK\n",
      "Visited: https://rolisz.ro/2010/11/25/demonul-lui-maxwell-for-real/ found 14 links\n",
      "Status for https://rolisz.ro/2015/04/20/sechselaueten/: 200 OK\n",
      "Visited: https://rolisz.ro/2015/04/20/sechselaueten/ found 14 links\n",
      "Status for https://rolisz.ro/2013/03/03/git-tutorial-part-2/amp/: 200 OK\n",
      "Visited: https://rolisz.ro/2013/03/03/git-tutorial-part-2/amp/ found 4 links\n",
      "Status for https://rolisz.ro/2013/02/25/cura-de-slabire/: 200 OK\n",
      "Visited: https://rolisz.ro/2013/02/25/cura-de-slabire/ found 14 links\n",
      "Status for https://rolisz.ro/2012/06/07/la-multi-ani-blogule/: 200 OK\n",
      "Visited: https://rolisz.ro/2012/06/07/la-multi-ani-blogule/ found 17 links\n",
      "Status for https://rolisz.ro/2011/09/22/windows-8-developer-preview-part-1/: 200 OK\n",
      "Visited: https://rolisz.ro/2011/09/22/windows-8-developer-preview-part-1/ found 14 links\n",
      "Status for https://rolisz.ro/2013/11/05/last-week-panic/: 200 OK\n",
      "Visited: https://rolisz.ro/2013/11/05/last-week-panic/ found 12 links\n",
      "Status for https://rolisz.ro/tag/lisp/: 200 OK\n",
      "Visited: https://rolisz.ro/tag/lisp/ found 10 links\n",
      "Status for https://rolisz.ro/2014/03/17/alida/: 200 OK\n",
      "Visited: https://rolisz.ro/2014/03/17/alida/ found 14 links\n",
      "Status for https://rolisz.ro/tag/facultate/: 200 OK\n",
      "Visited: https://rolisz.ro/tag/facultate/ found 30 links\n",
      "Status for https://rolisz.ro/2015/04/15/visiting-romania/: 200 OK\n",
      "Visited: https://rolisz.ro/2015/04/15/visiting-romania/ found 14 links\n",
      "Status for https://rolisz.ro/2017/02/05/winter-sports/: 200 OK\n",
      "Visited: https://rolisz.ro/2017/02/05/winter-sports/ found 12 links\n",
      "Status for https://rolisz.ro/tag/presentation/: 200 OK\n",
      "Visited: https://rolisz.ro/tag/presentation/ found 14 links\n",
      "Status for https://rolisz.ro/2012/07/05/experienta-mea-cu-linux-part-5/: 200 OK\n",
      "Visited: https://rolisz.ro/2012/07/05/experienta-mea-cu-linux-part-5/ found 14 links\n",
      "Status for https://rolisz.ro/tag/tutorial/: 200 OK\n",
      "Visited: https://rolisz.ro/tag/tutorial/ found 33 links\n",
      "Status for https://rolisz.ro/2010/10/08/big-day/: 200 OK\n",
      "Visited: https://rolisz.ro/2010/10/08/big-day/ found 14 links\n",
      "Status for https://rolisz.ro/tag/fizica/: 200 OK\n",
      "Visited: https://rolisz.ro/tag/fizica/ found 13 links\n",
      "Status for https://rolisz.ro/2010/06/15/rss-reader/: 200 OK\n",
      "Visited: https://rolisz.ro/2010/06/15/rss-reader/ found 14 links\n",
      "Status for https://rolisz.ro/2011/01/02/2010-in-review/: 200 OK\n",
      "Visited: https://rolisz.ro/2011/01/02/2010-in-review/ found 14 links\n",
      "Status for https://rolisz.ro/2016/05/11/hanz-zimmer-live-on-tour/: 200 OK\n",
      "Visited: https://rolisz.ro/2016/05/11/hanz-zimmer-live-on-tour/ found 14 links\n"
     ]
    },
    {
     "name": "stdout",
     "output_type": "stream",
     "text": [
      "Status for https://rolisz.ro/2016/07/24/50-days-of-roland/: 200 OK\n",
      "Visited: https://rolisz.ro/2016/07/24/50-days-of-roland/ found 12 links\n",
      "Status for https://rolisz.ro/2011/04/23/php-benchmarking/: 200 OK\n",
      "Visited: https://rolisz.ro/2011/04/23/php-benchmarking/ found 14 links\n",
      "Status for https://rolisz.ro/2010/10/28/webcomics/: 200 OK\n",
      "Visited: https://rolisz.ro/2010/10/28/webcomics/ found 14 links\n",
      "Status for https://rolisz.ro/2014/06/05/festivitate-informatica-ubb/: 200 OK\n",
      "Visited: https://rolisz.ro/2014/06/05/festivitate-informatica-ubb/ found 13 links\n",
      "Status for https://rolisz.ro/2010/06/13/experienta-mea-cu-linux-part-1/: 200 OK\n",
      "Visited: https://rolisz.ro/2010/06/13/experienta-mea-cu-linux-part-1/ found 14 links\n",
      "Status for https://rolisz.ro/2013/09/15/ultima-vacanta-de-vara/: 200 OK\n",
      "Visited: https://rolisz.ro/2013/09/15/ultima-vacanta-de-vara/ found 14 links\n",
      "Status for https://rolisz.ro/2010/07/25/used-by-me-3/: 200 OK\n",
      "Visited: https://rolisz.ro/2010/07/25/used-by-me-3/ found 14 links\n",
      "Status for https://rolisz.ro/tag/reviews/page/3/: 200 OK\n",
      "Visited: https://rolisz.ro/tag/reviews/page/3/ found 35 links\n",
      "Status for https://rolisz.ro/2015/06/13/trip-to-dublin/: 200 OK\n",
      "Visited: https://rolisz.ro/2015/06/13/trip-to-dublin/ found 15 links\n",
      "Status for https://rolisz.ro/2013/12/31/happy-new-year/: 200 OK\n",
      "Visited: https://rolisz.ro/2013/12/31/happy-new-year/ found 16 links\n",
      "Status for https://rolisz.ro/2015/12/18/the-force-awakens/: 200 OK\n",
      "Visited: https://rolisz.ro/2015/12/18/the-force-awakens/ found 14 links\n",
      "Status for https://rolisz.ro/tag/windows/: 200 OK\n",
      "Visited: https://rolisz.ro/tag/windows/ found 19 links\n",
      "Status for https://rolisz.ro/2014/03/02/walter-the-waiter/: 200 OK\n",
      "Visited: https://rolisz.ro/2014/03/02/walter-the-waiter/ found 14 links\n",
      "Status for https://rolisz.ro/2014/06/23/changing-romania-one-square-meter-at-a-time/: 200 OK\n",
      "Visited: https://rolisz.ro/2014/06/23/changing-romania-one-square-meter-at-a-time/ found 14 links\n",
      "Status for https://rolisz.ro/tag/physics/: 200 OK\n",
      "Visited: https://rolisz.ro/tag/physics/ found 13 links\n",
      "Status for https://rolisz.ro/2015/12/13/panasonic-lumix-dmc-lx100-review/: 200 OK\n",
      "Visited: https://rolisz.ro/2015/12/13/panasonic-lumix-dmc-lx100-review/ found 17 links\n",
      "New urls: 89\n",
      "Status for https://rolisz.ro/2014/01/17/today-software-magazine/: 200 OK\n",
      "Visited: https://rolisz.ro/2014/01/17/today-software-magazine/ found 14 links\n",
      "Status for https://rolisz.ro/tag/philosophy/: 200 OK\n",
      "Visited: https://rolisz.ro/tag/philosophy/ found 11 links\n",
      "Status for https://rolisz.ro/2011/09/08/diaspora/: 200 OK\n",
      "Visited: https://rolisz.ro/2011/09/08/diaspora/ found 14 links\n",
      "Status for https://rolisz.ro/tag/fail/: 200 OK\n",
      "Visited: https://rolisz.ro/tag/fail/ found 14 links\n",
      "Status for https://rolisz.ro/2013/11/28/roboti-inteligenti/: 200 OK\n",
      "Visited: https://rolisz.ro/2013/11/28/roboti-inteligenti/ found 14 links\n",
      "Status for https://rolisz.ro/tag/statistici/: 200 OK\n",
      "Visited: https://rolisz.ro/tag/statistici/ found 11 links\n",
      "Status for https://rolisz.ro/2010/12/22/eliberarea-lui-mos-craciun/: 200 OK\n",
      "Visited: https://rolisz.ro/2010/12/22/eliberarea-lui-mos-craciun/ found 11 links\n",
      "Status for https://rolisz.ro/2012/03/17/mass-effect-3/: 200 OK\n",
      "Visited: https://rolisz.ro/2012/03/17/mass-effect-3/ found 14 links\n",
      "Status for https://rolisz.ro/2014/03/28/2048/: 200 OK\n",
      "Visited: https://rolisz.ro/2014/03/28/2048/ found 13 links\n",
      "Status for https://rolisz.ro/2011/09/04/pregatire-pentru-facultate-part-two/: 200 OK\n",
      "Visited: https://rolisz.ro/2011/09/04/pregatire-pentru-facultate-part-two/ found 13 links\n",
      "Status for https://rolisz.ro/2013/11/21/cmd-line-batch-installer/: 404 Not Found\n",
      "Visited: https://rolisz.ro/2013/11/21/cmd-line-batch-installer/ found 0 links\n",
      "Status for https://rolisz.ro/2012/01/07/redirecting-python-output-from-the-command-line/: 200 OK\n",
      "Visited: https://rolisz.ro/2012/01/07/redirecting-python-output-from-the-command-line/ found 14 links\n",
      "Status for https://rolisz.ro/2016/07/23/50-days-of-roland/amp/: 200 OK\n",
      "Visited: https://rolisz.ro/2016/07/23/50-days-of-roland/amp/ found 3 links\n",
      "Status for https://rolisz.ro/2016/09/17/good-bye-alida/amp/: 200 OK\n",
      "Visited: https://rolisz.ro/2016/09/17/good-bye-alida/amp/ found 3 links\n",
      "Status for https://rolisz.ro/tag/cluj/: 200 OK\n",
      "Visited: https://rolisz.ro/tag/cluj/ found 20 links\n",
      "Status for https://rolisz.ro/tag/recensamant/: 200 OK\n",
      "Visited: https://rolisz.ro/tag/recensamant/ found 9 links\n",
      "Status for https://rolisz.ro/2012/06/18/examen-poo-grupa-211-215/: 404 Not Found\n",
      "Visited: https://rolisz.ro/2012/06/18/examen-poo-grupa-211-215/ found 0 links\n",
      "Status for https://rolisz.ro/2014/11/05/going-to-vote/: 200 OK\n",
      "Visited: https://rolisz.ro/2014/11/05/going-to-vote/ found 13 links\n",
      "Status for https://rolisz.ro/tag/orange/: 200 OK\n",
      "Visited: https://rolisz.ro/tag/orange/ found 11 links\n",
      "Status for https://rolisz.ro/2014/02/12/ubbots-2014/: 200 OK\n",
      "Visited: https://rolisz.ro/2014/02/12/ubbots-2014/ found 14 links\n",
      "Status for https://rolisz.ro/tag/diving/: 200 OK\n",
      "Visited: https://rolisz.ro/tag/diving/ found 9 links\n",
      "Status for https://rolisz.ro/tag/birthday/: 200 OK\n",
      "Visited: https://rolisz.ro/tag/birthday/ found 15 links\n",
      "Status for https://rolisz.ro/2011/12/27/vacanta/: 200 OK\n",
      "Visited: https://rolisz.ro/2011/12/27/vacanta/ found 12 links\n",
      "Status for https://rolisz.ro/2012/05/02/cititul-e-fun/: 200 OK\n",
      "Visited: https://rolisz.ro/2012/05/02/cititul-e-fun/ found 14 links\n",
      "Status for https://rolisz.ro/2011/04/10/infomatrix/: 200 OK\n",
      "Visited: https://rolisz.ro/2011/04/10/infomatrix/ found 14 links\n",
      "Status for https://rolisz.ro/2010/12/20/rapirea-lui-mos-craciun-de-catre-teroristi/: 200 OK\n",
      "Visited: https://rolisz.ro/2010/12/20/rapirea-lui-mos-craciun-de-catre-teroristi/ found 11 links\n",
      "Status for https://rolisz.ro/2012/06/05/subiecte-la-so/: 404 Not Found\n",
      "Visited: https://rolisz.ro/2012/06/05/subiecte-la-so/ found 0 links\n",
      "Status for https://rolisz.ro/2012/02/11/statistici-fp/: 404 Not Found\n",
      "Visited: https://rolisz.ro/2012/02/11/statistici-fp/ found 0 links\n",
      "Status for https://rolisz.ro/2011/10/08/filmele-verii/: 200 OK\n",
      "Visited: https://rolisz.ro/2011/10/08/filmele-verii/ found 14 links\n",
      "Status for https://rolisz.ro/2010/11/07/orange-boston-part-deux/: 200 OK\n",
      "Visited: https://rolisz.ro/2010/11/07/orange-boston-part-deux/ found 13 links\n",
      "Status for https://rolisz.ro/tag/mass-effect/: 200 OK\n",
      "Visited: https://rolisz.ro/tag/mass-effect/ found 11 links\n",
      "Status for https://rolisz.ro/2010/06/11/the-end-of-school/: 200 OK\n",
      "Visited: https://rolisz.ro/2010/06/11/the-end-of-school/ found 14 links\n",
      "Status for https://rolisz.ro/2011/02/14/eminescu/: 200 OK\n",
      "Visited: https://rolisz.ro/2011/02/14/eminescu/ found 11 links\n",
      "Status for https://rolisz.ro/2014/10/11/best-workout/: 200 OK\n",
      "Visited: https://rolisz.ro/2014/10/11/best-workout/ found 11 links\n",
      "Status for https://rolisz.ro/2010/06/26/pillars-of-the-earth/: 404 Not Found\n",
      "Visited: https://rolisz.ro/2010/06/26/pillars-of-the-earth/ found 0 links\n",
      "Status for https://rolisz.ro/2012/03/03/viata-de-student-desert/: 200 OK\n",
      "Visited: https://rolisz.ro/2012/03/03/viata-de-student-desert/ found 14 links\n",
      "Status for https://rolisz.ro/tag/cooking/: 200 OK\n",
      "Visited: https://rolisz.ro/tag/cooking/ found 10 links\n",
      "Status for https://rolisz.ro/2010/11/21/need-for-speed-hot-pursuit/: 200 OK\n",
      "Visited: https://rolisz.ro/2010/11/21/need-for-speed-hot-pursuit/ found 14 links\n",
      "Status for https://rolisz.ro/author/rolisz/page/5/: 200 OK\n",
      "Visited: https://rolisz.ro/author/rolisz/page/5/ found 35 links\n",
      "Status for https://rolisz.ro/tag/skiing/: 200 OK\n",
      "Visited: https://rolisz.ro/tag/skiing/ found 10 links\n",
      "Status for https://rolisz.ro/2012/02/10/statistici-ac/: 404 Not Found\n",
      "Visited: https://rolisz.ro/2012/02/10/statistici-ac/ found 0 links\n",
      "Status for https://rolisz.ro/2011/09/17/horvath-janos-iskolacsoport-megnyitasa/: 200 OK\n",
      "Visited: https://rolisz.ro/2011/09/17/horvath-janos-iskolacsoport-megnyitasa/ found 13 links\n",
      "Status for https://rolisz.ro/2012/03/24/educatie-online/: 200 OK\n",
      "Visited: https://rolisz.ro/2012/03/24/educatie-online/ found 14 links\n",
      "Status for https://rolisz.ro/tag/nablopomo/: 200 OK\n",
      "Visited: https://rolisz.ro/tag/nablopomo/ found 11 links\n",
      "Status for https://rolisz.ro/2016/04/24/musings-about-free-will/: 200 OK\n",
      "Visited: https://rolisz.ro/2016/04/24/musings-about-free-will/ found 13 links\n"
     ]
    },
    {
     "name": "stdout",
     "output_type": "stream",
     "text": [
      "Status for https://rolisz.ro/2012/10/11/anul-2/: 200 OK\n",
      "Visited: https://rolisz.ro/2012/10/11/anul-2/ found 14 links\n",
      "Status for https://rolisz.ro/tag/competition/: 200 OK\n",
      "Visited: https://rolisz.ro/tag/competition/ found 16 links\n",
      "Status for https://rolisz.ro/2011/10/07/facultate-first-impressions/: 200 OK\n",
      "Visited: https://rolisz.ro/2011/10/07/facultate-first-impressions/ found 14 links\n",
      "Status for https://rolisz.ro/page/6/: 200 OK\n",
      "Visited: https://rolisz.ro/page/6/ found 35 links\n",
      "Status for https://rolisz.ro/tag/holiday/: 200 OK\n",
      "Visited: https://rolisz.ro/tag/holiday/ found 11 links\n",
      "Status for https://rolisz.ro/2010/12/17/tron-evolution/: 200 OK\n",
      "Visited: https://rolisz.ro/2010/12/17/tron-evolution/ found 14 links\n",
      "Status for https://rolisz.ro/tag/php/: 200 OK\n",
      "Visited: https://rolisz.ro/tag/php/ found 10 links\n",
      "Status for https://rolisz.ro/2012/06/03/cu-bita-prin-cluj/: 200 OK\n",
      "Visited: https://rolisz.ro/2012/06/03/cu-bita-prin-cluj/ found 13 links\n",
      "Status for https://rolisz.ro/tag/voting/: 200 OK\n",
      "Visited: https://rolisz.ro/tag/voting/ found 11 links\n",
      "Status for https://rolisz.ro/2014/06/28/interviu-cu-echipa-secureye/: 200 OK\n",
      "Visited: https://rolisz.ro/2014/06/28/interviu-cu-echipa-secureye/ found 14 links\n",
      "Status for https://rolisz.ro/2010/12/15/andrei-plesu/: 200 OK\n",
      "Visited: https://rolisz.ro/2010/12/15/andrei-plesu/ found 11 links\n",
      "Status for https://rolisz.ro/2010/11/20/arduino/: 200 OK\n",
      "Visited: https://rolisz.ro/2010/11/20/arduino/ found 14 links\n",
      "Status for https://rolisz.ro/tag/bike/: 200 OK\n",
      "Visited: https://rolisz.ro/tag/bike/ found 10 links\n",
      "Status for https://rolisz.ro/2010/07/29/bancuri-bilingve/: 200 OK\n",
      "Visited: https://rolisz.ro/2010/07/29/bancuri-bilingve/ found 11 links\n",
      "Status for https://rolisz.ro/tag/reviews/page/4/: 200 OK\n",
      "Visited: https://rolisz.ro/tag/reviews/page/4/ found 23 links\n",
      "Status for https://rolisz.ro/2014/11/09/rabechilbi/: 200 OK\n",
      "Visited: https://rolisz.ro/2014/11/09/rabechilbi/ found 14 links\n",
      "Status for https://rolisz.ro/tag/marghita/: 200 OK\n",
      "Visited: https://rolisz.ro/tag/marghita/ found 12 links\n",
      "Status for https://rolisz.ro/2012/01/30/examen-fp-grupa-211/: 404 Not Found\n",
      "Visited: https://rolisz.ro/2012/01/30/examen-fp-grupa-211/ found 0 links\n",
      "Status for https://rolisz.ro/2016/05/11/hanz-zimmer-live-on-tour/amp/: 200 OK\n",
      "Visited: https://rolisz.ro/2016/05/11/hanz-zimmer-live-on-tour/amp/ found 3 links\n",
      "Status for https://rolisz.ro/2014/05/13/ghid-optionale-ubb-info/: 200 OK\n",
      "Visited: https://rolisz.ro/2014/05/13/ghid-optionale-ubb-info/ found 13 links\n",
      "Status for https://rolisz.ro/2011/01/07/the-social-network/: 200 OK\n",
      "Visited: https://rolisz.ro/2011/01/07/the-social-network/ found 14 links\n",
      "Status for https://rolisz.ro/2010/12/01/experienta-mea-cu-linux-part-3/amp/: 200 OK\n",
      "Visited: https://rolisz.ro/2010/12/01/experienta-mea-cu-linux-part-3/amp/ found 3 links\n",
      "Status for https://rolisz.ro/tag/cardboard/: 200 OK\n",
      "Visited: https://rolisz.ro/tag/cardboard/ found 9 links\n",
      "Status for https://rolisz.ro/2011/03/20/how-to-setup-phpunit-on-wamp/: 404 Not Found\n",
      "Visited: https://rolisz.ro/2011/03/20/how-to-setup-phpunit-on-wamp/ found 0 links\n",
      "Status for https://rolisz.ro/2011/07/10/google/: 200 OK\n",
      "Visited: https://rolisz.ro/2011/07/10/google/ found 14 links\n",
      "Status for https://rolisz.ro/tag/zurich/: 200 OK\n",
      "Visited: https://rolisz.ro/tag/zurich/ found 26 links\n",
      "Status for https://rolisz.ro/tag/selfies/: 200 OK\n",
      "Visited: https://rolisz.ro/tag/selfies/ found 10 links\n",
      "Status for https://rolisz.ro/2011/02/08/windows-7-take-ownership/: 200 OK\n",
      "Visited: https://rolisz.ro/2011/02/08/windows-7-take-ownership/ found 14 links\n",
      "Status for https://rolisz.ro/2011/03/17/adblocking/: 200 OK\n",
      "Visited: https://rolisz.ro/2011/03/17/adblocking/ found 11 links\n",
      "Status for https://rolisz.ro/2012/03/03/filmele-iernii/: 200 OK\n",
      "Visited: https://rolisz.ro/2012/03/03/filmele-iernii/ found 14 links\n",
      "Status for https://rolisz.ro/2014/11/14/an-analysis-of-the-biasing-in-my-friendship-selection-process/: 200 OK\n",
      "Visited: https://rolisz.ro/2014/11/14/an-analysis-of-the-biasing-in-my-friendship-selection-process/ found 13 links\n",
      "Status for https://rolisz.ro/2011/03/10/google-code-in-2010/: 200 OK\n",
      "Visited: https://rolisz.ro/2011/03/10/google-code-in-2010/ found 14 links\n",
      "Status for https://rolisz.ro/2013/12/06/wireshark-and-amazon-swf/: 200 OK\n",
      "Visited: https://rolisz.ro/2013/12/06/wireshark-and-amazon-swf/ found 11 links\n",
      "Status for https://rolisz.ro/2012/06/04/latex-in-romana/: 200 OK\n",
      "Visited: https://rolisz.ro/2012/06/04/latex-in-romana/ found 11 links\n",
      "Status for https://rolisz.ro/2010/11/23/burg/: 404 Not Found\n",
      "Visited: https://rolisz.ro/2010/11/23/burg/ found 0 links\n",
      "Status for https://rolisz.ro/2011/08/25/sibiu-fosta-capitala-culturala-europeana/: 200 OK\n",
      "Visited: https://rolisz.ro/2011/08/25/sibiu-fosta-capitala-culturala-europeana/ found 14 links\n",
      "Status for https://rolisz.ro/tag/geneva/: 200 OK\n",
      "Visited: https://rolisz.ro/tag/geneva/ found 10 links\n",
      "Status for https://rolisz.ro/tag/sports/: 200 OK\n",
      "Visited: https://rolisz.ro/tag/sports/ found 10 links\n",
      "Status for https://rolisz.ro/2013/11/03/nablopomo/: 200 OK\n",
      "Visited: https://rolisz.ro/2013/11/03/nablopomo/ found 12 links\n",
      "Status for https://rolisz.ro/2013/06/15/examen-retele-225-si-226/: 404 Not Found\n",
      "Visited: https://rolisz.ro/2013/06/15/examen-retele-225-si-226/ found 0 links\n",
      "Status for https://rolisz.ro/2010/11/06/dimensionalitatea-spatiului-timp/: 200 OK\n",
      "Visited: https://rolisz.ro/2010/11/06/dimensionalitatea-spatiului-timp/ found 14 links\n",
      "Status for https://rolisz.ro/2012/10/21/harap-alb-continua/: 200 OK\n",
      "Visited: https://rolisz.ro/2012/10/21/harap-alb-continua/ found 14 links\n",
      "Status for https://rolisz.ro/2010/11/27/the-expendables/: 200 OK\n",
      "Visited: https://rolisz.ro/2010/11/27/the-expendables/ found 14 links\n",
      "Status for https://rolisz.ro/2015/06/12/trip-to-dublin/amp/: 200 OK\n",
      "Visited: https://rolisz.ro/2015/06/12/trip-to-dublin/amp/ found 3 links\n",
      "New urls: 22\n",
      "Status for https://rolisz.ro/tag/interview/: 200 OK\n",
      "Visited: https://rolisz.ro/tag/interview/ found 11 links\n",
      "Status for https://rolisz.ro/tag/kitchen/: 200 OK\n",
      "Visited: https://rolisz.ro/tag/kitchen/ found 12 links\n",
      "Status for https://rolisz.ro/tag/latex/: 200 OK\n",
      "Visited: https://rolisz.ro/tag/latex/ found 9 links\n",
      "Status for https://rolisz.ro/tag/workout/: 200 OK\n",
      "Visited: https://rolisz.ro/tag/workout/ found 9 links\n",
      "Status for https://rolisz.ro/tag/andrei-plesu/: 200 OK\n",
      "Visited: https://rolisz.ro/tag/andrei-plesu/ found 9 links\n",
      "Status for https://rolisz.ro/2010/06/08/borderlands/: 200 OK\n",
      "Visited: https://rolisz.ro/2010/06/08/borderlands/ found 13 links\n",
      "Status for https://rolisz.ro/tag/electronics/: 200 OK\n",
      "Visited: https://rolisz.ro/tag/electronics/ found 13 links\n",
      "Status for https://rolisz.ro/2012/10/17/smenu-balinez-cu-lumanarea/: 200 OK\n",
      "Visited: https://rolisz.ro/2012/10/17/smenu-balinez-cu-lumanarea/ found 14 links\n",
      "Status for https://rolisz.ro/tag/wireshark/: 200 OK\n",
      "Visited: https://rolisz.ro/tag/wireshark/ found 9 links\n",
      "Status for https://rolisz.ro/tag/politics/: 200 OK\n",
      "Visited: https://rolisz.ro/tag/politics/ found 11 links\n",
      "Status for https://rolisz.ro/tag/ubb/: 200 OK\n",
      "Visited: https://rolisz.ro/tag/ubb/ found 11 links\n",
      "Status for https://rolisz.ro/tag/ads/: 200 OK\n",
      "Visited: https://rolisz.ro/tag/ads/ found 9 links\n",
      "Status for https://rolisz.ro/tag/school/: 200 OK\n",
      "Visited: https://rolisz.ro/tag/school/ found 11 links\n",
      "Status for https://rolisz.ro/tag/google/: 200 OK\n",
      "Visited: https://rolisz.ro/tag/google/ found 14 links\n",
      "Status for https://rolisz.ro/2010/06/08/iphone-4/: 200 OK\n",
      "Visited: https://rolisz.ro/2010/06/08/iphone-4/ found 14 links\n",
      "Status for https://rolisz.ro/tag/compiling/: 200 OK\n",
      "Visited: https://rolisz.ro/tag/compiling/ found 10 links\n",
      "Status for https://rolisz.ro/author/rolisz/page/6/: 200 OK\n",
      "Visited: https://rolisz.ro/author/rolisz/page/6/ found 35 links\n",
      "Status for https://rolisz.ro/tag/poetry/: 200 OK\n",
      "Visited: https://rolisz.ro/tag/poetry/ found 9 links\n",
      "Status for https://rolisz.ro/tag/bancuri/: 200 OK\n",
      "Visited: https://rolisz.ro/tag/bancuri/ found 9 links\n",
      "Status for https://rolisz.ro/tag/cnog/: 200 OK\n",
      "Visited: https://rolisz.ro/tag/cnog/ found 10 links\n",
      "Status for https://rolisz.ro/tag/biking/: 200 OK\n",
      "Visited: https://rolisz.ro/tag/biking/ found 11 links\n",
      "Status for https://rolisz.ro/page/7/: 200 OK\n"
     ]
    },
    {
     "name": "stdout",
     "output_type": "stream",
     "text": [
      "Visited: https://rolisz.ro/page/7/ found 35 links\n",
      "New urls: 3\n",
      "Status for https://rolisz.ro/tag/fun/: 200 OK\n",
      "Visited: https://rolisz.ro/tag/fun/ found 26 links\n",
      "Status for https://rolisz.ro/author/rolisz/page/7/: 200 OK\n",
      "Visited: https://rolisz.ro/author/rolisz/page/7/ found 35 links\n",
      "Status for https://rolisz.ro/page/8/: 200 OK\n",
      "Visited: https://rolisz.ro/page/8/ found 35 links\n",
      "New urls: 2\n",
      "Status for https://rolisz.ro/page/9/: 200 OK\n",
      "Visited: https://rolisz.ro/page/9/ found 35 links\n",
      "Status for https://rolisz.ro/author/rolisz/page/8/: 200 OK\n",
      "Visited: https://rolisz.ro/author/rolisz/page/8/ found 35 links\n",
      "New urls: 2\n",
      "Status for https://rolisz.ro/page/10/: 200 OK\n",
      "Visited: https://rolisz.ro/page/10/ found 35 links\n",
      "Status for https://rolisz.ro/author/rolisz/page/9/: 200 OK\n",
      "Visited: https://rolisz.ro/author/rolisz/page/9/ found 35 links\n",
      "New urls: 2\n",
      "Status for https://rolisz.ro/author/rolisz/page/10/: 200 OK\n",
      "Visited: https://rolisz.ro/author/rolisz/page/10/ found 35 links\n",
      "Status for https://rolisz.ro/page/11/: 200 OK\n",
      "Visited: https://rolisz.ro/page/11/ found 35 links\n",
      "New urls: 2\n",
      "Status for https://rolisz.ro/page/12/: 200 OK\n",
      "Visited: https://rolisz.ro/page/12/ found 35 links\n",
      "Status for https://rolisz.ro/author/rolisz/page/11/: 200 OK\n",
      "Visited: https://rolisz.ro/author/rolisz/page/11/ found 35 links\n",
      "New urls: 2\n",
      "Status for https://rolisz.ro/page/13/: 200 OK\n",
      "Visited: https://rolisz.ro/page/13/ found 35 links\n",
      "Status for https://rolisz.ro/author/rolisz/page/12/: 200 OK\n",
      "Visited: https://rolisz.ro/author/rolisz/page/12/ found 35 links\n",
      "New urls: 2\n",
      "Status for https://rolisz.ro/author/rolisz/page/13/: 200 OK\n",
      "Visited: https://rolisz.ro/author/rolisz/page/13/ found 35 links\n",
      "Status for https://rolisz.ro/page/14/: 200 OK\n",
      "Visited: https://rolisz.ro/page/14/ found 35 links\n",
      "New urls: 2\n",
      "Status for https://rolisz.ro/page/15/: 200 OK\n",
      "Visited: https://rolisz.ro/page/15/ found 35 links\n",
      "Status for https://rolisz.ro/author/rolisz/page/14/: 200 OK\n",
      "Visited: https://rolisz.ro/author/rolisz/page/14/ found 35 links\n",
      "New urls: 2\n",
      "Status for https://rolisz.ro/page/16/: 200 OK\n",
      "Visited: https://rolisz.ro/page/16/ found 12 links\n",
      "Status for https://rolisz.ro/author/rolisz/page/15/: 200 OK\n",
      "Visited: https://rolisz.ro/author/rolisz/page/15/ found 35 links\n",
      "New urls: 1\n",
      "Status for https://rolisz.ro/author/rolisz/page/16/: 200 OK\n",
      "Visited: https://rolisz.ro/author/rolisz/page/16/ found 12 links\n",
      "New urls: 0\n",
      "URLs: {\n",
      "    \"https://rolisz.ro/personal/rss/\",\n",
      "    \"https://rolisz.ro/author/rolisz/\",\n",
      "    \"https://rolisz.ro/2020/06/02/quarantine-boardgames-pandemic/\",\n",
      "    \"https://rolisz.ro/2020/05/11/quarantine-boardgames-plague-inc/\",\n",
      "    \"https://rolisz.ro/about-me/\",\n",
      "    \"https://rolisz.ro/2020/06/15/how-much-does-it-cost-to-run-this-blog/\",\n",
      "    \"https://rolisz.ro/page/2/\",\n",
      "    \"https://rolisz.ro/2020/06/27/pixel-3a/\",\n",
      "    \"https://rolisz.ro/2020/05/09/the-beauty-of-suncuius-part-2/\",\n",
      "    \"https://rolisz.ro/2020/06/08/boardgames-party-codenames/\",\n",
      "    \"https://rolisz.ro/2020/05/05/why-i-blog/\",\n",
      "    \"https://rolisz.ro/tech/rss/\",\n",
      "    \"https://rolisz.ro/2020/06/14/operating-system-journey/\",\n",
      "    \"https://rolisz.ro/2020/05/07/splitting-up-my-blog/\",\n",
      "    \"https://rolisz.ro/2020/06/10/playing-codenames-with-rust/\",\n",
      "    \"https://rolisz.ro/rss/\",\n",
      "    \"https://rolisz.ro/2020/05/19/bridging-networks-with-a-synology-nas/\",\n",
      "    \"https://rolisz.ro/2020/06/01/yard-work/\",\n",
      "    \"https://rolisz.ro/projects/\",\n",
      "    \"https://rolisz.ro/2020/06/07/new-desk-setup/\",\n",
      "    \"https://rolisz.ro/uses/\",\n",
      "    \"https://rolisz.ro/2020/05/18/an-unexpected-error-in-rust/\",\n",
      "    \"https://rolisz.ro/2020/05/16/quarantine-boardgames-itchy-feet/\",\n",
      "    \"https://rolisz.ro/2020/06/08/happy-decennial/\",\n",
      "    \"https://rolisz.ro/2020/05/12/productivity-tips-pomodoros/\",\n",
      "    \"https://rolisz.ro/2020/05/08/on-text-editors/\",\n",
      "    \"https://rolisz.ro/2020/05/26/duckduckgo/\",\n",
      "    \"https://rolisz.ro/2020/05/14/travelers/\",\n",
      "    \"https://rolisz.ro/2020/05/24/bullet-journaling/\",\n",
      "    \"https://rolisz.ro/2020/05/20/about-time/\",\n",
      "    \"https://rolisz.ro/2020/05/13/adding-search-to-static-ghost/\",\n",
      "    \"https://rolisz.ro/2020/05/06/connecting-to-azure-pypi-repositories/\",\n",
      "    \"https://rolisz.ro/2020/05/15/context-variables-in-python/\",\n",
      "}\n",
      "34\n"
     ]
    },
    {
     "data": {
      "text/plain": [
       "()"
      ]
     },
     "execution_count": 49,
     "metadata": {},
     "output_type": "execute_result"
    }
   ],
   "source": [
    "fn main() {\n",
    "    let now = Instant::now();\n",
    "\n",
    "    let client = reqwest::blocking::Client::new();\n",
    "    let origin_url = \"https://rolisz.ro/\";\n",
    "\n",
    "    let body= fetch_url(&client, origin_url);\n",
    "\n",
    "    write_file(\"\", &body);\n",
    "    let mut visited = HashSet::new();\n",
    "    visited.insert(origin_url.to_string());\n",
    "    let found_urls = get_links_from_html(&body);\n",
    "    let mut new_urls = found_urls\n",
    "    \t.difference(&visited)\n",
    "        .map(|x| x.to_string())\n",
    "        .collect::<HashSet<String>>();\n",
    "\n",
    "    while new_urls.len() > 0 {\n",
    "        let mut found_urls: HashSet<String> = new_urls\n",
    "        \t.iter()\n",
    "            .map(|url| {\n",
    "                let body = fetch_url(&client, url);\n",
    "                write_file(&url[origin_url.len() - 1..], &body);\n",
    "                let links = get_links_from_html(&body);\n",
    "                println!(\"Visited: {} found {} links\", url, links.len());\n",
    "                links\n",
    "        })\n",
    "        .fold(HashSet::new(), |mut acc, x| {\n",
    "                acc.extend(x);\n",
    "                acc\n",
    "        });\n",
    "        visited.extend(new_urls);\n",
    "        new_urls = found_urls\n",
    "            .difference(&visited)\n",
    "            .map(|x| x.to_string())\n",
    "            .collect::<HashSet<String>>();\n",
    "        println!(\"New urls: {}\", new_urls.len())\n",
    "    }\n",
    "    println!(\"URLs: {:#?}\", found_urls);\n",
    "    println!(\"{}\", now.elapsed().as_secs());\n",
    "\n",
    "}\n",
    "main()\n"
   ]
  },
  {
   "cell_type": "code",
   "execution_count": null,
   "metadata": {
    "slideshow": {
     "slide_type": "notes"
    }
   },
   "outputs": [],
   "source": []
  },
  {
   "cell_type": "markdown",
   "metadata": {
    "slideshow": {
     "slide_type": "slide"
    }
   },
   "source": [
    "# Let's parallelize it!"
   ]
  },
  {
   "cell_type": "code",
   "execution_count": null,
   "metadata": {
    "cell_style": "split",
    "slideshow": {
     "slide_type": "-"
    }
   },
   "outputs": [],
   "source": [
    "use rayon::prelude::*;\n",
    "\n",
    "....\n",
    "while !new_urls.is_empty() {\n",
    "  let found_urls: HashSet<String> = new_urls\n",
    "    .par_iter()\n",
    "...\n",
    "    \n",
    "    .reduce(HashSet::new, |mut acc, x| {\n",
    "                acc.extend(x);\n",
    "                acc\n",
    "            })"
   ]
  },
  {
   "cell_type": "markdown",
   "metadata": {
    "cell_style": "split",
    "slideshow": {
     "slide_type": "fragment"
    }
   },
   "source": [
    "* Use the `rayon` library\n",
    "* Use `par_iter` instead of `iter`\n",
    "* Use the `reduce` function with a slightly different signature instead of `fold`"
   ]
  },
  {
   "cell_type": "code",
   "execution_count": 48,
   "metadata": {
    "cell_style": "center",
    "hide_input": false,
    "scrolled": true,
    "slideshow": {
     "slide_type": "fragment"
    }
   },
   "outputs": [
    {
     "name": "stdout",
     "output_type": "stream",
     "text": [
      "Status for https://rolisz.ro/: 200 OK\n",
      "Status for https://rolisz.ro/2020/05/19/bridging-networks-with-a-synology-nas/: 200 OK\n",
      "Status for https://rolisz.ro/uses/: 200 OK\n",
      "Visited: https://rolisz.ro/2020/05/19/bridging-networks-with-a-synology-nas/ found 13 links\n",
      "Status for https://rolisz.ro/2020/05/24/bullet-journaling/: 200 OK\n",
      "Visited: https://rolisz.ro/uses/ found 9 links\n",
      "Status for https://rolisz.ro/2020/05/18/an-unexpected-error-in-rust/: 200 OK\n",
      "Status for https://rolisz.ro/2020/05/14/travelers/: 200 OK\n",
      "Visited: https://rolisz.ro/2020/05/24/bullet-journaling/ found 13 links\n",
      "Status for https://rolisz.ro/2020/05/08/on-text-editors/: 200 OK\n",
      "Status for https://rolisz.ro/2020/06/02/quarantine-boardgames-pandemic/: 200 OK\n",
      "Status for https://rolisz.ro/2020/06/27/pixel-3a/: 200 OK\n",
      "Status for https://rolisz.ro/2020/05/06/connecting-to-azure-pypi-repositories/: 200 OK\n",
      "Status for https://rolisz.ro/2020/06/14/operating-system-journey/: 200 OK\n",
      "Visited: https://rolisz.ro/2020/05/18/an-unexpected-error-in-rust/ found 14 links\n",
      "Status for https://rolisz.ro/2020/05/20/about-time/: 200 OK\n",
      "Visited: https://rolisz.ro/2020/05/14/travelers/ found 14 links\n",
      "Status for https://rolisz.ro/2020/05/09/the-beauty-of-suncuius-part-2/: 200 OK\n",
      "Visited: https://rolisz.ro/2020/05/08/on-text-editors/ found 15 links\n",
      "Visited: https://rolisz.ro/2020/06/27/pixel-3a/ found 13 links\n",
      "Visited: https://rolisz.ro/2020/06/02/quarantine-boardgames-pandemic/ found 14 links\n",
      "Visited: https://rolisz.ro/2020/05/06/connecting-to-azure-pypi-repositories/ found 11 links\n",
      "Visited: https://rolisz.ro/2020/06/14/operating-system-journey/ found 18 links\n",
      "Status for https://rolisz.ro/projects/: 200 OK\n",
      "Status for https://rolisz.ro/2020/06/15/how-much-does-it-cost-to-run-this-blog/: 200 OK\n",
      "Visited: https://rolisz.ro/2020/05/20/about-time/ found 13 links\n",
      "Status for https://rolisz.ro/author/rolisz/: 200 OK\n",
      "Status for https://rolisz.ro/rss/: 200 OK\n",
      "Status for https://rolisz.ro/page/2/: 200 OK\n",
      "Visited: https://rolisz.ro/projects/ found 19 links\n",
      "Status for https://rolisz.ro/2020/05/13/adding-search-to-static-ghost/: 200 OK\n",
      "Status for https://rolisz.ro/personal/rss/: 200 OK\n",
      "Visited: https://rolisz.ro/2020/05/09/the-beauty-of-suncuius-part-2/ found 15 links\n",
      "Visited: https://rolisz.ro/rss/ found 9 links\n",
      "Status for https://rolisz.ro/2020/06/01/yard-work/: 200 OK\n",
      "Status for https://rolisz.ro/2020/06/07/new-desk-setup/: 200 OK\n",
      "Visited: https://rolisz.ro/2020/06/15/how-much-does-it-cost-to-run-this-blog/ found 14 links\n",
      "Visited: https://rolisz.ro/personal/rss/ found 7 links\n",
      "Status for https://rolisz.ro/2020/06/08/happy-decennial/: 200 OK\n",
      "Visited: https://rolisz.ro/author/rolisz/ found 33 links\n",
      "Visited: https://rolisz.ro/2020/05/13/adding-search-to-static-ghost/ found 14 links\n",
      "Status for https://rolisz.ro/about-me/: 200 OK\n",
      "Visited: https://rolisz.ro/page/2/ found 34 links\n",
      "Status for https://rolisz.ro/2020/06/10/playing-codenames-with-rust/: 200 OK\n",
      "Status for https://rolisz.ro/2020/05/11/quarantine-boardgames-plague-inc/: 200 OK\n",
      "Visited: https://rolisz.ro/2020/06/07/new-desk-setup/ found 14 links\n",
      "Status for https://rolisz.ro/2020/05/26/duckduckgo/: 200 OK\n",
      "Visited: https://rolisz.ro/2020/06/01/yard-work/ found 14 links\n",
      "Visited: https://rolisz.ro/2020/06/08/happy-decennial/ found 17 links\n",
      "Status for https://rolisz.ro/2020/05/07/splitting-up-my-blog/: 200 OK\n",
      "Status for https://rolisz.ro/2020/05/12/productivity-tips-pomodoros/: 200 OK\n",
      "Status for https://rolisz.ro/2020/05/16/quarantine-boardgames-itchy-feet/: 200 OK\n",
      "Visited: https://rolisz.ro/about-me/ found 6 links\n",
      "Status for https://rolisz.ro/2020/05/05/why-i-blog/: 200 OK\n",
      "Visited: https://rolisz.ro/2020/06/10/playing-codenames-with-rust/ found 14 links\n",
      "Visited: https://rolisz.ro/2020/05/26/duckduckgo/ found 14 links\n",
      "Visited: https://rolisz.ro/2020/05/11/quarantine-boardgames-plague-inc/ found 14 links\n",
      "Status for https://rolisz.ro/2020/06/08/boardgames-party-codenames/: 200 OK\n",
      "Visited: https://rolisz.ro/2020/05/07/splitting-up-my-blog/ found 14 links\n",
      "Visited: https://rolisz.ro/2020/05/12/productivity-tips-pomodoros/ found 14 links\n",
      "Status for https://rolisz.ro/tech/rss/: 200 OK\n",
      "Visited: https://rolisz.ro/2020/05/16/quarantine-boardgames-itchy-feet/ found 14 links\n",
      "Status for https://rolisz.ro/2020/05/15/context-variables-in-python/: 200 OK\n",
      "Visited: https://rolisz.ro/2020/05/05/why-i-blog/ found 16 links\n",
      "Visited: https://rolisz.ro/tech/rss/ found 12 links\n",
      "Visited: https://rolisz.ro/2020/06/08/boardgames-party-codenames/ found 13 links\n",
      "Visited: https://rolisz.ro/2020/05/15/context-variables-in-python/ found 14 links\n",
      "New urls: 70\n",
      "Status for https://rolisz.ro/2017/03/02/backing-up-2-the-nas/: 200 OK\n",
      "Status for https://rolisz.ro/2013/04/18/neural-networks-in-python/#isso-2324: 200 OK\n",
      "Status for https://rolisz.ro/tag/personal/: 200 OK\n",
      "Status for https://rolisz.ro/2018/07/12/the-expanse/: 200 OK\n",
      "Status for https://rolisz.ro/tag/blog/: 200 OK\n",
      "Status for https://rolisz.ro/2014/07/20/frumusetea-vadului-si-a-suncuiusului/: 200 OK\n",
      "Status for https://rolisz.ro/2012/06/29/a-tale-of-two-interviews/: 200 OK\n",
      "Status for https://rolisz.ro/2019/11/17/the-iron-path/: 200 OK\n",
      "Visited: https://rolisz.ro/tag/personal/ found 34 links\n",
      "Visited: https://rolisz.ro/2017/03/02/backing-up-2-the-nas/ found 14 links\n",
      "Visited: https://rolisz.ro/2018/07/12/the-expanse/ found 14 links\n",
      "Visited: https://rolisz.ro/2012/06/29/a-tale-of-two-interviews/ found 14 links\n",
      "Visited: https://rolisz.ro/2013/04/18/neural-networks-in-python/#isso-2324 found 14 links\n",
      "Visited: https://rolisz.ro/2014/07/20/frumusetea-vadului-si-a-suncuiusului/ found 14 links\n",
      "Status for https://rolisz.ro/tag/networking/: 200 OK\n",
      "Status for https://rolisz.ro/projects/ant/#[[[0,0,1],[0,-2,1]],[[1,1,1],[0,0,1]]]: 200 OK\n",
      "Status for https://rolisz.ro/2019/10/26/better-than-us/: 200 OK\n",
      "Visited: https://rolisz.ro/projects/ant/#[[[0,0,1],[0,-2,1]],[[1,1,1],[0,0,1]]] found 0 links\n",
      "Status for https://rolisz.ro/2010/08/13/used-by-me-4/: 200 OK\n",
      "Visited: https://rolisz.ro/tag/blog/ found 34 links\n",
      "Visited: https://rolisz.ro/2019/11/17/the-iron-path/ found 14 links\n",
      "Status for https://rolisz.ro/2020/01/07/books-of-2019/: 200 OK\n",
      "Status for https://rolisz.ro/2014/09/21/big-changes/: 200 OK\n",
      "Visited: https://rolisz.ro/tag/networking/ found 10 links\n",
      "Status for https://rolisz.ro/2016/01/27/dockerizing-a-static-blog/: 200 OK\n",
      "Status for https://rolisz.ro/2020/02/07/interview-about-wfh/: 200 OK\n",
      "Status for https://rolisz.ro/2011/06/03/furnica-lui-langton-turmite-si-automate-celulare/: 200 OK\n",
      "Status for https://rolisz.ro/2018/05/29/real-estate-cohort-analysis/: 200 OK\n",
      "Visited: https://rolisz.ro/2019/10/26/better-than-us/ found 14 links\n",
      "Visited: https://rolisz.ro/2010/08/13/used-by-me-4/ found 15 links\n",
      "Visited: https://rolisz.ro/2020/01/07/books-of-2019/ found 14 links\n",
      "Visited: https://rolisz.ro/2014/09/21/big-changes/ found 14 links\n",
      "Visited: https://rolisz.ro/2016/01/27/dockerizing-a-static-blog/ found 15 links\n",
      "Status for https://rolisz.ro/2010/06/18/windows-visual-styles/: 200 OK\n",
      "Status for https://rolisz.ro/tag/programming/: 200 OK\n",
      "Status for https://rolisz.ro/2019/11/04/john-lennox-in-cluj/: 200 OK\n",
      "Status for https://rolisz.ro/2019/03/24/old-man-s-cave/: 200 OK\n",
      "Visited: https://rolisz.ro/2020/02/07/interview-about-wfh/ found 14 links\n",
      "Visited: https://rolisz.ro/2018/05/29/real-estate-cohort-analysis/ found 14 links\n",
      "Visited: https://rolisz.ro/2011/06/03/furnica-lui-langton-turmite-si-automate-celulare/ found 15 links\n",
      "Status for https://rolisz.ro/tag/tv-shows/: 200 OK\n",
      "Status for https://rolisz.ro/projects/ant/: 200 OK\n",
      "Status for https://rolisz.ro/2018/05/07/scraping-for-houses/: 200 OK\n",
      "Visited: https://rolisz.ro/projects/ant/ found 0 links\n",
      "Status for https://rolisz.ro/2019/04/09/hacktm-oradea/: 200 OK\n",
      "Visited: https://rolisz.ro/2010/06/18/windows-visual-styles/ found 11 links\n",
      "Visited: https://rolisz.ro/2019/11/04/john-lennox-in-cluj/ found 13 links\n",
      "Visited: https://rolisz.ro/2019/03/24/old-man-s-cave/ found 16 links\n",
      "Visited: https://rolisz.ro/tag/tv-shows/ found 24 links\n",
      "Visited: https://rolisz.ro/tag/programming/ found 34 links\n",
      "Status for https://rolisz.ro/2013/11/15/receiptbudget/: 200 OK\n",
      "Status for https://rolisz.ro/2020/04/11/moving-away-from-gmail/: 200 OK\n",
      "Status for https://rolisz.ro/tag/reviews/: 200 OK\n"
     ]
    },
    {
     "name": "stdout",
     "output_type": "stream",
     "text": [
      "Status for https://rolisz.ro/2019/11/30/boardgames-party-tokaido/: 200 OK\n",
      "Status for https://rolisz.ro/2019/08/07/breaking-radio-silence/: 200 OK\n",
      "Visited: https://rolisz.ro/2018/05/07/scraping-for-houses/ found 12 links\n",
      "Status for https://rolisz.ro/2019/11/25/git-tutorial-part-3/: 200 OK\n",
      "Visited: https://rolisz.ro/2019/04/09/hacktm-oradea/ found 16 links\n",
      "Status for https://rolisz.ro/2010/10/23/dicotomia-mea/: 200 OK\n",
      "Status for https://rolisz.ro/2019/05/25/vot-26-mai/: 200 OK\n",
      "Visited: https://rolisz.ro/2020/04/11/moving-away-from-gmail/ found 14 links\n",
      "Visited: https://rolisz.ro/2019/11/30/boardgames-party-tokaido/ found 14 links\n",
      "Visited: https://rolisz.ro/2013/11/15/receiptbudget/ found 15 links\n",
      "Visited: https://rolisz.ro/2019/08/07/breaking-radio-silence/ found 14 links\n",
      "Visited: https://rolisz.ro/tag/reviews/ found 34 links\n",
      "Status for https://rolisz.ro/2019/12/25/the-rise-of-skywalker/: 200 OK\n",
      "Status for https://rolisz.ro/2012/08/20/processing-im-logs/: 200 OK\n",
      "Status for https://rolisz.ro/2019/01/06/man-and-car-versus-nature-2/: 200 OK\n",
      "Visited: https://rolisz.ro/2019/11/25/git-tutorial-part-3/ found 14 links\n",
      "Status for https://rolisz.ro/author/rolisz/page/2/: 200 OK\n",
      "Visited: https://rolisz.ro/2019/05/25/vot-26-mai/ found 14 links\n",
      "Status for https://rolisz.ro/2020/01/05/moving-to-ghost/: 200 OK\n",
      "Status for https://rolisz.ro/2020/02/13/lost-in-space/: 200 OK\n",
      "Visited: https://rolisz.ro/2010/10/23/dicotomia-mea/ found 11 links\n",
      "Status for https://rolisz.ro/projects/ant/#[[[1,-1,1],[0,1,0]],[[1,-1,1],[1,-1,2]],[[1,1,1],[0,0,2]]]: 200 OK\n",
      "Visited: https://rolisz.ro/projects/ant/#[[[1,-1,1],[0,1,0]],[[1,-1,1],[1,-1,2]],[[1,1,1],[0,0,2]]] found 0 links\n",
      "Visited: https://rolisz.ro/author/rolisz/page/2/ found 34 links\n",
      "Visited: https://rolisz.ro/2019/12/25/the-rise-of-skywalker/ found 15 links\n",
      "Visited: https://rolisz.ro/2019/01/06/man-and-car-versus-nature-2/ found 15 links\n",
      "Status for https://rolisz.ro/tag/boardgames/: 200 OK\n",
      "Status for https://rolisz.ro/2020/01/26/7-wonders-duel/: 200 OK\n",
      "Visited: https://rolisz.ro/2012/08/20/processing-im-logs/ found 14 links\n",
      "Visited: https://rolisz.ro/2020/01/05/moving-to-ghost/ found 16 links\n",
      "Status for https://rolisz.ro/2019/01/30/nas-outage-1/: 200 OK\n",
      "Status for https://rolisz.ro/2010/06/20/used-by-me-2/: 200 OK\n",
      "Status for https://rolisz.ro/projects/ant/#[[[1,-1,0],[2,-1,0],[3,1,0],[0,1,0]]]: 200 OK\n",
      "Visited: https://rolisz.ro/projects/ant/#[[[1,-1,0],[2,-1,0],[3,1,0],[0,1,0]]] found 0 links\n",
      "Status for https://rolisz.ro/2019/09/07/digging-myself-a-hole/: 200 OK\n",
      "Status for https://rolisz.ro/2012/02/19/simplu-calculator-in-python-partea-3/: 200 OK\n",
      "Visited: https://rolisz.ro/2020/02/13/lost-in-space/ found 14 links\n",
      "Visited: https://rolisz.ro/tag/boardgames/ found 22 links\n",
      "Status for https://rolisz.ro/2020/01/18/moving-from-acrylamid-to-ghost/: 200 OK\n",
      "Visited: https://rolisz.ro/2020/01/26/7-wonders-duel/ found 14 links\n",
      "Status for https://rolisz.ro/2017/04/01/indexing-im-logs-with-elasticsearch/: 200 OK\n",
      "Visited: https://rolisz.ro/2010/06/20/used-by-me-2/ found 14 links\n",
      "Visited: https://rolisz.ro/2019/01/30/nas-outage-1/ found 14 links\n",
      "Visited: https://rolisz.ro/2019/09/07/digging-myself-a-hole/ found 13 links\n",
      "Status for https://rolisz.ro/2016/06/19/the-rise-and-fall-of-the-yahoo-messenger-empire/: 200 OK\n",
      "Status for https://rolisz.ro/2015/06/08/happy-5th-birthday/: 200 OK\n",
      "Status for https://rolisz.ro/2015/01/11/my-experience-with-linux-part-6/: 200 OK\n",
      "Visited: https://rolisz.ro/2012/02/19/simplu-calculator-in-python-partea-3/ found 14 links\n",
      "Status for https://rolisz.ro/tag/devops/: 200 OK\n",
      "Status for https://rolisz.ro/2020/03/27/quarantine-boardgames-travelin/: 200 OK\n",
      "Status for https://rolisz.ro/2020/01/01/2019-in-review/: 200 OK\n",
      "Visited: https://rolisz.ro/2020/01/18/moving-from-acrylamid-to-ghost/ found 18 links\n",
      "Visited: https://rolisz.ro/tag/devops/ found 9 links\n",
      "Visited: https://rolisz.ro/2017/04/01/indexing-im-logs-with-elasticsearch/ found 15 links\n",
      "Visited: https://rolisz.ro/2015/01/11/my-experience-with-linux-part-6/ found 15 links\n",
      "Visited: https://rolisz.ro/2016/06/19/the-rise-and-fall-of-the-yahoo-messenger-empire/ found 11 links\n",
      "Visited: https://rolisz.ro/2015/06/08/happy-5th-birthday/ found 16 links\n",
      "Status for https://rolisz.ro/2020/01/02/boardgames-party-rival-restaurants/: 200 OK\n",
      "Status for https://rolisz.ro/2019/09/29/ad-astra/: 200 OK\n",
      "Status for https://rolisz.ro/tag/tech/: 200 OK\n",
      "Status for https://rolisz.ro/2020/03/18/reflections-during-covid19-times/: 200 OK\n",
      "Status for https://rolisz.ro/tag/hiking/: 200 OK\n",
      "Status for https://rolisz.ro/2018/03/10/dell-xps-13-review/: 200 OK\n",
      "Visited: https://rolisz.ro/2020/01/01/2019-in-review/ found 14 links\n",
      "Visited: https://rolisz.ro/2020/03/27/quarantine-boardgames-travelin/ found 15 links\n",
      "Status for https://rolisz.ro/2010/06/18/used-by-me-1/: 200 OK\n",
      "Visited: https://rolisz.ro/2020/01/02/boardgames-party-rival-restaurants/ found 14 links\n",
      "Status for https://rolisz.ro/2020/03/01/web-crawler-in-rust/: 200 OK\n",
      "Visited: https://rolisz.ro/2019/09/29/ad-astra/ found 16 links\n",
      "Visited: https://rolisz.ro/tag/hiking/ found 18 links\n",
      "Visited: https://rolisz.ro/tag/tech/ found 28 links\n",
      "Visited: https://rolisz.ro/2018/03/10/dell-xps-13-review/ found 14 links\n",
      "Visited: https://rolisz.ro/2020/03/18/reflections-during-covid19-times/ found 14 links\n",
      "Status for https://rolisz.ro/projects/ant/#[[[1,-1,1],[1,-1,1]],[[1,1,1],[0,0,0]]]: 200 OK\n",
      "Status for https://rolisz.ro/2016/08/29/my-desktop-setup/: 200 OK\n",
      "Status for https://rolisz.ro/2019/12/30/cracking-the-human-memory/: 200 OK\n",
      "Visited: https://rolisz.ro/projects/ant/#[[[1,-1,1],[1,-1,1]],[[1,1,1],[0,0,0]]] found 0 links\n",
      "Status for https://rolisz.ro/2020/01/21/blogs-are-best-served-static/: 200 OK\n",
      "Visited: https://rolisz.ro/2010/06/18/used-by-me-1/ found 14 links\n",
      "Status for https://rolisz.ro/page/3/: 200 OK\n",
      "Status for https://rolisz.ro/2020/03/08/boardgames-party-ha/: 200 OK\n",
      "Visited: https://rolisz.ro/2020/03/01/web-crawler-in-rust/ found 14 links\n",
      "Visited: https://rolisz.ro/2016/08/29/my-desktop-setup/ found 15 links\n",
      "Visited: https://rolisz.ro/2019/12/30/cracking-the-human-memory/ found 14 links\n",
      "Visited: https://rolisz.ro/2020/01/21/blogs-are-best-served-static/ found 14 links\n",
      "Visited: https://rolisz.ro/page/3/ found 35 links\n",
      "Visited: https://rolisz.ro/2020/03/08/boardgames-party-ha/ found 14 links\n",
      "New urls: 148\n",
      "Status for https://rolisz.ro/2017/09/01/drei-jahre-in-der-schweiz/: 200 OK\n",
      "Status for https://rolisz.ro/2012/12/18/tutorial-lisp/: 200 OK\n",
      "Status for https://rolisz.ro/2015/03/01/survived-first-oncall/: 200 OK\n",
      "Status for https://rolisz.ro/2011/05/26/used-by-me-6/: 200 OK\n",
      "Status for https://rolisz.ro/tag/scraping/: 200 OK\n",
      "Status for https://rolisz.ro/2013/12/14/automating-using-python/: 200 OK\n",
      "Status for https://rolisz.ro/2014/07/12/android-l-preview/: 200 OK\n",
      "Status for https://rolisz.ro/2012/01/15/50-apps/: 200 OK\n",
      "Visited: https://rolisz.ro/tag/scraping/ found 9 links\n",
      "Visited: https://rolisz.ro/2015/03/01/survived-first-oncall/ found 14 links\n",
      "Visited: https://rolisz.ro/2011/05/26/used-by-me-6/ found 15 links\n",
      "Visited: https://rolisz.ro/2012/12/18/tutorial-lisp/ found 12 links\n",
      "Visited: https://rolisz.ro/2013/12/14/automating-using-python/ found 14 links\n",
      "Visited: https://rolisz.ro/2012/01/15/50-apps/ found 14 links\n",
      "Status for https://rolisz.ro/tag/programming/page/2/: 200 OK\n",
      "Visited: https://rolisz.ro/2017/09/01/drei-jahre-in-der-schweiz/ found 14 links\n",
      "Status for https://rolisz.ro/2011/09/23/downton-abbey/: 200 OK\n",
      "Status for https://rolisz.ro/tag/personal/page/2/: 200 OK\n",
      "Status for https://rolisz.ro/2018/10/14/sweating-in-hong-kong/: 200 OK\n",
      "Status for https://rolisz.ro/2017/02/20/backing-up/: 200 OK\n",
      "Status for https://rolisz.ro/2012/02/16/simplu-calculator-in-python-partea-2/: 200 OK\n",
      "Visited: https://rolisz.ro/2014/07/12/android-l-preview/ found 14 links\n",
      "Status for https://rolisz.ro/projects/ant/#{0,0,0A1}{0,1,0B1}{1,0,1R1}{1,1,0A1}: 200 OK\n",
      "Visited: https://rolisz.ro/projects/ant/#{0,0,0A1}{0,1,0B1}{1,0,1R1}{1,1,0A1} found 0 links\n",
      "Status for https://rolisz.ro/2012/09/09/frumusetea-miscai/: 200 OK\n",
      "Visited: https://rolisz.ro/tag/personal/page/2/ found 35 links\n",
      "Status for https://rolisz.ro/2018/08/12/setting-up-ssh-keys/: 200 OK\n",
      "Visited: https://rolisz.ro/2011/09/23/downton-abbey/ found 15 links\n"
     ]
    },
    {
     "name": "stdout",
     "output_type": "stream",
     "text": [
      "Visited: https://rolisz.ro/2018/10/14/sweating-in-hong-kong/ found 14 links\n",
      "Visited: https://rolisz.ro/tag/programming/page/2/ found 31 links\n",
      "Visited: https://rolisz.ro/2012/02/16/simplu-calculator-in-python-partea-2/ found 14 links\n",
      "Visited: https://rolisz.ro/2017/02/20/backing-up/ found 13 links\n",
      "Status for https://rolisz.ro/tag/yahoo/: 200 OK\n",
      "Status for https://rolisz.ro/tag/psychology/: 200 OK\n",
      "Status for https://rolisz.ro/2016/01/02/setting-goals/: 200 OK\n",
      "Status for https://rolisz.ro/2014/09/22/moving-from-wordpress-to-acrylamid/: 200 OK\n",
      "Status for https://rolisz.ro/2018/04/01/man-versus-nature/: 200 OK\n",
      "Visited: https://rolisz.ro/2018/08/12/setting-up-ssh-keys/ found 14 links\n",
      "Status for https://rolisz.ro/2011/04/17/white-collar/: 200 OK\n",
      "Visited: https://rolisz.ro/2012/09/09/frumusetea-miscai/ found 14 links\n",
      "Visited: https://rolisz.ro/tag/yahoo/ found 9 links\n",
      "Visited: https://rolisz.ro/tag/psychology/ found 9 links\n",
      "Status for https://rolisz.ro/2010/07/10/eureka-4x01/: 200 OK\n",
      "Status for https://rolisz.ro/2010/10/12/experienta-mea-cu-linux-part-2/: 200 OK\n",
      "Visited: https://rolisz.ro/2016/01/02/setting-goals/ found 15 links\n",
      "Visited: https://rolisz.ro/2014/09/22/moving-from-wordpress-to-acrylamid/ found 14 links\n",
      "Visited: https://rolisz.ro/2018/04/01/man-versus-nature/ found 14 links\n",
      "Status for https://rolisz.ro/2010/07/03/harta-gravitationala-a-pamantului/: 200 OK\n",
      "Status for https://rolisz.ro/2013/02/09/elementary/: 200 OK\n",
      "Visited: https://rolisz.ro/2011/04/17/white-collar/ found 14 links\n",
      "Status for https://rolisz.ro/tag/reviews/page/2/: 200 OK\n",
      "Status for https://rolisz.ro/2016/04/03/midway-goal-checkup/: 200 OK\n",
      "Status for https://rolisz.ro/2015/06/06/gardening/: 200 OK\n",
      "Visited: https://rolisz.ro/2010/10/12/experienta-mea-cu-linux-part-2/ found 14 links\n",
      "Status for https://rolisz.ro/2017/07/07/evaluating-goals-2017-edition/: 200 OK\n",
      "Visited: https://rolisz.ro/2010/07/10/eureka-4x01/ found 14 links\n",
      "Visited: https://rolisz.ro/2013/02/09/elementary/ found 15 links\n",
      "Visited: https://rolisz.ro/2010/07/03/harta-gravitationala-a-pamantului/ found 14 links\n",
      "Visited: https://rolisz.ro/tag/reviews/page/2/ found 35 links\n",
      "Status for https://rolisz.ro/2013/12/14/code-retreat-2013/: 200 OK\n",
      "Status for https://rolisz.ro/2016/09/05/searching-for-something/: 200 OK\n",
      "Status for https://rolisz.ro/2010/06/16/cae/: 200 OK\n",
      "Status for https://rolisz.ro/tag/review/: 200 OK\n",
      "Visited: https://rolisz.ro/2016/04/03/midway-goal-checkup/ found 16 links\n",
      "Visited: https://rolisz.ro/2015/06/06/gardening/ found 11 links\n",
      "Status for https://rolisz.ro/2019/01/14/books-of-2018/: 200 OK\n",
      "Visited: https://rolisz.ro/2017/07/07/evaluating-goals-2017-edition/ found 15 links\n",
      "Visited: https://rolisz.ro/2013/12/14/code-retreat-2013/ found 14 links\n",
      "Status for https://rolisz.ro/2016/02/13/alcatraz/: 200 OK\n",
      "Status for https://rolisz.ro/2017/12/19/the-last-jedi/: 200 OK\n",
      "Visited: https://rolisz.ro/2016/09/05/searching-for-something/ found 14 links\n",
      "Visited: https://rolisz.ro/tag/review/ found 26 links\n",
      "Status for https://rolisz.ro/2015/01/30/comments-are-back/: 200 OK\n",
      "Visited: https://rolisz.ro/2010/06/16/cae/ found 13 links\n",
      "Status for https://rolisz.ro/2011/05/24/the-event/: 200 OK\n",
      "Visited: https://rolisz.ro/2019/01/14/books-of-2018/ found 15 links\n",
      "Status for https://rolisz.ro/2013/03/04/git-tutorial-part-2/: 200 OK\n",
      "Status for https://rolisz.ro/tag/memory/: 200 OK\n",
      "Status for https://rolisz.ro/2012/09/06/summing-up-contacts/: 200 OK\n",
      "Visited: https://rolisz.ro/2017/12/19/the-last-jedi/ found 15 links\n",
      "Status for https://rolisz.ro/2010/12/03/used-by-me-5/: 200 OK\n",
      "Visited: https://rolisz.ro/2015/01/30/comments-are-back/ found 14 links\n",
      "Visited: https://rolisz.ro/2016/02/13/alcatraz/ found 14 links\n",
      "Visited: https://rolisz.ro/tag/memory/ found 9 links\n",
      "Visited: https://rolisz.ro/2011/05/24/the-event/ found 14 links\n",
      "Visited: https://rolisz.ro/2013/03/04/git-tutorial-part-2/ found 13 links\n",
      "Status for https://rolisz.ro/tag/events/: 200 OK\n",
      "Status for https://rolisz.ro/2018/11/21/monitoring-gpu-usage-with-stackdriver/: 200 OK\n",
      "Status for https://rolisz.ro/2018/12/29/boardgames-party-sushi-go/: 200 OK\n",
      "Visited: https://rolisz.ro/2012/09/06/summing-up-contacts/ found 14 links\n",
      "Visited: https://rolisz.ro/2010/12/03/used-by-me-5/ found 14 links\n",
      "Status for https://rolisz.ro/2015/11/07/line-charts-in-javascript/: 200 OK\n",
      "Status for https://rolisz.ro/2016/06/12/nice-time-in-nice/: 200 OK\n",
      "Status for https://rolisz.ro/tag/used-by-me/: 200 OK\n",
      "Visited: https://rolisz.ro/tag/events/ found 22 links\n",
      "Status for https://rolisz.ro/2016/11/13/going-places/: 200 OK\n",
      "Status for https://rolisz.ro/2014/08/12/delta-dunarii/: 200 OK\n",
      "Status for https://rolisz.ro/2013/11/12/gravity/: 200 OK\n",
      "Visited: https://rolisz.ro/2018/11/21/monitoring-gpu-usage-with-stackdriver/ found 11 links\n",
      "Visited: https://rolisz.ro/2015/11/07/line-charts-in-javascript/ found 15 links\n",
      "Visited: https://rolisz.ro/2016/06/12/nice-time-in-nice/ found 17 links\n",
      "Visited: https://rolisz.ro/2018/12/29/boardgames-party-sushi-go/ found 14 links\n",
      "Visited: https://rolisz.ro/tag/used-by-me/ found 15 links\n",
      "Visited: https://rolisz.ro/2016/11/13/going-places/ found 14 links\n",
      "Status for https://rolisz.ro/tag/job/: 200 OK\n",
      "Status for https://rolisz.ro/2017/08/05/how-to-organize-a-wedding-in-20-easy-steps/: 200 OK\n",
      "Status for https://rolisz.ro/tag/blog/page/2/: 200 OK\n",
      "Status for https://rolisz.ro/2010/10/26/orange-si-google-is-naspa/: 200 OK\n",
      "Status for https://rolisz.ro/2015/01/18/2014-in-review/: 200 OK\n",
      "Visited: https://rolisz.ro/2014/08/12/delta-dunarii/ found 14 links\n",
      "Status for https://rolisz.ro/2012/02/04/arrested-development/: 200 OK\n",
      "Status for https://rolisz.ro/2013/12/24/gentoo-vs-rolisz-round-2/: 200 OK\n",
      "Visited: https://rolisz.ro/tag/job/ found 12 links\n",
      "Visited: https://rolisz.ro/2013/11/12/gravity/ found 14 links\n",
      "Visited: https://rolisz.ro/tag/blog/page/2/ found 17 links\n",
      "Visited: https://rolisz.ro/2010/10/26/orange-si-google-is-naspa/ found 14 links\n",
      "Visited: https://rolisz.ro/2015/01/18/2014-in-review/ found 15 links\n",
      "Visited: https://rolisz.ro/2017/08/05/how-to-organize-a-wedding-in-20-easy-steps/ found 14 links\n",
      "Status for https://rolisz.ro/2013/02/22/grafice-cu-d3-js-part-2/: 200 OK\n",
      "Status for https://rolisz.ro/2018/11/30/blogs-i-follow-part-2/: 200 OK\n",
      "Status for https://rolisz.ro/2012/08/16/internship-over/: 200 OK\n",
      "Status for https://rolisz.ro/tag/house/: 200 OK\n",
      "Status for https://rolisz.ro/2019/02/26/boardgames-party-splendor/: 200 OK\n",
      "Visited: https://rolisz.ro/2013/12/24/gentoo-vs-rolisz-round-2/ found 12 links\n",
      "Status for https://rolisz.ro/2016/07/13/evaluating-goals/: 200 OK\n",
      "Visited: https://rolisz.ro/2012/02/04/arrested-development/ found 14 links\n",
      "Visited: https://rolisz.ro/2018/11/30/blogs-i-follow-part-2/ found 15 links\n",
      "Visited: https://rolisz.ro/2013/02/22/grafice-cu-d3-js-part-2/ found 14 links\n",
      "Status for https://rolisz.ro/2015/04/13/mail-subscription/: 200 OK\n",
      "Status for https://rolisz.ro/2017/01/01/2016-in-review/: 200 OK\n",
      "Visited: https://rolisz.ro/2012/08/16/internship-over/ found 12 links\n",
      "Visited: https://rolisz.ro/tag/house/ found 11 links\n",
      "Visited: https://rolisz.ro/2019/02/26/boardgames-party-splendor/ found 14 links\n",
      "Visited: https://rolisz.ro/2016/07/13/evaluating-goals/ found 15 links\n",
      "Status for https://rolisz.ro/2018/11/05/epistaxis/: 200 OK\n",
      "Status for https://rolisz.ro/2014/10/06/uetliberg/: 200 OK\n",
      "Status for https://rolisz.ro/2018/12/16/synology-moments/: 200 OK\n",
      "Status for https://rolisz.ro/2010/07/21/the-good-guys/: 200 OK\n",
      "Status for https://rolisz.ro/2011/07/24/burn-notice/: 200 OK\n",
      "Status for https://rolisz.ro/2012/07/02/experienta-mea-cu-linux-part-4/: 200 OK\n",
      "Visited: https://rolisz.ro/2015/04/13/mail-subscription/ found 14 links\n",
      "Visited: https://rolisz.ro/2017/01/01/2016-in-review/ found 21 links\n",
      "Status for https://rolisz.ro/2013/04/26/the-mysterious-vcvarsall-bat/: 200 OK\n",
      "Visited: https://rolisz.ro/2018/11/05/epistaxis/ found 14 links\n",
      "Status for https://rolisz.ro/2010/10/10/rubicon/: 200 OK\n",
      "Visited: https://rolisz.ro/2014/10/06/uetliberg/ found 14 links\n",
      "Visited: https://rolisz.ro/2018/12/16/synology-moments/ found 15 links\n",
      "Visited: https://rolisz.ro/2010/07/21/the-good-guys/ found 14 links\n",
      "Visited: https://rolisz.ro/2012/07/02/experienta-mea-cu-linux-part-4/ found 17 links\n"
     ]
    },
    {
     "name": "stdout",
     "output_type": "stream",
     "text": [
      "Visited: https://rolisz.ro/2011/07/24/burn-notice/ found 16 links\n",
      "Status for https://rolisz.ro/2014/12/01/interstellar/: 200 OK\n",
      "Status for https://rolisz.ro/tag/desktop/: 200 OK\n",
      "Status for https://rolisz.ro/2011/05/28/ultima-zi-de-liceu/: 200 OK\n",
      "Status for https://rolisz.ro/2017/05/06/happy-mother-s-day/: 200 OK\n",
      "Visited: https://rolisz.ro/2013/04/26/the-mysterious-vcvarsall-bat/ found 12 links\n",
      "Status for https://rolisz.ro/2018/06/08/regular-expressions-for-objects/: 200 OK\n",
      "Status for https://rolisz.ro/2012/08/02/pioneer-one/: 200 OK\n",
      "Visited: https://rolisz.ro/2010/10/10/rubicon/ found 14 links\n",
      "Status for https://rolisz.ro/2011/06/08/happy-birthday-dear-blog/: 200 OK\n",
      "Visited: https://rolisz.ro/tag/desktop/ found 9 links\n",
      "Status for https://rolisz.ro/2010/08/27/scoala-de-soferi/: 200 OK\n",
      "Visited: https://rolisz.ro/2017/05/06/happy-mother-s-day/ found 14 links\n",
      "Visited: https://rolisz.ro/2012/08/02/pioneer-one/ found 14 links\n",
      "Visited: https://rolisz.ro/2018/06/08/regular-expressions-for-objects/ found 14 links\n",
      "Visited: https://rolisz.ro/2014/12/01/interstellar/ found 15 links\n",
      "Status for https://rolisz.ro/2010/06/14/eureka/: 200 OK\n",
      "Visited: https://rolisz.ro/2011/05/28/ultima-zi-de-liceu/ found 12 links\n",
      "Status for https://rolisz.ro/2015/06/12/trip-to-dublin/: 200 OK\n",
      "Status for https://rolisz.ro/2018/09/24/repairing-linux-and-windows-boot-partitions/: 200 OK\n",
      "Status for https://rolisz.ro/page/4/: 200 OK\n",
      "Visited: https://rolisz.ro/2010/08/27/scoala-de-soferi/ found 13 links\n",
      "Status for https://rolisz.ro/2014/09/28/acrylamid-image-gallery/: 200 OK\n",
      "Status for https://rolisz.ro/2018/06/24/fiddler-on-the-roof/: 200 OK\n",
      "Visited: https://rolisz.ro/2011/06/08/happy-birthday-dear-blog/ found 14 links\n",
      "Visited: https://rolisz.ro/2010/06/14/eureka/ found 14 links\n",
      "Status for https://rolisz.ro/2018/02/23/goals-for-2018/: 200 OK\n",
      "Visited: https://rolisz.ro/page/4/ found 35 links\n",
      "Visited: https://rolisz.ro/2018/09/24/repairing-linux-and-windows-boot-partitions/ found 14 links\n",
      "Status for https://rolisz.ro/2015/08/30/after-a-year-in-zurich/: 200 OK\n",
      "Visited: https://rolisz.ro/2018/06/24/fiddler-on-the-roof/ found 14 links\n",
      "Status for https://rolisz.ro/2011/01/26/sherlock/: 200 OK\n",
      "Visited: https://rolisz.ro/2014/09/28/acrylamid-image-gallery/ found 13 links\n",
      "Status for https://rolisz.ro/2014/07/29/roland-origins/: 200 OK\n",
      "Status for https://rolisz.ro/2018/12/31/2018-in-review/: 200 OK\n",
      "Visited: https://rolisz.ro/2015/06/12/trip-to-dublin/ found 14 links\n",
      "Visited: https://rolisz.ro/2018/02/23/goals-for-2018/ found 14 links\n",
      "Status for https://rolisz.ro/2013/11/09/imprezzio-software-contest/: 200 OK\n",
      "Status for https://rolisz.ro/2018/04/26/synology-and-docker/: 200 OK\n",
      "Visited: https://rolisz.ro/2015/08/30/after-a-year-in-zurich/ found 14 links\n",
      "Visited: https://rolisz.ro/2011/01/26/sherlock/ found 14 links\n",
      "Status for https://rolisz.ro/2016/09/17/good-bye-alida/: 200 OK\n",
      "Status for https://rolisz.ro/2019/03/24/old-man-s-cave/#fn-1: 200 OK\n",
      "Status for https://rolisz.ro/projects/ant/#{0,0,1L0}{0,1,2L0}{0,2,3R0}{0,3,0R0}: 200 OK\n",
      "Visited: https://rolisz.ro/2014/07/29/roland-origins/ found 14 links\n",
      "Visited: https://rolisz.ro/2018/12/31/2018-in-review/ found 17 links\n",
      "Status for https://rolisz.ro/2016/10/24/maltalavista/: 200 OK\n",
      "Visited: https://rolisz.ro/projects/ant/#{0,0,1L0}{0,1,2L0}{0,2,3R0}{0,3,0R0} found 0 links\n",
      "Visited: https://rolisz.ro/2013/11/09/imprezzio-software-contest/ found 14 links\n",
      "Visited: https://rolisz.ro/2018/04/26/synology-and-docker/ found 13 links\n",
      "Status for https://rolisz.ro/2016/01/19/bose-bluetooth-headphones/: 200 OK\n",
      "Status for https://rolisz.ro/2018/03/26/n-t-wright-in-cluj/: 200 OK\n",
      "Status for https://rolisz.ro/2013/01/14/moar-lisp/: 200 OK\n",
      "Visited: https://rolisz.ro/2016/09/17/good-bye-alida/ found 14 links\n",
      "Visited: https://rolisz.ro/2019/03/24/old-man-s-cave/#fn-1 found 16 links\n",
      "Status for https://rolisz.ro/2011/06/24/git-tutorial/: 200 OK\n",
      "Status for https://rolisz.ro/2018/02/01/an-update-on-rolisz/: 200 OK\n",
      "Status for https://rolisz.ro/2018/01/01/2017-in-review/: 200 OK\n",
      "Status for https://rolisz.ro/2019/03/16/backing-up-3-syncthing/: 200 OK\n",
      "Visited: https://rolisz.ro/2018/03/26/n-t-wright-in-cluj/ found 14 links\n",
      "Visited: https://rolisz.ro/2016/10/24/maltalavista/ found 15 links\n",
      "Visited: https://rolisz.ro/2016/01/19/bose-bluetooth-headphones/ found 14 links\n",
      "Visited: https://rolisz.ro/2013/01/14/moar-lisp/ found 14 links\n",
      "Visited: https://rolisz.ro/2011/06/24/git-tutorial/ found 14 links\n",
      "Visited: https://rolisz.ro/2018/02/01/an-update-on-rolisz/ found 14 links\n",
      "Status for https://rolisz.ro/2016/09/03/two-years-at-google/: 200 OK\n",
      "Visited: https://rolisz.ro/2018/01/01/2017-in-review/ found 17 links\n",
      "Visited: https://rolisz.ro/2019/03/16/backing-up-3-syncthing/ found 14 links\n",
      "Status for https://rolisz.ro/2013/04/18/neural-networks-in-python/: 200 OK\n",
      "Status for https://rolisz.ro/tag/machine-learning/: 200 OK\n",
      "Status for https://rolisz.ro/2013/04/13/single-table-inheritance-in-camelot/: 200 OK\n",
      "Status for https://rolisz.ro/2018/09/09/evaluating-2018-goals/: 200 OK\n",
      "Status for https://rolisz.ro/2015/10/09/google-tech-talk-babes-bolyai-university/: 200 OK\n",
      "Status for https://rolisz.ro/2017/01/07/new-year-old-goals/: 200 OK\n",
      "Status for https://rolisz.ro/2019/08/11/breaking-radio-silence/: 200 OK\n",
      "Visited: https://rolisz.ro/2016/09/03/two-years-at-google/ found 14 links\n",
      "Visited: https://rolisz.ro/tag/machine-learning/ found 12 links\n",
      "Visited: https://rolisz.ro/2013/04/13/single-table-inheritance-in-camelot/ found 14 links\n",
      "Visited: https://rolisz.ro/2015/10/09/google-tech-talk-babes-bolyai-university/ found 15 links\n",
      "Visited: https://rolisz.ro/2013/04/18/neural-networks-in-python/ found 14 links\n",
      "Visited: https://rolisz.ro/2018/09/09/evaluating-2018-goals/ found 15 links\n",
      "Status for https://rolisz.ro/tag/rust/: 200 OK\n",
      "Status for https://rolisz.ro/author/rolisz/page/3/: 200 OK\n",
      "Visited: https://rolisz.ro/2019/08/11/breaking-radio-silence/ found 14 links\n",
      "Status for https://rolisz.ro/2017/12/03/show-ing-off/: 200 OK\n",
      "Visited: https://rolisz.ro/2017/01/07/new-year-old-goals/ found 14 links\n",
      "Status for https://rolisz.ro/2012/06/28/eol/: 200 OK\n",
      "Status for https://rolisz.ro/2012/02/19/olimpiada-judeteana-de-fizica/: 200 OK\n",
      "Status for https://rolisz.ro/tag/linux/: 200 OK\n",
      "Status for https://rolisz.ro/2013/02/17/grafice-cu-d3-js-part-1/: 200 OK\n",
      "Visited: https://rolisz.ro/tag/rust/ found 11 links\n",
      "Status for https://rolisz.ro/projects/ant/#{0,0,1L1}{0,1,1L1}{1,0,1R1}{1,1,0A0}: 200 OK\n",
      "Visited: https://rolisz.ro/projects/ant/#{0,0,1L1}{0,1,1L1}{1,0,1R1}{1,1,0A0} found 0 links\n",
      "Visited: https://rolisz.ro/author/rolisz/page/3/ found 35 links\n",
      "Visited: https://rolisz.ro/2017/12/03/show-ing-off/ found 14 links\n",
      "Visited: https://rolisz.ro/2012/06/28/eol/ found 14 links\n",
      "Status for https://rolisz.ro/2015/12/05/adding-ssl-with-lets-encrypt/: 200 OK\n",
      "Status for https://rolisz.ro/2013/09/10/character-segmentation-overfitting/: 200 OK\n",
      "Visited: https://rolisz.ro/tag/linux/ found 22 links\n",
      "Visited: https://rolisz.ro/2012/02/19/olimpiada-judeteana-de-fizica/ found 14 links\n",
      "Status for https://rolisz.ro/2017/04/23/look-what-i-found-on-uetliberg/: 200 OK\n",
      "Visited: https://rolisz.ro/2013/02/17/grafice-cu-d3-js-part-1/ found 12 links\n",
      "Status for https://rolisz.ro/2013/03/22/tutorial-camelot/: 200 OK\n",
      "Status for https://rolisz.ro/2016/01/01/setting-goals/: 200 OK\n",
      "Status for https://rolisz.ro/2012/12/08/global-day-of-code-retreat-2012/: 200 OK\n",
      "Status for https://rolisz.ro/2016/08/01/how-to-make-a-selfie-time-lapse-video/: 200 OK\n",
      "Visited: https://rolisz.ro/2013/09/10/character-segmentation-overfitting/ found 14 links\n",
      "Visited: https://rolisz.ro/2015/12/05/adding-ssl-with-lets-encrypt/ found 11 links\n",
      "Status for https://rolisz.ro/2018/01/13/mass-effect-andromeda/: 200 OK\n",
      "Visited: https://rolisz.ro/2017/04/23/look-what-i-found-on-uetliberg/ found 14 links\n",
      "Visited: https://rolisz.ro/2013/03/22/tutorial-camelot/ found 14 links\n",
      "Status for https://rolisz.ro/2016/01/13/2015-in-review/: 200 OK\n",
      "Visited: https://rolisz.ro/2012/12/08/global-day-of-code-retreat-2012/ found 13 links\n",
      "Status for https://rolisz.ro/2016/06/08/gluecklicher-6-geburtstag-mein-blog/: 200 OK\n",
      "Visited: https://rolisz.ro/2016/01/01/setting-goals/ found 14 links\n",
      "Visited: https://rolisz.ro/2016/08/01/how-to-make-a-selfie-time-lapse-video/ found 15 links\n"
     ]
    },
    {
     "name": "stdout",
     "output_type": "stream",
     "text": [
      "Status for https://rolisz.ro/2015/01/03/saying-goodbye-to-lenovo/: 200 OK\n",
      "Status for https://rolisz.ro/tag/celullar-automata/: 200 OK\n",
      "Visited: https://rolisz.ro/2018/01/13/mass-effect-andromeda/ found 15 links\n",
      "Status for https://rolisz.ro/2017/03/09/silence/: 200 OK\n",
      "Status for https://rolisz.ro/2019/03/24/old-man-s-cave/#fn-2: 200 OK\n",
      "Status for https://rolisz.ro/2015/03/29/time-for-a-new-look/: 200 OK\n",
      "Visited: https://rolisz.ro/2016/01/13/2015-in-review/ found 17 links\n",
      "Status for https://rolisz.ro/2014/06/21/misca-reloaded/: 200 OK\n",
      "Visited: https://rolisz.ro/2016/06/08/gluecklicher-6-geburtstag-mein-blog/ found 23 links\n",
      "Visited: https://rolisz.ro/tag/celullar-automata/ found 9 links\n",
      "Visited: https://rolisz.ro/2015/01/03/saying-goodbye-to-lenovo/ found 12 links\n",
      "Visited: https://rolisz.ro/2015/03/29/time-for-a-new-look/ found 14 links\n",
      "Visited: https://rolisz.ro/2019/03/24/old-man-s-cave/#fn-2 found 16 links\n",
      "Visited: https://rolisz.ro/2017/03/09/silence/ found 14 links\n",
      "Status for https://rolisz.ro/tag/git/: 200 OK\n",
      "Status for https://rolisz.ro/2013/11/21/command-line-batch-installer-for-windows/: 200 OK\n",
      "Status for https://rolisz.ro/2010/08/05/devils-tuning-fork/: 200 OK\n",
      "Status for https://rolisz.ro/2013/08/09/fun-at-arka-park/: 200 OK\n",
      "Status for https://rolisz.ro/2015/06/07/happy-5th-birthday/: 200 OK\n",
      "Status for https://rolisz.ro/tag/conference/: 200 OK\n",
      "Status for https://rolisz.ro/2016/03/13/the-master-algorithm/: 200 OK\n",
      "Visited: https://rolisz.ro/2014/06/21/misca-reloaded/ found 15 links\n",
      "Visited: https://rolisz.ro/tag/git/ found 11 links\n",
      "Visited: https://rolisz.ro/2013/11/21/command-line-batch-installer-for-windows/ found 14 links\n",
      "Visited: https://rolisz.ro/2010/08/05/devils-tuning-fork/ found 14 links\n",
      "Status for https://rolisz.ro/2013/03/03/git-tutorial-part-2/: 200 OK\n",
      "Visited: https://rolisz.ro/tag/conference/ found 11 links\n",
      "Visited: https://rolisz.ro/2013/08/09/fun-at-arka-park/ found 14 links\n",
      "Visited: https://rolisz.ro/2016/03/13/the-master-algorithm/ found 14 links\n",
      "Visited: https://rolisz.ro/2015/06/07/happy-5th-birthday/ found 16 links\n",
      "Visited: https://rolisz.ro/2013/03/03/git-tutorial-part-2/ found 13 links\n",
      "New urls: 178\n",
      "Status for https://rolisz.ro/2010/06/15/rss-reader/: 200 OK\n",
      "Status for https://rolisz.ro/2015/04/15/visiting-romania/: 200 OK\n",
      "Status for https://rolisz.ro/2010/12/01/end-of-the-month-review/: 200 OK\n",
      "Status for https://rolisz.ro/2016/09/25/data-and-goliath/: 200 OK\n",
      "Status for https://rolisz.ro/2011/02/21/lupta-vietii/: 200 OK\n",
      "Status for https://rolisz.ro/tag/goals/: 200 OK\n",
      "Status for https://rolisz.ro/2011/11/25/next-wave-2012/: 200 OK\n",
      "Status for https://rolisz.ro/tag/cmd/: 200 OK\n",
      "Visited: https://rolisz.ro/2010/12/01/end-of-the-month-review/ found 14 links\n",
      "Visited: https://rolisz.ro/2011/02/21/lupta-vietii/ found 14 links\n",
      "Visited: https://rolisz.ro/2016/09/25/data-and-goliath/ found 14 links\n",
      "Visited: https://rolisz.ro/2015/04/15/visiting-romania/ found 14 links\n",
      "Visited: https://rolisz.ro/2011/11/25/next-wave-2012/ found 16 links\n",
      "Visited: https://rolisz.ro/tag/goals/ found 15 links\n",
      "Visited: https://rolisz.ro/2010/06/15/rss-reader/ found 14 links\n",
      "Visited: https://rolisz.ro/tag/cmd/ found 10 links\n",
      "Status for https://rolisz.ro/2015/03/08/davos/: 200 OK\n",
      "Status for https://rolisz.ro/2013/06/16/chestionar-proiect-colectiv/: 200 OK\n",
      "Status for https://rolisz.ro/2015/10/11/bap/: 200 OK\n",
      "Status for https://rolisz.ro/2014/03/02/walter-the-waiter/: 200 OK\n",
      "Status for https://rolisz.ro/2013/06/27/anul-2-2/: 200 OK\n",
      "Status for https://rolisz.ro/2011/01/15/olimpiada-judeteana-de-fizica-2011/: 200 OK\n",
      "Status for https://rolisz.ro/2011/11/13/metode-speciale-in-python/: 200 OK\n",
      "Status for https://rolisz.ro/2017/02/05/winter-sports/: 200 OK\n",
      "Visited: https://rolisz.ro/2014/03/02/walter-the-waiter/ found 14 links\n",
      "Visited: https://rolisz.ro/2013/06/27/anul-2-2/ found 14 links\n",
      "Visited: https://rolisz.ro/2011/11/13/metode-speciale-in-python/ found 14 links\n",
      "Visited: https://rolisz.ro/2013/06/16/chestionar-proiect-colectiv/ found 14 links\n",
      "Visited: https://rolisz.ro/2017/02/05/winter-sports/ found 12 links\n",
      "Visited: https://rolisz.ro/2015/03/08/davos/ found 12 links\n",
      "Visited: https://rolisz.ro/2011/01/15/olimpiada-judeteana-de-fizica-2011/ found 14 links\n",
      "Status for https://rolisz.ro/2011/03/29/polonia/: 200 OK\n",
      "Status for https://rolisz.ro/tag/exam/: 200 OK\n",
      "Status for https://rolisz.ro/tag/ssl/: 200 OK\n",
      "Status for https://rolisz.ro/2016/09/18/good-bye-alida/: 200 OK\n",
      "Status for https://rolisz.ro/tag/gdcr/: 200 OK\n",
      "Status for https://rolisz.ro/2016/12/22/shalom-from-israel/: 200 OK\n",
      "Status for https://rolisz.ro/2014/07/05/end-of-june-end-of-college/: 200 OK\n",
      "Visited: https://rolisz.ro/2015/10/11/bap/ found 15 links\n",
      "Visited: https://rolisz.ro/tag/exam/ found 11 links\n",
      "Visited: https://rolisz.ro/tag/ssl/ found 9 links\n",
      "Visited: https://rolisz.ro/2016/09/18/good-bye-alida/ found 15 links\n",
      "Visited: https://rolisz.ro/2011/03/29/polonia/ found 14 links\n",
      "Visited: https://rolisz.ro/tag/gdcr/ found 11 links\n",
      "Status for https://rolisz.ro/2015/09/05/san-francisco-and-the-so-called-mountain-view/: 200 OK\n",
      "Status for https://rolisz.ro/2011/04/14/ultima-teza/: 200 OK\n",
      "Status for https://rolisz.ro/tag/reviews/page/3/: 200 OK\n",
      "Status for https://rolisz.ro/2013/12/09/gentoo-linux/: 200 OK\n",
      "Status for https://rolisz.ro/2011/12/19/project-euler-si-ac/: 200 OK\n",
      "Visited: https://rolisz.ro/2014/07/05/end-of-june-end-of-college/ found 16 links\n",
      "Status for https://rolisz.ro/2016/04/10/fixing-the-bike/: 200 OK\n",
      "Status for https://rolisz.ro/2013/09/15/ultima-vacanta-de-vara/: 200 OK\n",
      "Visited: https://rolisz.ro/tag/reviews/page/3/ found 35 links\n",
      "Visited: https://rolisz.ro/2011/04/14/ultima-teza/ found 14 links\n",
      "Visited: https://rolisz.ro/2011/12/19/project-euler-si-ac/ found 14 links\n",
      "Visited: https://rolisz.ro/2013/12/09/gentoo-linux/ found 13 links\n",
      "Visited: https://rolisz.ro/2016/12/22/shalom-from-israel/ found 14 links\n",
      "Visited: https://rolisz.ro/2016/04/10/fixing-the-bike/ found 12 links\n",
      "Status for https://rolisz.ro/2011/08/31/curatenie-pre-facultate/: 200 OK\n",
      "Status for https://rolisz.ro/2011/01/31/olimpiada-nationala-de-fizica-2011-part-one/: 200 OK\n",
      "Status for https://rolisz.ro/2014/06/23/changing-romania-one-square-meter-at-a-time/: 200 OK\n",
      "Status for https://rolisz.ro/2017/06/16/the-piano-guys/: 200 OK\n",
      "Visited: https://rolisz.ro/2013/09/15/ultima-vacanta-de-vara/ found 14 links\n",
      "Status for https://rolisz.ro/tag/photos/: 200 OK\n",
      "Status for https://rolisz.ro/2012/07/05/experienta-mea-cu-linux-part-5/: 200 OK\n",
      "Status for https://rolisz.ro/2010/10/28/webcomics/: 200 OK\n",
      "Visited: https://rolisz.ro/2014/06/23/changing-romania-one-square-meter-at-a-time/ found 14 links\n",
      "Visited: https://rolisz.ro/2017/06/16/the-piano-guys/ found 14 links\n",
      "Visited: https://rolisz.ro/2011/08/31/curatenie-pre-facultate/ found 14 links\n",
      "Visited: https://rolisz.ro/2011/01/31/olimpiada-nationala-de-fizica-2011-part-one/ found 14 links\n",
      "Visited: https://rolisz.ro/2015/09/05/san-francisco-and-the-so-called-mountain-view/ found 14 links\n",
      "Visited: https://rolisz.ro/tag/photos/ found 25 links\n",
      "Status for https://rolisz.ro/2017/10/28/blogs-i-follow-part-1/: 200 OK\n",
      "Status for https://rolisz.ro/2011/03/25/command-line/: 200 OK\n",
      "Status for https://rolisz.ro/2015/12/05/adding-ssl-with-let-s-encrypt/: 404 Not Found\n",
      "Status for https://rolisz.ro/2012/11/12/tutorial-prolog/: 200 OK\n",
      "Status for https://rolisz.ro/2016/01/01/setting-goals/amp/: 200 OK\n",
      "Status for https://rolisz.ro/tag/highschool/: 200 OK\n",
      "Visited: https://rolisz.ro/2015/12/05/adding-ssl-with-let-s-encrypt/ found 0 links\n",
      "Visited: https://rolisz.ro/2012/07/05/experienta-mea-cu-linux-part-5/ found 14 links\n",
      "Visited: https://rolisz.ro/2010/10/28/webcomics/ found 14 links\n",
      "Visited: https://rolisz.ro/2016/01/01/setting-goals/amp/ found 3 links\n",
      "Status for https://rolisz.ro/2013/02/25/cura-de-slabire/: 200 OK\n",
      "Status for https://rolisz.ro/2016/03/06/mayumana/: 200 OK\n",
      "Visited: https://rolisz.ro/2011/03/25/command-line/ found 15 links\n",
      "Status for https://rolisz.ro/2014/07/04/review-materii-anul-3/: 200 OK\n",
      "Visited: https://rolisz.ro/tag/highschool/ found 10 links\n",
      "Visited: https://rolisz.ro/2017/10/28/blogs-i-follow-part-1/ found 14 links\n",
      "Status for https://rolisz.ro/2012/03/16/tutorial-awk/: 200 OK\n",
      "Visited: https://rolisz.ro/2012/11/12/tutorial-prolog/ found 14 links\n"
     ]
    },
    {
     "name": "stdout",
     "output_type": "stream",
     "text": [
      "Status for https://rolisz.ro/2016/03/25/the-museum/: 200 OK\n",
      "Status for https://rolisz.ro/2017/01/28/sous-vide-with-anova-precision-cooker/: 200 OK\n",
      "Status for https://rolisz.ro/2013/11/30/stephen-wolframs-new-big-thing/: 200 OK\n",
      "Status for https://rolisz.ro/2011/01/01/afisarea-treptata-a-unei-figuri/: 200 OK\n",
      "Visited: https://rolisz.ro/2014/07/04/review-materii-anul-3/ found 14 links\n",
      "Visited: https://rolisz.ro/2013/02/25/cura-de-slabire/ found 14 links\n",
      "Visited: https://rolisz.ro/2012/03/16/tutorial-awk/ found 14 links\n",
      "Visited: https://rolisz.ro/2016/03/06/mayumana/ found 14 links\n",
      "Visited: https://rolisz.ro/2016/03/25/the-museum/ found 15 links\n",
      "Visited: https://rolisz.ro/2017/01/28/sous-vide-with-anova-precision-cooker/ found 14 links\n",
      "Status for https://rolisz.ro/2011/07/17/lenovo-t520-review/: 200 OK\n",
      "Status for https://rolisz.ro/2011/01/02/2010-in-review/: 200 OK\n",
      "Status for https://rolisz.ro/2014/06/05/festivitate-informatica-ubb/: 200 OK\n",
      "Status for https://rolisz.ro/2015/05/29/weekend-in-london/: 200 OK\n",
      "Visited: https://rolisz.ro/2013/11/30/stephen-wolframs-new-big-thing/ found 14 links\n",
      "Visited: https://rolisz.ro/2011/01/01/afisarea-treptata-a-unei-figuri/ found 14 links\n",
      "Status for https://rolisz.ro/2012/06/07/la-multi-ani-blogule/: 200 OK\n",
      "Status for https://rolisz.ro/2013/11/23/state-of-im-on-windows/: 200 OK\n",
      "Status for https://rolisz.ro/2015/04/26/trip-to-geneva-part-1/: 200 OK\n",
      "Status for https://rolisz.ro/2014/12/17/strike-the-iron-while-its-hot/: 200 OK\n",
      "Visited: https://rolisz.ro/2011/07/17/lenovo-t520-review/ found 14 links\n",
      "Visited: https://rolisz.ro/2011/01/02/2010-in-review/ found 14 links\n",
      "Visited: https://rolisz.ro/2014/06/05/festivitate-informatica-ubb/ found 13 links\n",
      "Visited: https://rolisz.ro/2012/06/07/la-multi-ani-blogule/ found 17 links\n",
      "Visited: https://rolisz.ro/2013/11/23/state-of-im-on-windows/ found 16 links\n",
      "Status for https://rolisz.ro/2011/05/12/infomatrix-etapa-internationala/: 200 OK\n",
      "Status for https://rolisz.ro/2012/02/13/statistici-si-grafice-in-r/: 200 OK\n",
      "Visited: https://rolisz.ro/2014/12/17/strike-the-iron-while-its-hot/ found 14 links\n",
      "Visited: https://rolisz.ro/2015/04/26/trip-to-geneva-part-1/ found 14 links\n",
      "Status for https://rolisz.ro/2015/05/07/google-cardboard/: 200 OK\n",
      "Visited: https://rolisz.ro/2015/05/29/weekend-in-london/ found 14 links\n",
      "Status for https://rolisz.ro/tag/trips/: 200 OK\n",
      "Status for https://rolisz.ro/author/rolisz/page/4/: 200 OK\n",
      "Status for https://rolisz.ro/2010/07/03/prince-of-persia-the-forgotten-sands/: 200 OK\n",
      "Status for https://rolisz.ro/2013/11/22/studcard-omnipass-bt/: 200 OK\n",
      "Visited: https://rolisz.ro/2011/05/12/infomatrix-etapa-internationala/ found 14 links\n",
      "Status for https://rolisz.ro/2011/08/08/chat-cu-node-js/: 200 OK\n",
      "Visited: https://rolisz.ro/2012/02/13/statistici-si-grafice-in-r/ found 14 links\n",
      "Visited: https://rolisz.ro/author/rolisz/page/4/ found 35 links\n",
      "Visited: https://rolisz.ro/tag/trips/ found 31 links\n",
      "Visited: https://rolisz.ro/2015/05/07/google-cardboard/ found 11 links\n",
      "Status for https://rolisz.ro/2016/02/19/why-nations-fail/: 200 OK\n",
      "Status for https://rolisz.ro/2011/04/18/stocarea-de-arbori-in-baze-de-date-relationale/: 200 OK\n",
      "Status for https://rolisz.ro/2013/11/05/last-week-panic/: 200 OK\n",
      "Visited: https://rolisz.ro/2013/11/22/studcard-omnipass-bt/ found 14 links\n",
      "Visited: https://rolisz.ro/2010/07/03/prince-of-persia-the-forgotten-sands/ found 14 links\n",
      "Status for https://rolisz.ro/2015/12/18/the-force-awakens/: 200 OK\n",
      "Status for https://rolisz.ro/2011/10/21/recensamant/: 200 OK\n",
      "Visited: https://rolisz.ro/2011/08/08/chat-cu-node-js/ found 14 links\n",
      "Status for https://rolisz.ro/2012/03/18/mass-effect-3-spoilerish-rant/: 200 OK\n",
      "Status for https://rolisz.ro/tag/facultate/: 200 OK\n",
      "Visited: https://rolisz.ro/2016/02/19/why-nations-fail/ found 15 links\n",
      "Status for https://rolisz.ro/2016/12/09/noh-hai-la-vot/: 200 OK\n",
      "Visited: https://rolisz.ro/2011/04/18/stocarea-de-arbori-in-baze-de-date-relationale/ found 14 links\n",
      "Visited: https://rolisz.ro/2011/10/21/recensamant/ found 11 links\n",
      "Visited: https://rolisz.ro/2013/11/05/last-week-panic/ found 12 links\n",
      "Visited: https://rolisz.ro/2015/12/18/the-force-awakens/ found 14 links\n",
      "Status for https://rolisz.ro/2016/05/12/hanz-zimmer-live-on-tour/: 200 OK\n",
      "Visited: https://rolisz.ro/tag/facultate/ found 30 links\n",
      "Status for https://rolisz.ro/2016/05/29/nutribullet/: 200 OK\n",
      "Visited: https://rolisz.ro/2012/03/18/mass-effect-3-spoilerish-rant/ found 12 links\n",
      "Status for https://rolisz.ro/2014/10/08/getting-the-furniture/: 200 OK\n",
      "Status for https://rolisz.ro/2010/07/10/sfml/: 200 OK\n",
      "Status for https://rolisz.ro/2012/07/20/experienta-mea-cu-orange/: 200 OK\n",
      "Visited: https://rolisz.ro/2016/12/09/noh-hai-la-vot/ found 13 links\n",
      "Status for https://rolisz.ro/2017/06/14/istanbul-land-of-turbans-spice-and-carpets/: 200 OK\n",
      "Status for https://rolisz.ro/tag/backup/: 200 OK\n",
      "Visited: https://rolisz.ro/2016/05/12/hanz-zimmer-live-on-tour/ found 15 links\n",
      "Status for https://rolisz.ro/2011/09/22/windows-8-developer-preview-part-1/: 200 OK\n",
      "Visited: https://rolisz.ro/2014/10/08/getting-the-furniture/ found 14 links\n",
      "Visited: https://rolisz.ro/2016/05/29/nutribullet/ found 14 links\n",
      "Visited: https://rolisz.ro/2010/07/10/sfml/ found 14 links\n",
      "Status for https://rolisz.ro/2010/12/01/experienta-mea-cu-linux-part-3/: 200 OK\n",
      "Visited: https://rolisz.ro/tag/backup/ found 12 links\n",
      "Visited: https://rolisz.ro/2012/07/20/experienta-mea-cu-orange/ found 13 links\n",
      "Status for https://rolisz.ro/2013/01/01/katyas-world/: 200 OK\n",
      "Status for https://rolisz.ro/2015/04/20/sechselaueten/: 200 OK\n",
      "Status for https://rolisz.ro/2013/12/31/happy-new-year/: 200 OK\n",
      "Status for https://rolisz.ro/tag/rant/: 200 OK\n",
      "Status for https://rolisz.ro/2016/05/04/rise-of-the-tomb-raider/: 200 OK\n",
      "Visited: https://rolisz.ro/2011/09/22/windows-8-developer-preview-part-1/ found 14 links\n",
      "Visited: https://rolisz.ro/2010/12/01/experienta-mea-cu-linux-part-3/ found 14 links\n",
      "Visited: https://rolisz.ro/2017/06/14/istanbul-land-of-turbans-spice-and-carpets/ found 14 links\n",
      "Visited: https://rolisz.ro/2015/04/20/sechselaueten/ found 14 links\n",
      "Visited: https://rolisz.ro/2013/01/01/katyas-world/ found 14 links\n",
      "Status for https://rolisz.ro/2011/06/29/planuri-de-vacanta/: 200 OK\n",
      "Status for https://rolisz.ro/2014/11/17/global-day-of-code-retreat-2014/: 200 OK\n",
      "Visited: https://rolisz.ro/2013/12/31/happy-new-year/ found 16 links\n",
      "Status for https://rolisz.ro/2010/12/02/experienta-mea-cu-linux-part-3/: 200 OK\n",
      "Visited: https://rolisz.ro/tag/rant/ found 16 links\n",
      "Visited: https://rolisz.ro/2016/05/04/rise-of-the-tomb-raider/ found 14 links\n",
      "Status for https://rolisz.ro/2011/04/23/php-benchmarking/: 200 OK\n",
      "Status for https://rolisz.ro/2013/02/14/colectare-note/: 200 OK\n",
      "Visited: https://rolisz.ro/2010/12/02/experienta-mea-cu-linux-part-3/ found 15 links\n",
      "Visited: https://rolisz.ro/2014/11/17/global-day-of-code-retreat-2014/ found 13 links\n",
      "Visited: https://rolisz.ro/2011/06/29/planuri-de-vacanta/ found 14 links\n",
      "Status for https://rolisz.ro/2015/12/13/panasonic-lumix-dmc-lx100-review/: 200 OK\n",
      "Status for https://rolisz.ro/2013/12/20/emag/: 200 OK\n",
      "Status for https://rolisz.ro/2019/08/07/breaking-radio-silence/amp/: 200 OK\n",
      "Visited: https://rolisz.ro/2011/04/23/php-benchmarking/ found 14 links\n",
      "Status for https://rolisz.ro/2011/09/27/windows-8-part-2/: 200 OK\n",
      "Status for https://rolisz.ro/2015/10/08/google-tech-talk-babes-bolyai-university/: 200 OK\n",
      "Visited: https://rolisz.ro/2019/08/07/breaking-radio-silence/amp/ found 3 links\n",
      "Visited: https://rolisz.ro/2013/02/14/colectare-note/ found 13 links\n",
      "Status for https://rolisz.ro/2010/06/14/fejes-din-apa-in-apa/: 200 OK\n",
      "Visited: https://rolisz.ro/2013/12/20/emag/ found 14 links\n",
      "Status for https://rolisz.ro/2010/10/08/big-day/: 200 OK\n",
      "Status for https://rolisz.ro/2012/12/31/la-multi-ani/: 200 OK\n",
      "Visited: https://rolisz.ro/2015/12/13/panasonic-lumix-dmc-lx100-review/ found 17 links\n",
      "Status for https://rolisz.ro/tag/internship/: 200 OK\n",
      "Visited: https://rolisz.ro/2010/06/14/fejes-din-apa-in-apa/ found 11 links\n",
      "Status for https://rolisz.ro/2015/08/08/the-big-apple/: 200 OK\n",
      "Status for https://rolisz.ro/2013/11/10/laptop-refreshing/: 200 OK\n",
      "Visited: https://rolisz.ro/tag/internship/ found 10 links\n",
      "Visited: https://rolisz.ro/2015/10/08/google-tech-talk-babes-bolyai-university/ found 14 links\n"
     ]
    },
    {
     "name": "stdout",
     "output_type": "stream",
     "text": [
      "Visited: https://rolisz.ro/2010/10/08/big-day/ found 14 links\n",
      "Visited: https://rolisz.ro/2011/09/27/windows-8-part-2/ found 15 links\n",
      "Status for https://rolisz.ro/tag/acrylamid/: 200 OK\n",
      "Visited: https://rolisz.ro/2012/12/31/la-multi-ani/ found 18 links\n",
      "Status for https://rolisz.ro/2016/02/27/new-york-again/: 200 OK\n",
      "Status for https://rolisz.ro/tag/challenge/: 200 OK\n",
      "Status for https://rolisz.ro/2014/09/29/knabenschiessen/: 200 OK\n",
      "Status for https://rolisz.ro/2017/11/09/blade-runner-2049/: 200 OK\n",
      "Visited: https://rolisz.ro/2013/11/10/laptop-refreshing/ found 14 links\n",
      "Status for https://rolisz.ro/2017/06/29/i-believe-i-can-fly/: 200 OK\n",
      "Visited: https://rolisz.ro/tag/acrylamid/ found 11 links\n",
      "Visited: https://rolisz.ro/tag/challenge/ found 12 links\n",
      "Status for https://rolisz.ro/2010/07/25/used-by-me-3/: 200 OK\n",
      "Visited: https://rolisz.ro/2017/11/09/blade-runner-2049/ found 14 links\n",
      "Visited: https://rolisz.ro/2014/09/29/knabenschiessen/ found 13 links\n",
      "Status for https://rolisz.ro/tag/plants/: 200 OK\n",
      "Status for https://rolisz.ro/2011/09/29/im-off-for-real-this-time/: 200 OK\n",
      "Visited: https://rolisz.ro/2017/06/29/i-believe-i-can-fly/ found 14 links\n",
      "Status for https://rolisz.ro/tag/charts/: 200 OK\n",
      "Visited: https://rolisz.ro/2015/08/08/the-big-apple/ found 14 links\n",
      "Status for https://rolisz.ro/2010/06/13/experienta-mea-cu-linux-part-1/: 200 OK\n",
      "Visited: https://rolisz.ro/2016/02/27/new-york-again/ found 14 links\n",
      "Status for https://rolisz.ro/2015/08/30/after-a-year-in-zuerich/: 404 Not Found\n",
      "Visited: https://rolisz.ro/2015/08/30/after-a-year-in-zuerich/ found 0 links\n",
      "Visited: https://rolisz.ro/tag/plants/ found 9 links\n",
      "Status for https://rolisz.ro/2010/12/07/xhr-file-upload/: 200 OK\n",
      "Visited: https://rolisz.ro/2010/07/25/used-by-me-3/ found 14 links\n",
      "Visited: https://rolisz.ro/tag/charts/ found 11 links\n",
      "Visited: https://rolisz.ro/2011/09/29/im-off-for-real-this-time/ found 14 links\n",
      "Status for https://rolisz.ro/2014/07/05/the-dungeon/: 200 OK\n",
      "Status for https://rolisz.ro/2013/12/07/nablopomo-recap/: 200 OK\n",
      "Visited: https://rolisz.ro/2010/06/13/experienta-mea-cu-linux-part-1/ found 14 links\n",
      "Status for https://rolisz.ro/tag/gpu/: 200 OK\n",
      "Status for https://rolisz.ro/2017/12/30/let-s-go-to-africa/: 200 OK\n",
      "Status for https://rolisz.ro/2014/03/17/alida/: 200 OK\n",
      "Status for https://rolisz.ro/2011/08/02/introducere-in-node-js/: 200 OK\n",
      "Visited: https://rolisz.ro/2010/12/07/xhr-file-upload/ found 14 links\n",
      "Status for https://rolisz.ro/2011/12/11/html5-workshop/: 200 OK\n",
      "Visited: https://rolisz.ro/tag/gpu/ found 9 links\n",
      "Visited: https://rolisz.ro/2014/07/05/the-dungeon/ found 14 links\n",
      "Status for https://rolisz.ro/page/5/: 200 OK\n",
      "Visited: https://rolisz.ro/2013/12/07/nablopomo-recap/ found 18 links\n",
      "Status for https://rolisz.ro/2010/11/20/inception/: 200 OK\n",
      "Status for https://rolisz.ro/2010/11/29/50-de-ani-de-casatorie/: 200 OK\n",
      "Visited: https://rolisz.ro/2014/03/17/alida/ found 14 links\n",
      "Status for https://rolisz.ro/2015/08/01/the-little-daco-hungarian-expat-makes-gulyas/: 200 OK\n",
      "Status for https://rolisz.ro/tag/physics/: 200 OK\n",
      "Visited: https://rolisz.ro/2011/08/02/introducere-in-node-js/ found 14 links\n",
      "Visited: https://rolisz.ro/2011/12/11/html5-workshop/ found 14 links\n",
      "Visited: https://rolisz.ro/page/5/ found 35 links\n",
      "Visited: https://rolisz.ro/2010/11/29/50-de-ani-de-casatorie/ found 14 links\n",
      "Visited: https://rolisz.ro/2017/12/30/let-s-go-to-africa/ found 14 links\n",
      "Visited: https://rolisz.ro/2010/11/20/inception/ found 14 links\n",
      "Status for https://rolisz.ro/tag/sale/: 200 OK\n",
      "Visited: https://rolisz.ro/2015/08/01/the-little-daco-hungarian-expat-makes-gulyas/ found 12 links\n",
      "Status for https://rolisz.ro/2016/04/01/revisiting-romania/: 200 OK\n",
      "Visited: https://rolisz.ro/tag/physics/ found 13 links\n",
      "Status for https://rolisz.ro/2012/02/14/simplu-calculator-in-python-partea-1/: 200 OK\n",
      "Status for https://rolisz.ro/2012/01/09/dont-click-it/: 200 OK\n",
      "Status for https://rolisz.ro/2013/12/21/gentoo-vs-rolisz-round-1/: 200 OK\n",
      "Status for https://rolisz.ro/2011/11/17/update-facultate/: 200 OK\n",
      "Status for https://rolisz.ro/2016/07/24/50-days-of-roland/: 200 OK\n",
      "Visited: https://rolisz.ro/tag/sale/ found 9 links\n",
      "Status for https://rolisz.ro/tag/presentation/: 200 OK\n",
      "Visited: https://rolisz.ro/2016/04/01/revisiting-romania/ found 15 links\n",
      "Visited: https://rolisz.ro/2013/12/21/gentoo-vs-rolisz-round-1/ found 12 links\n",
      "Visited: https://rolisz.ro/2012/01/09/dont-click-it/ found 14 links\n",
      "Status for https://rolisz.ro/2015/04/30/trip-to-geneva-part-2/: 200 OK\n",
      "Visited: https://rolisz.ro/2012/02/14/simplu-calculator-in-python-partea-1/ found 14 links\n",
      "Visited: https://rolisz.ro/2016/07/24/50-days-of-roland/ found 12 links\n",
      "Visited: https://rolisz.ro/2011/11/17/update-facultate/ found 14 links\n",
      "Visited: https://rolisz.ro/tag/presentation/ found 14 links\n",
      "Status for https://rolisz.ro/tag/personal/page/3/: 200 OK\n",
      "Status for https://rolisz.ro/2013/03/03/git-tutorial-part-2/amp/: 200 OK\n",
      "Status for https://rolisz.ro/2010/07/30/cambridge-follow-up/: 200 OK\n",
      "Status for https://rolisz.ro/2010/07/25/sfml-in-visual-studio-2010/: 200 OK\n",
      "Status for https://rolisz.ro/2012/09/11/oldies-but-goldies/: 200 OK\n",
      "Status for https://rolisz.ro/tag/gentoo/: 200 OK\n",
      "Visited: https://rolisz.ro/2013/03/03/git-tutorial-part-2/amp/ found 4 links\n",
      "Visited: https://rolisz.ro/tag/personal/page/3/ found 11 links\n",
      "Visited: https://rolisz.ro/2015/04/30/trip-to-geneva-part-2/ found 14 links\n",
      "Visited: https://rolisz.ro/2010/07/30/cambridge-follow-up/ found 14 links\n",
      "Visited: https://rolisz.ro/2010/07/25/sfml-in-visual-studio-2010/ found 14 links\n",
      "Status for https://rolisz.ro/2015/02/21/what-i-think-of-the-ai-hype/: 200 OK\n",
      "Status for https://rolisz.ro/2012/02/08/prima-sesiune/: 200 OK\n",
      "Status for https://rolisz.ro/2012/12/08/global-code-retreat-day-2012/: 404 Not Found\n",
      "Visited: https://rolisz.ro/2012/12/08/global-code-retreat-day-2012/ found 0 links\n",
      "Visited: https://rolisz.ro/tag/gentoo/ found 11 links\n",
      "Visited: https://rolisz.ro/2012/09/11/oldies-but-goldies/ found 14 links\n",
      "Status for https://rolisz.ro/tag/synology/: 200 OK\n",
      "Status for https://rolisz.ro/2010/09/26/zilele-orasului/: 200 OK\n",
      "Status for https://rolisz.ro/2012/02/26/personal-update/: 200 OK\n",
      "Status for https://rolisz.ro/2011/10/14/rularea-tasm-in-windows-7/: 200 OK\n",
      "Status for https://rolisz.ro/2011/02/04/olimpiada-nationala-de-fizica-2011-part-two/: 200 OK\n",
      "Status for https://rolisz.ro/2012/06/20/chestie-utila-pt-sda/: 200 OK\n",
      "Visited: https://rolisz.ro/2015/02/21/what-i-think-of-the-ai-hype/ found 13 links\n",
      "Visited: https://rolisz.ro/tag/synology/ found 11 links\n",
      "Visited: https://rolisz.ro/2012/02/08/prima-sesiune/ found 14 links\n",
      "Visited: https://rolisz.ro/2012/02/26/personal-update/ found 15 links\n",
      "Visited: https://rolisz.ro/2010/09/26/zilele-orasului/ found 14 links\n",
      "Status for https://rolisz.ro/2010/11/25/demonul-lui-maxwell-for-real/: 200 OK\n",
      "Status for https://rolisz.ro/tag/fizica/: 200 OK\n",
      "Visited: https://rolisz.ro/2012/06/20/chestie-utila-pt-sda/ found 14 links\n",
      "Visited: https://rolisz.ro/2011/10/14/rularea-tasm-in-windows-7/ found 14 links\n",
      "Status for https://rolisz.ro/2013/02/24/statistici-la-jumatatea-facultatii/: 200 OK\n",
      "Status for https://rolisz.ro/2010/10/31/amazing-month/: 200 OK\n",
      "Visited: https://rolisz.ro/2011/02/04/olimpiada-nationala-de-fizica-2011-part-two/ found 14 links\n",
      "Status for https://rolisz.ro/tag/tutorial/: 200 OK\n",
      "Status for https://rolisz.ro/2011/03/03/url-routing-with-php/: 200 OK\n",
      "Status for https://rolisz.ro/2016/07/23/50-days-of-roland/: 200 OK\n",
      "Visited: https://rolisz.ro/tag/fizica/ found 13 links\n",
      "Status for https://rolisz.ro/2015/01/20/winter-holiday-movies/: 200 OK\n",
      "Visited: https://rolisz.ro/2010/11/25/demonul-lui-maxwell-for-real/ found 14 links\n",
      "Visited: https://rolisz.ro/2013/02/24/statistici-la-jumatatea-facultatii/ found 14 links\n",
      "Status for https://rolisz.ro/2015/04/10/biking/: 200 OK\n",
      "Visited: https://rolisz.ro/tag/tutorial/ found 33 links\n",
      "Visited: https://rolisz.ro/2010/10/31/amazing-month/ found 14 links\n",
      "Status for https://rolisz.ro/2015/10/08/google-tech-talk-babes-bolyai-university/amp/: 200 OK\n",
      "Visited: https://rolisz.ro/2011/03/03/url-routing-with-php/ found 12 links\n",
      "Visited: https://rolisz.ro/2016/07/23/50-days-of-roland/ found 11 links\n",
      "Status for https://rolisz.ro/2016/05/11/hanz-zimmer-live-on-tour/: 200 OK\n"
     ]
    },
    {
     "name": "stdout",
     "output_type": "stream",
     "text": [
      "Status for https://rolisz.ro/2016/05/24/paris-revisited/: 200 OK\n",
      "Visited: https://rolisz.ro/2015/10/08/google-tech-talk-babes-bolyai-university/amp/ found 3 links\n",
      "Visited: https://rolisz.ro/2015/01/20/winter-holiday-movies/ found 14 links\n",
      "Status for https://rolisz.ro/2011/01/20/fall-of-giants/: 200 OK\n",
      "Status for https://rolisz.ro/2012/06/02/osom/: 200 OK\n",
      "Visited: https://rolisz.ro/2015/04/10/biking/ found 14 links\n",
      "Status for https://rolisz.ro/2012/01/05/2011-in-review/: 200 OK\n",
      "Status for https://rolisz.ro/tag/windows/: 200 OK\n",
      "Status for https://rolisz.ro/2010/11/15/concursul-de-fizica-schwartz/: 200 OK\n",
      "Status for https://rolisz.ro/2014/09/24/first-week-in-zurich/: 200 OK\n",
      "Visited: https://rolisz.ro/2011/01/20/fall-of-giants/ found 15 links\n",
      "Visited: https://rolisz.ro/2016/05/11/hanz-zimmer-live-on-tour/ found 14 links\n",
      "Visited: https://rolisz.ro/2012/06/02/osom/ found 14 links\n",
      "Visited: https://rolisz.ro/2012/01/05/2011-in-review/ found 14 links\n",
      "Visited: https://rolisz.ro/tag/windows/ found 19 links\n",
      "Status for https://rolisz.ro/2017/10/06/around-europe-with-my-wifey/: 200 OK\n",
      "Status for https://rolisz.ro/tag/lisp/: 200 OK\n",
      "Visited: https://rolisz.ro/2010/11/15/concursul-de-fizica-schwartz/ found 14 links\n",
      "Status for https://rolisz.ro/2015/06/13/trip-to-dublin/: 200 OK\n",
      "Visited: https://rolisz.ro/2016/05/24/paris-revisited/ found 15 links\n",
      "Status for https://rolisz.ro/2012/02/12/scurta-introducere-in-r/: 200 OK\n",
      "Status for https://rolisz.ro/tag/eight/: 200 OK\n",
      "Status for https://rolisz.ro/2012/03/02/instalare-linux-pe-masina-virtuala/: 200 OK\n",
      "Visited: https://rolisz.ro/2014/09/24/first-week-in-zurich/ found 14 links\n",
      "Visited: https://rolisz.ro/tag/lisp/ found 10 links\n",
      "Visited: https://rolisz.ro/tag/eight/ found 16 links\n",
      "Visited: https://rolisz.ro/2012/02/12/scurta-introducere-in-r/ found 16 links\n",
      "Visited: https://rolisz.ro/2012/03/02/instalare-linux-pe-masina-virtuala/ found 14 links\n",
      "Visited: https://rolisz.ro/2015/06/13/trip-to-dublin/ found 15 links\n",
      "Visited: https://rolisz.ro/2017/10/06/around-europe-with-my-wifey/ found 14 links\n",
      "New urls: 89\n",
      "Status for https://rolisz.ro/2011/03/10/google-code-in-2010/: 200 OK\n",
      "Status for https://rolisz.ro/2011/09/04/pregatire-pentru-facultate-part-two/: 200 OK\n",
      "Status for https://rolisz.ro/2011/02/14/eminescu/: 200 OK\n",
      "Status for https://rolisz.ro/tag/marghita/: 200 OK\n",
      "Status for https://rolisz.ro/2014/06/28/interviu-cu-echipa-secureye/: 200 OK\n",
      "Status for https://rolisz.ro/tag/cluj/: 200 OK\n",
      "Status for https://rolisz.ro/2013/06/15/examen-retele-225-si-226/: 404 Not Found\n",
      "Visited: https://rolisz.ro/2013/06/15/examen-retele-225-si-226/ found 0 links\n",
      "Status for https://rolisz.ro/tag/nablopomo/: 200 OK\n",
      "Status for https://rolisz.ro/tag/recensamant/: 200 OK\n",
      "Visited: https://rolisz.ro/tag/marghita/ found 12 links\n",
      "Visited: https://rolisz.ro/2011/09/04/pregatire-pentru-facultate-part-two/ found 13 links\n",
      "Visited: https://rolisz.ro/2011/02/14/eminescu/ found 11 links\n",
      "Visited: https://rolisz.ro/2011/03/10/google-code-in-2010/ found 14 links\n",
      "Visited: https://rolisz.ro/2014/06/28/interviu-cu-echipa-secureye/ found 14 links\n",
      "Visited: https://rolisz.ro/tag/cluj/ found 20 links\n",
      "Status for https://rolisz.ro/tag/reviews/page/4/: 200 OK\n",
      "Visited: https://rolisz.ro/tag/recensamant/ found 9 links\n",
      "Visited: https://rolisz.ro/tag/nablopomo/ found 11 links\n",
      "Status for https://rolisz.ro/2016/05/11/hanz-zimmer-live-on-tour/amp/: 200 OK\n",
      "Status for https://rolisz.ro/tag/diving/: 200 OK\n",
      "Status for https://rolisz.ro/2013/11/03/nablopomo/: 200 OK\n",
      "Status for https://rolisz.ro/tag/holiday/: 200 OK\n",
      "Status for https://rolisz.ro/tag/fail/: 200 OK\n",
      "Visited: https://rolisz.ro/2016/05/11/hanz-zimmer-live-on-tour/amp/ found 3 links\n",
      "Status for https://rolisz.ro/2012/01/30/examen-fp-grupa-211/: 404 Not Found\n",
      "Status for https://rolisz.ro/2010/12/17/tron-evolution/: 200 OK\n",
      "Visited: https://rolisz.ro/2012/01/30/examen-fp-grupa-211/ found 0 links\n",
      "Visited: https://rolisz.ro/tag/reviews/page/4/ found 23 links\n",
      "Visited: https://rolisz.ro/tag/diving/ found 9 links\n",
      "Visited: https://rolisz.ro/tag/fail/ found 14 links\n",
      "Status for https://rolisz.ro/2010/11/06/dimensionalitatea-spatiului-timp/: 200 OK\n",
      "Visited: https://rolisz.ro/tag/holiday/ found 11 links\n",
      "Visited: https://rolisz.ro/2013/11/03/nablopomo/ found 12 links\n",
      "Status for https://rolisz.ro/tag/skiing/: 200 OK\n",
      "Status for https://rolisz.ro/2010/12/20/rapirea-lui-mos-craciun-de-catre-teroristi/: 200 OK\n",
      "Status for https://rolisz.ro/2012/02/10/statistici-ac/: 404 Not Found\n",
      "Visited: https://rolisz.ro/2012/02/10/statistici-ac/ found 0 links\n",
      "Status for https://rolisz.ro/2011/10/07/facultate-first-impressions/: 200 OK\n",
      "Status for https://rolisz.ro/tag/orange/: 200 OK\n",
      "Visited: https://rolisz.ro/2010/12/17/tron-evolution/ found 14 links\n",
      "Status for https://rolisz.ro/2012/10/11/anul-2/: 200 OK\n",
      "Visited: https://rolisz.ro/tag/skiing/ found 10 links\n",
      "Visited: https://rolisz.ro/2010/11/06/dimensionalitatea-spatiului-timp/ found 14 links\n",
      "Status for https://rolisz.ro/2011/04/10/infomatrix/: 200 OK\n",
      "Status for https://rolisz.ro/tag/sports/: 200 OK\n",
      "Visited: https://rolisz.ro/2010/12/20/rapirea-lui-mos-craciun-de-catre-teroristi/ found 11 links\n",
      "Visited: https://rolisz.ro/tag/orange/ found 11 links\n",
      "Status for https://rolisz.ro/2010/11/23/burg/: 404 Not Found\n",
      "Visited: https://rolisz.ro/2010/11/23/burg/ found 0 links\n",
      "Status for https://rolisz.ro/2011/01/07/the-social-network/: 200 OK\n",
      "Visited: https://rolisz.ro/2011/10/07/facultate-first-impressions/ found 14 links\n",
      "Visited: https://rolisz.ro/2012/10/11/anul-2/ found 14 links\n",
      "Visited: https://rolisz.ro/tag/sports/ found 10 links\n",
      "Status for https://rolisz.ro/2014/03/28/2048/: 200 OK\n",
      "Status for https://rolisz.ro/2010/12/22/eliberarea-lui-mos-craciun/: 200 OK\n",
      "Status for https://rolisz.ro/2014/10/11/best-workout/: 200 OK\n",
      "Visited: https://rolisz.ro/2011/04/10/infomatrix/ found 14 links\n",
      "Status for https://rolisz.ro/2011/10/08/filmele-verii/: 200 OK\n",
      "Status for https://rolisz.ro/2012/10/21/harap-alb-continua/: 200 OK\n",
      "Status for https://rolisz.ro/2014/11/09/rabechilbi/: 200 OK\n",
      "Visited: https://rolisz.ro/2011/01/07/the-social-network/ found 14 links\n",
      "Visited: https://rolisz.ro/2014/10/11/best-workout/ found 11 links\n",
      "Status for https://rolisz.ro/2012/06/04/latex-in-romana/: 200 OK\n",
      "Visited: https://rolisz.ro/2014/03/28/2048/ found 13 links\n",
      "Visited: https://rolisz.ro/2010/12/22/eliberarea-lui-mos-craciun/ found 11 links\n",
      "Status for https://rolisz.ro/2013/11/28/roboti-inteligenti/: 200 OK\n",
      "Visited: https://rolisz.ro/2012/10/21/harap-alb-continua/ found 14 links\n",
      "Visited: https://rolisz.ro/2011/10/08/filmele-verii/ found 14 links\n",
      "Status for https://rolisz.ro/tag/cardboard/: 200 OK\n",
      "Status for https://rolisz.ro/2010/11/21/need-for-speed-hot-pursuit/: 200 OK\n",
      "Visited: https://rolisz.ro/2014/11/09/rabechilbi/ found 14 links\n",
      "Status for https://rolisz.ro/2010/06/26/pillars-of-the-earth/: 404 Not Found\n",
      "Status for https://rolisz.ro/author/rolisz/page/5/: 200 OK\n",
      "Visited: https://rolisz.ro/2010/06/26/pillars-of-the-earth/ found 0 links\n",
      "Status for https://rolisz.ro/tag/php/: 200 OK\n",
      "Visited: https://rolisz.ro/2012/06/04/latex-in-romana/ found 11 links\n",
      "Visited: https://rolisz.ro/tag/cardboard/ found 9 links\n",
      "Visited: https://rolisz.ro/2013/11/28/roboti-inteligenti/ found 14 links\n",
      "Status for https://rolisz.ro/2012/06/18/examen-poo-grupa-211-215/: 404 Not Found\n",
      "Visited: https://rolisz.ro/2012/06/18/examen-poo-grupa-211-215/ found 0 links\n",
      "Status for https://rolisz.ro/2011/03/17/adblocking/: 200 OK\n",
      "Status for https://rolisz.ro/tag/geneva/: 200 OK\n",
      "Visited: https://rolisz.ro/tag/php/ found 10 links\n",
      "Visited: https://rolisz.ro/author/rolisz/page/5/ found 35 links\n",
      "Status for https://rolisz.ro/2012/01/07/redirecting-python-output-from-the-command-line/: 200 OK\n",
      "Visited: https://rolisz.ro/2010/11/21/need-for-speed-hot-pursuit/ found 14 links\n",
      "Status for https://rolisz.ro/tag/voting/: 200 OK\n",
      "Status for https://rolisz.ro/2012/02/11/statistici-fp/: 404 Not Found\n",
      "Visited: https://rolisz.ro/2012/02/11/statistici-fp/ found 0 links\n",
      "Status for https://rolisz.ro/tag/philosophy/: 200 OK\n",
      "Status for https://rolisz.ro/2014/01/17/today-software-magazine/: 200 OK\n",
      "Status for https://rolisz.ro/2016/09/17/good-bye-alida/amp/: 200 OK\n",
      "Visited: https://rolisz.ro/tag/geneva/ found 10 links\n"
     ]
    },
    {
     "name": "stdout",
     "output_type": "stream",
     "text": [
      "Visited: https://rolisz.ro/2011/03/17/adblocking/ found 11 links\n",
      "Status for https://rolisz.ro/2010/07/29/bancuri-bilingve/: 200 OK\n",
      "Visited: https://rolisz.ro/tag/voting/ found 11 links\n",
      "Visited: https://rolisz.ro/2016/09/17/good-bye-alida/amp/ found 3 links\n",
      "Visited: https://rolisz.ro/2012/01/07/redirecting-python-output-from-the-command-line/ found 14 links\n",
      "Status for https://rolisz.ro/2015/06/12/trip-to-dublin/amp/: 200 OK\n",
      "Visited: https://rolisz.ro/tag/philosophy/ found 11 links\n",
      "Status for https://rolisz.ro/2013/11/21/cmd-line-batch-installer/: 404 Not Found\n",
      "Visited: https://rolisz.ro/2013/11/21/cmd-line-batch-installer/ found 0 links\n",
      "Status for https://rolisz.ro/2012/03/17/mass-effect-3/: 200 OK\n",
      "Status for https://rolisz.ro/2012/03/03/viata-de-student-desert/: 200 OK\n",
      "Status for https://rolisz.ro/2013/12/06/wireshark-and-amazon-swf/: 200 OK\n",
      "Visited: https://rolisz.ro/2014/01/17/today-software-magazine/ found 14 links\n",
      "Visited: https://rolisz.ro/2015/06/12/trip-to-dublin/amp/ found 3 links\n",
      "Status for https://rolisz.ro/2010/06/11/the-end-of-school/: 200 OK\n",
      "Status for https://rolisz.ro/2014/11/14/an-analysis-of-the-biasing-in-my-friendship-selection-process/: 200 OK\n",
      "Visited: https://rolisz.ro/2010/07/29/bancuri-bilingve/ found 11 links\n",
      "Status for https://rolisz.ro/tag/competition/: 200 OK\n",
      "Status for https://rolisz.ro/2012/06/05/subiecte-la-so/: 404 Not Found\n",
      "Visited: https://rolisz.ro/2012/06/05/subiecte-la-so/ found 0 links\n",
      "Visited: https://rolisz.ro/2012/03/03/viata-de-student-desert/ found 14 links\n",
      "Status for https://rolisz.ro/2011/09/08/diaspora/: 200 OK\n",
      "Visited: https://rolisz.ro/2013/12/06/wireshark-and-amazon-swf/ found 11 links\n",
      "Visited: https://rolisz.ro/2012/03/17/mass-effect-3/ found 14 links\n",
      "Status for https://rolisz.ro/2011/08/25/sibiu-fosta-capitala-culturala-europeana/: 200 OK\n",
      "Visited: https://rolisz.ro/2014/11/14/an-analysis-of-the-biasing-in-my-friendship-selection-process/ found 13 links\n",
      "Visited: https://rolisz.ro/2010/06/11/the-end-of-school/ found 14 links\n",
      "Status for https://rolisz.ro/2016/04/24/musings-about-free-will/: 200 OK\n",
      "Status for https://rolisz.ro/2010/11/07/orange-boston-part-deux/: 200 OK\n",
      "Visited: https://rolisz.ro/tag/competition/ found 16 links\n",
      "Status for https://rolisz.ro/tag/cooking/: 200 OK\n",
      "Status for https://rolisz.ro/2011/07/10/google/: 200 OK\n",
      "Status for https://rolisz.ro/tag/selfies/: 200 OK\n",
      "Status for https://rolisz.ro/tag/zurich/: 200 OK\n",
      "Visited: https://rolisz.ro/2011/09/08/diaspora/ found 14 links\n",
      "Visited: https://rolisz.ro/2011/08/25/sibiu-fosta-capitala-culturala-europeana/ found 14 links\n",
      "Visited: https://rolisz.ro/2016/04/24/musings-about-free-will/ found 13 links\n",
      "Visited: https://rolisz.ro/tag/cooking/ found 10 links\n",
      "Visited: https://rolisz.ro/2010/11/07/orange-boston-part-deux/ found 13 links\n",
      "Visited: https://rolisz.ro/tag/selfies/ found 10 links\n",
      "Status for https://rolisz.ro/2014/11/05/going-to-vote/: 200 OK\n",
      "Visited: https://rolisz.ro/tag/zurich/ found 26 links\n",
      "Visited: https://rolisz.ro/2011/07/10/google/ found 14 links\n",
      "Status for https://rolisz.ro/tag/bike/: 200 OK\n",
      "Status for https://rolisz.ro/2010/11/27/the-expendables/: 200 OK\n",
      "Status for https://rolisz.ro/2012/03/03/filmele-iernii/: 200 OK\n",
      "Status for https://rolisz.ro/2012/06/03/cu-bita-prin-cluj/: 200 OK\n",
      "Status for https://rolisz.ro/2010/11/20/arduino/: 200 OK\n",
      "Status for https://rolisz.ro/2010/12/15/andrei-plesu/: 200 OK\n",
      "Visited: https://rolisz.ro/tag/bike/ found 10 links\n",
      "Visited: https://rolisz.ro/2014/11/05/going-to-vote/ found 13 links\n",
      "Visited: https://rolisz.ro/2010/11/27/the-expendables/ found 14 links\n",
      "Visited: https://rolisz.ro/2012/03/03/filmele-iernii/ found 14 links\n",
      "Status for https://rolisz.ro/2012/05/02/cititul-e-fun/: 200 OK\n",
      "Status for https://rolisz.ro/2012/03/24/educatie-online/: 200 OK\n",
      "Visited: https://rolisz.ro/2012/06/03/cu-bita-prin-cluj/ found 13 links\n",
      "Status for https://rolisz.ro/2016/07/23/50-days-of-roland/amp/: 200 OK\n",
      "Visited: https://rolisz.ro/2010/12/15/andrei-plesu/ found 11 links\n",
      "Visited: https://rolisz.ro/2010/11/20/arduino/ found 14 links\n",
      "Status for https://rolisz.ro/2014/02/12/ubbots-2014/: 200 OK\n",
      "Status for https://rolisz.ro/2014/05/13/ghid-optionale-ubb-info/: 200 OK\n",
      "Visited: https://rolisz.ro/2016/07/23/50-days-of-roland/amp/ found 3 links\n",
      "Status for https://rolisz.ro/2011/02/08/windows-7-take-ownership/: 200 OK\n",
      "Status for https://rolisz.ro/2010/12/01/experienta-mea-cu-linux-part-3/amp/: 200 OK\n",
      "Status for https://rolisz.ro/2011/12/27/vacanta/: 200 OK\n",
      "Visited: https://rolisz.ro/2012/03/24/educatie-online/ found 14 links\n",
      "Status for https://rolisz.ro/2011/03/20/how-to-setup-phpunit-on-wamp/: 404 Not Found\n",
      "Visited: https://rolisz.ro/2011/03/20/how-to-setup-phpunit-on-wamp/ found 0 links\n",
      "Visited: https://rolisz.ro/2010/12/01/experienta-mea-cu-linux-part-3/amp/ found 3 links\n",
      "Visited: https://rolisz.ro/2014/05/13/ghid-optionale-ubb-info/ found 13 links\n",
      "Visited: https://rolisz.ro/2012/05/02/cititul-e-fun/ found 14 links\n",
      "Visited: https://rolisz.ro/2014/02/12/ubbots-2014/ found 14 links\n",
      "Visited: https://rolisz.ro/2011/02/08/windows-7-take-ownership/ found 14 links\n",
      "Status for https://rolisz.ro/tag/mass-effect/: 200 OK\n",
      "Status for https://rolisz.ro/2011/09/17/horvath-janos-iskolacsoport-megnyitasa/: 200 OK\n",
      "Visited: https://rolisz.ro/2011/12/27/vacanta/ found 12 links\n",
      "Status for https://rolisz.ro/tag/statistici/: 200 OK\n",
      "Status for https://rolisz.ro/tag/birthday/: 200 OK\n",
      "Status for https://rolisz.ro/page/6/: 200 OK\n",
      "Visited: https://rolisz.ro/tag/mass-effect/ found 11 links\n",
      "Visited: https://rolisz.ro/2011/09/17/horvath-janos-iskolacsoport-megnyitasa/ found 13 links\n",
      "Visited: https://rolisz.ro/tag/statistici/ found 11 links\n",
      "Visited: https://rolisz.ro/tag/birthday/ found 15 links\n",
      "Visited: https://rolisz.ro/page/6/ found 35 links\n",
      "New urls: 22\n",
      "Status for https://rolisz.ro/tag/ads/: 200 OK\n",
      "Status for https://rolisz.ro/2010/06/08/iphone-4/: 200 OK\n",
      "Status for https://rolisz.ro/tag/school/: 200 OK\n",
      "Status for https://rolisz.ro/tag/poetry/: 200 OK\n",
      "Status for https://rolisz.ro/tag/interview/: 200 OK\n",
      "Status for https://rolisz.ro/page/7/: 200 OK\n",
      "Status for https://rolisz.ro/tag/ubb/: 200 OK\n",
      "Status for https://rolisz.ro/tag/andrei-plesu/: 200 OK\n",
      "Visited: https://rolisz.ro/tag/school/ found 11 links\n",
      "Visited: https://rolisz.ro/tag/ads/ found 9 links\n",
      "Visited: https://rolisz.ro/tag/interview/ found 11 links\n",
      "Visited: https://rolisz.ro/tag/poetry/ found 9 links\n",
      "Visited: https://rolisz.ro/2010/06/08/iphone-4/ found 14 links\n",
      "Visited: https://rolisz.ro/tag/ubb/ found 11 links\n",
      "Visited: https://rolisz.ro/page/7/ found 35 links\n",
      "Status for https://rolisz.ro/2012/10/17/smenu-balinez-cu-lumanarea/: 200 OK\n",
      "Status for https://rolisz.ro/tag/latex/: 200 OK\n",
      "Visited: https://rolisz.ro/tag/andrei-plesu/ found 9 links\n",
      "Status for https://rolisz.ro/tag/compiling/: 200 OK\n",
      "Status for https://rolisz.ro/tag/biking/: 200 OK\n",
      "Status for https://rolisz.ro/tag/google/: 200 OK\n",
      "Status for https://rolisz.ro/tag/workout/: 200 OK\n",
      "Status for https://rolisz.ro/tag/electronics/: 200 OK\n",
      "Visited: https://rolisz.ro/tag/latex/ found 9 links\n",
      "Status for https://rolisz.ro/tag/cnog/: 200 OK\n",
      "Visited: https://rolisz.ro/tag/biking/ found 11 links\n",
      "Visited: https://rolisz.ro/tag/google/ found 14 links\n",
      "Visited: https://rolisz.ro/tag/compiling/ found 10 links\n",
      "Visited: https://rolisz.ro/tag/workout/ found 9 links\n",
      "Visited: https://rolisz.ro/tag/electronics/ found 13 links\n",
      "Visited: https://rolisz.ro/2012/10/17/smenu-balinez-cu-lumanarea/ found 14 links\n",
      "Status for https://rolisz.ro/2010/06/08/borderlands/: 200 OK\n",
      "Status for https://rolisz.ro/tag/bancuri/: 200 OK\n",
      "Status for https://rolisz.ro/tag/wireshark/: 200 OK\n",
      "Visited: https://rolisz.ro/tag/cnog/ found 10 links\n",
      "Status for https://rolisz.ro/tag/politics/: 200 OK\n",
      "Status for https://rolisz.ro/tag/kitchen/: 200 OK\n",
      "Status for https://rolisz.ro/author/rolisz/page/6/: 200 OK\n",
      "Visited: https://rolisz.ro/tag/bancuri/ found 9 links\n",
      "Visited: https://rolisz.ro/tag/wireshark/ found 9 links\n",
      "Visited: https://rolisz.ro/tag/politics/ found 11 links\n",
      "Visited: https://rolisz.ro/2010/06/08/borderlands/ found 13 links\n",
      "Visited: https://rolisz.ro/tag/kitchen/ found 12 links\n",
      "Visited: https://rolisz.ro/author/rolisz/page/6/ found 35 links\n",
      "New urls: 3\n",
      "Status for https://rolisz.ro/tag/fun/: 200 OK\n"
     ]
    },
    {
     "name": "stdout",
     "output_type": "stream",
     "text": [
      "Status for https://rolisz.ro/page/8/: 200 OK\n",
      "Status for https://rolisz.ro/author/rolisz/page/7/: 200 OK\n",
      "Visited: https://rolisz.ro/tag/fun/ found 26 links\n",
      "Visited: https://rolisz.ro/author/rolisz/page/7/ found 35 links\n",
      "Visited: https://rolisz.ro/page/8/ found 35 links\n",
      "New urls: 2\n",
      "Status for https://rolisz.ro/author/rolisz/page/8/: 200 OK\n",
      "Status for https://rolisz.ro/page/9/: 200 OK\n",
      "Visited: https://rolisz.ro/author/rolisz/page/8/ found 35 links\n",
      "Visited: https://rolisz.ro/page/9/ found 35 links\n",
      "New urls: 2\n",
      "Status for https://rolisz.ro/page/10/: 200 OK\n",
      "Status for https://rolisz.ro/author/rolisz/page/9/: 200 OK\n",
      "Visited: https://rolisz.ro/author/rolisz/page/9/ found 35 links\n",
      "Visited: https://rolisz.ro/page/10/ found 35 links\n",
      "New urls: 2\n",
      "Status for https://rolisz.ro/page/11/: 200 OK\n",
      "Status for https://rolisz.ro/author/rolisz/page/10/: 200 OK\n",
      "Visited: https://rolisz.ro/author/rolisz/page/10/ found 35 links\n",
      "Visited: https://rolisz.ro/page/11/ found 35 links\n",
      "New urls: 2\n",
      "Status for https://rolisz.ro/page/12/: 200 OK\n",
      "Status for https://rolisz.ro/author/rolisz/page/11/: 200 OK\n",
      "Visited: https://rolisz.ro/author/rolisz/page/11/ found 35 links\n",
      "Visited: https://rolisz.ro/page/12/ found 35 links\n",
      "New urls: 2\n",
      "Status for https://rolisz.ro/page/13/: 200 OK\n",
      "Status for https://rolisz.ro/author/rolisz/page/12/: 200 OK\n",
      "Visited: https://rolisz.ro/author/rolisz/page/12/ found 35 links\n",
      "Visited: https://rolisz.ro/page/13/ found 35 links\n",
      "New urls: 2\n",
      "Status for https://rolisz.ro/page/14/: 200 OK\n",
      "Status for https://rolisz.ro/author/rolisz/page/13/: 200 OK\n",
      "Visited: https://rolisz.ro/author/rolisz/page/13/ found 35 links\n",
      "Visited: https://rolisz.ro/page/14/ found 35 links\n",
      "New urls: 2\n",
      "Status for https://rolisz.ro/author/rolisz/page/14/: 200 OK\n",
      "Status for https://rolisz.ro/page/15/: 200 OK\n",
      "Visited: https://rolisz.ro/author/rolisz/page/14/ found 35 links\n",
      "Visited: https://rolisz.ro/page/15/ found 35 links\n",
      "New urls: 2\n",
      "Status for https://rolisz.ro/page/16/: 200 OK\n",
      "Status for https://rolisz.ro/author/rolisz/page/15/: 200 OK\n",
      "Visited: https://rolisz.ro/author/rolisz/page/15/ found 35 links\n",
      "Visited: https://rolisz.ro/page/16/ found 12 links\n",
      "New urls: 1\n",
      "Status for https://rolisz.ro/author/rolisz/page/16/: 200 OK\n",
      "Visited: https://rolisz.ro/author/rolisz/page/16/ found 12 links\n",
      "New urls: 0\n",
      "URLs: {\n",
      "    \"https://rolisz.ro/2020/06/14/operating-system-journey/\",\n",
      "    \"https://rolisz.ro/2020/05/09/the-beauty-of-suncuius-part-2/\",\n",
      "    \"https://rolisz.ro/2020/06/15/how-much-does-it-cost-to-run-this-blog/\",\n",
      "    \"https://rolisz.ro/2020/05/26/duckduckgo/\",\n",
      "    \"https://rolisz.ro/page/2/\",\n",
      "    \"https://rolisz.ro/about-me/\",\n",
      "    \"https://rolisz.ro/2020/05/11/quarantine-boardgames-plague-inc/\",\n",
      "    \"https://rolisz.ro/2020/06/01/yard-work/\",\n",
      "    \"https://rolisz.ro/2020/05/24/bullet-journaling/\",\n",
      "    \"https://rolisz.ro/2020/05/19/bridging-networks-with-a-synology-nas/\",\n",
      "    \"https://rolisz.ro/2020/05/20/about-time/\",\n",
      "    \"https://rolisz.ro/2020/05/07/splitting-up-my-blog/\",\n",
      "    \"https://rolisz.ro/2020/06/08/boardgames-party-codenames/\",\n",
      "    \"https://rolisz.ro/2020/05/06/connecting-to-azure-pypi-repositories/\",\n",
      "    \"https://rolisz.ro/2020/06/02/quarantine-boardgames-pandemic/\",\n",
      "    \"https://rolisz.ro/rss/\",\n",
      "    \"https://rolisz.ro/author/rolisz/\",\n",
      "    \"https://rolisz.ro/2020/06/08/happy-decennial/\",\n",
      "    \"https://rolisz.ro/2020/05/18/an-unexpected-error-in-rust/\",\n",
      "    \"https://rolisz.ro/projects/\",\n",
      "    \"https://rolisz.ro/2020/05/12/productivity-tips-pomodoros/\",\n",
      "    \"https://rolisz.ro/2020/06/07/new-desk-setup/\",\n",
      "    \"https://rolisz.ro/2020/05/08/on-text-editors/\",\n",
      "    \"https://rolisz.ro/2020/05/05/why-i-blog/\",\n",
      "    \"https://rolisz.ro/tech/rss/\",\n",
      "    \"https://rolisz.ro/2020/06/27/pixel-3a/\",\n",
      "    \"https://rolisz.ro/2020/05/15/context-variables-in-python/\",\n",
      "    \"https://rolisz.ro/2020/05/13/adding-search-to-static-ghost/\",\n",
      "    \"https://rolisz.ro/personal/rss/\",\n",
      "    \"https://rolisz.ro/2020/05/14/travelers/\",\n",
      "    \"https://rolisz.ro/2020/05/16/quarantine-boardgames-itchy-feet/\",\n",
      "    \"https://rolisz.ro/uses/\",\n",
      "    \"https://rolisz.ro/2020/06/10/playing-codenames-with-rust/\",\n",
      "}\n",
      "6\n"
     ]
    },
    {
     "data": {
      "text/plain": [
       "()"
      ]
     },
     "execution_count": 48,
     "metadata": {},
     "output_type": "execute_result"
    }
   ],
   "source": [
    "use rayon::prelude::*;\n",
    "use std::time::{Duration, Instant};\n",
    "\n",
    "fn main() {\n",
    "    let now = Instant::now();\n",
    "\n",
    "    let client = reqwest::blocking::Client::new();\n",
    "    let origin_url = \"https://rolisz.ro/\";\n",
    "\n",
    "    let body = fetch_url(&client, origin_url);\n",
    "\n",
    "    write_file(\"\", &body);\n",
    "    let mut visited = HashSet::new();\n",
    "    visited.insert(origin_url.to_string());\n",
    "    let found_urls = get_links_from_html(&body);\n",
    "    let mut new_urls = found_urls\n",
    "        .difference(&visited)\n",
    "        .map(|x| x.to_string())\n",
    "        .collect::<HashSet<String>>();\n",
    "\n",
    "    while !new_urls.is_empty() {\n",
    "        let found_urls: HashSet<String> = new_urls\n",
    "            .par_iter()\n",
    "            .map(|url| {\n",
    "                let body = fetch_url(&client, url);\n",
    "                write_file(&url[origin_url.len() - 1..], &body);\n",
    "\n",
    "                let links = get_links_from_html(&body);\n",
    "                println!(\"Visited: {} found {} links\", url, links.len());\n",
    "                links\n",
    "            })\n",
    "            .reduce(HashSet::new, |mut acc, x| {\n",
    "                acc.extend(x);\n",
    "                acc\n",
    "            });\n",
    "        visited.extend(new_urls);\n",
    "        new_urls = found_urls\n",
    "            .difference(&visited)\n",
    "            .map(|x| x.to_string())\n",
    "            .collect::<HashSet<String>>();\n",
    "        println!(\"New urls: {}\", new_urls.len())\n",
    "    }\n",
    "    println!(\"URLs: {:#?}\", found_urls);\n",
    "    println!(\"{}\", now.elapsed().as_secs());\n",
    "}\n",
    "main()"
   ]
  },
  {
   "cell_type": "markdown",
   "metadata": {
    "slideshow": {
     "slide_type": "slide"
    }
   },
   "source": [
    "## A 3x speedup, from 30 seconds to 8 seconds, with 3 lines changed. \n",
    "\n",
    "* Rust guarantees that this is still correct and no data races occur. "
   ]
  },
  {
   "cell_type": "markdown",
   "metadata": {
    "slideshow": {
     "slide_type": "slide"
    }
   },
   "source": [
    "# Questions?"
   ]
  },
  {
   "cell_type": "markdown",
   "metadata": {
    "slideshow": {
     "slide_type": "slide"
    }
   },
   "source": [
    "# Extras"
   ]
  },
  {
   "cell_type": "markdown",
   "metadata": {
    "slideshow": {
     "slide_type": "slide"
    }
   },
   "source": [
    "## Command line options"
   ]
  },
  {
   "cell_type": "code",
   "execution_count": 82,
   "metadata": {
    "slideshow": {
     "slide_type": "slide"
    }
   },
   "outputs": [],
   "source": [
    "use structopt::StructOpt;\n",
    "\n",
    "#[derive(StructOpt, Debug)]\n",
    "#[structopt(version = \"1.0\", author = \"rolisz\")]\n",
    "struct Opts {\n",
    "    url: String,\n",
    "    #[structopt(short, long, default_value = \"4\")]\n",
    "    num_threads: usize,\n",
    "    #[structopt(short, long, parse(from_occurrences))]\n",
    "    verbose: i32,\n",
    "    #[structopt(long)]\n",
    "    dry_run: bool\n",
    "}"
   ]
  },
  {
   "cell_type": "code",
   "execution_count": 85,
   "metadata": {},
   "outputs": [
    {
     "data": {
      "text/plain": [
       "Opts { url: \"rolisz.ro\", num_threads: 8, verbose: 0, dry_run: true }"
      ]
     },
     "execution_count": 85,
     "metadata": {},
     "output_type": "execute_result"
    }
   ],
   "source": [
    "let opt = Opts::from_iter(vec![\"crawler\", \"--num-threads\", \"8\", \"--dry-run\", \"rolisz.ro\"]);\n",
    "opt"
   ]
  },
  {
   "cell_type": "markdown",
   "metadata": {
    "slideshow": {
     "slide_type": "slide"
    }
   },
   "source": [
    "## Proper error handling"
   ]
  },
  {
   "cell_type": "code",
   "execution_count": 51,
   "metadata": {
    "slideshow": {
     "slide_type": "slide"
    }
   },
   "outputs": [],
   "source": [
    "use std::io::Error as IoErr;\n",
    "#[derive(Debug)]\n",
    "enum Error {\n",
    "    Write { url: String, e: IoErr },\n",
    "    Fetch { url: String, e: reqwest::Error },\n",
    "}\n",
    "type Result<T> = std::result::Result<T, Error>;"
   ]
  },
  {
   "cell_type": "code",
   "execution_count": 52,
   "metadata": {
    "slideshow": {
     "slide_type": "subslide"
    }
   },
   "outputs": [],
   "source": [
    "impl<S: AsRef<str>> From<(S, IoErr)> for Error {\n",
    "    fn from((url, e): (S, IoErr)) -> Self {\n",
    "        Error::Write {\n",
    "            url: url.as_ref().to_string(),\n",
    "            e,\n",
    "        }\n",
    "    }\n",
    "}\n",
    "\n",
    "impl<S: AsRef<str>> From<(S, reqwest::Error)> for Error {\n",
    "    fn from((url, e): (S, reqwest::Error)) -> Self {\n",
    "        Error::Fetch {\n",
    "            url: url.as_ref().to_string(),\n",
    "            e,\n",
    "        }\n",
    "    }\n",
    "}"
   ]
  },
  {
   "cell_type": "code",
   "execution_count": 55,
   "metadata": {
    "collapsed": true,
    "slideshow": {
     "slide_type": "subslide"
    }
   },
   "outputs": [
    {
     "ename": "Error",
     "evalue": "mismatched types",
     "output_type": "error",
     "traceback": [
      "    write_file(\"\", &body);",
      "\u001b[91m                   ^^^^^\u001b[0m \u001b[94mexpected `str`, found enum `std::result::Result`\u001b[0m",
      "mismatched types"
     ]
    },
    {
     "ename": "Error",
     "evalue": "mismatched types",
     "output_type": "error",
     "traceback": [
      "    let found_urls = get_links_from_html(&body);",
      "\u001b[91m                                         ^^^^^\u001b[0m \u001b[94mexpected `str`, found enum `std::result::Result`\u001b[0m",
      "mismatched types"
     ]
    },
    {
     "ename": "Error",
     "evalue": "mismatched types",
     "output_type": "error",
     "traceback": [
      "                write_file(&url[origin_url.len() - 1..], &body);",
      "\u001b[91m                                                         ^^^^^\u001b[0m \u001b[94mexpected `str`, found enum `std::result::Result`\u001b[0m",
      "mismatched types"
     ]
    },
    {
     "ename": "Error",
     "evalue": "mismatched types",
     "output_type": "error",
     "traceback": [
      "                let links = get_links_from_html(&body);",
      "\u001b[91m                                                ^^^^^\u001b[0m \u001b[94mexpected `str`, found enum `std::result::Result`\u001b[0m",
      "mismatched types"
     ]
    }
   ],
   "source": [
    "fn fetch_url(client: &reqwest::blocking::Client, url: &str) -> Result<String> {\n",
    "    let mut res = client.get(url).send().map_err(|e| (url, e))?;\n",
    "    println!(\"Status for {}: {}\", url, res.status());\n",
    "\n",
    "    let mut body = String::new();\n",
    "    res.read_to_string(&mut body).map_err(|e| (url, e))?;\n",
    "    Ok(body)\n",
    "}"
   ]
  },
  {
   "cell_type": "code",
   "execution_count": 54,
   "metadata": {
    "slideshow": {
     "slide_type": "subslide"
    }
   },
   "outputs": [],
   "source": [
    "\n",
    "fn write_file(path: &str, content: &str) -> Result<()> {\n",
    "    let dir = format!(\"static{}\", path);\n",
    "    fs::create_dir_all(format!(\"static{}\", path)).map_err(|e| (&dir, e))?;\n",
    "    let index = format!(\"static{}/index.html\", path);\n",
    "    fs::write(&index, content).map_err(|e| (&index, e))?;\n",
    "\n",
    "    Ok(())\n",
    "}"
   ]
  },
  {
   "cell_type": "code",
   "execution_count": null,
   "metadata": {
    "slideshow": {
     "slide_type": "slide"
    }
   },
   "outputs": [],
   "source": [
    " let (found_urls, errors): (Vec<Result<HashSet<String>>>, Vec<_>) = new_urls\n",
    "            .par_iter()\n",
    "            .map(|url| -> Result<HashSet<String>> {\n",
    "                let body = fetch_url(&client, url)?;\n",
    "                write_file(&url[origin_url.len() - 1..], &body)?;\n",
    "\n",
    "                let links = get_links_from_html(&body);\n",
    "                println!(\"Visited: {} found {} links\", url, links.len());\n",
    "                Ok(links)\n",
    "            })\n",
    "            .partition(Result::is_ok);"
   ]
  },
  {
   "cell_type": "code",
   "execution_count": null,
   "metadata": {
    "slideshow": {
     "slide_type": "subslide"
    }
   },
   "outputs": [],
   "source": [
    " visited.extend(new_urls);\n",
    "        new_urls = found_urls\n",
    "            .into_par_iter()\n",
    "            .map(Result::unwrap)\n",
    "            .reduce(HashSet::new, |mut acc, x| {\n",
    "                acc.extend(x);\n",
    "                acc\n",
    "            })\n",
    "            .difference(&visited)\n",
    "            .map(|x| x.to_string())\n",
    "            .collect::<HashSet<String>>();\n",
    "        println!(\"New urls: {}\", new_urls.len());"
   ]
  },
  {
   "cell_type": "code",
   "execution_count": null,
   "metadata": {
    "slideshow": {
     "slide_type": "subslide"
    }
   },
   "outputs": [],
   "source": [
    "println!(\n",
    "            \"Errors: {:#?}\",\n",
    "            errors\n",
    "                .into_iter()\n",
    "                .map(Result::unwrap_err)\n",
    "                .collect::<Vec<Error>>()\n",
    "        )"
   ]
  }
 ],
 "metadata": {
  "celltoolbar": "Slideshow",
  "kernelspec": {
   "display_name": "Rust",
   "language": "rust",
   "name": "rust"
  },
  "language_info": {
   "codemirror_mode": "rust",
   "file_extension": ".rs",
   "mimetype": "text/rust",
   "name": "Rust",
   "pygment_lexer": "rust",
   "version": ""
  }
 },
 "nbformat": 4,
 "nbformat_minor": 4
}
