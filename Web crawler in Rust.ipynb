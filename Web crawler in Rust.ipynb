{
 "cells": [
  {
   "cell_type": "code",
   "execution_count": 7,
   "metadata": {},
   "outputs": [],
   "source": [
    "use std::io::Read;\n",
    "use reqwest::Url;\n",
    "use reqwest::blocking::Response;\n",
    "\n",
    "fn main() {\n",
    "    let client = reqwest::blocking::Client::new();\n",
    "    let origin_url = \"https://rolisz.ro/\";\n",
    "    let mut res = client.get(origin_url).send().unwrap();\n",
    "    println!(\"Status for {}: {}\", origin_url, res.status());\n",
    "\n",
    "    let mut body  = String::new();\n",
    "    res.read_to_string(&mut body).unwrap();\n",
    "    println!(\"HTML: {}\", &body[0..40]);\n",
    "}\n"
   ]
  },
  {
   "cell_type": "code",
   "execution_count": 6,
   "metadata": {},
   "outputs": [],
   "source": [
    ":dep reqwest = { version = \"0.10\", features = [\"json\", \"blocking\"] }"
   ]
  },
  {
   "cell_type": "code",
   "execution_count": 8,
   "metadata": {},
   "outputs": [
    {
     "name": "stdout",
     "output_type": "stream",
     "text": [
      "Status for https://rolisz.ro/: 200 OK\n",
      "HTML: <!DOCTYPE html>\n",
      "<html lang=\"en\">\n",
      "<head\n"
     ]
    },
    {
     "data": {
      "text/plain": [
       "()"
      ]
     },
     "execution_count": 8,
     "metadata": {},
     "output_type": "execute_result"
    }
   ],
   "source": [
    "main()"
   ]
  },
  {
   "cell_type": "code",
   "execution_count": 10,
   "metadata": {},
   "outputs": [],
   "source": [
    ":dep tokio = { version = \"0.2\", features = [\"full\"] }\n",
    ":dep quick-xml = { version = \"*\", features = [ \"serialize\" ] }\n",
    ":dep serde = { version = \"1.0\", features = [ \"derive\" ] }\n",
    ":dep rayon = { version = \"*\" }\n",
    ":dep chrono = { version = \"0.4\", features = [\"serde\"] }\n",
    ":dep select = \"0.4.3\""
   ]
  },
  {
   "cell_type": "code",
   "execution_count": null,
   "metadata": {},
   "outputs": [],
   "source": []
  }
 ],
 "metadata": {
  "kernelspec": {
   "display_name": "Rust",
   "language": "rust",
   "name": "rust"
  },
  "language_info": {
   "codemirror_mode": "rust",
   "file_extension": ".rs",
   "mimetype": "text/rust",
   "name": "Rust",
   "pygment_lexer": "rust",
   "version": ""
  }
 },
 "nbformat": 4,
 "nbformat_minor": 4
}
